{
 "cells": [
  {
   "cell_type": "code",
   "execution_count": 1,
   "id": "4c5f9c45",
   "metadata": {},
   "outputs": [
    {
     "name": "stdout",
     "output_type": "stream",
     "text": [
      "Hello, World!\n"
     ]
    }
   ],
   "source": [
    "print(\"Hello, World!\")"
   ]
  },
  {
   "cell_type": "code",
   "execution_count": 2,
   "id": "9d8279b6",
   "metadata": {},
   "outputs": [
    {
     "name": "stdout",
     "output_type": "stream",
     "text": [
      "{1, 2, 3, 4}\n"
     ]
    }
   ],
   "source": [
    "# set함수는 순서없이 저장, 항목이 중복될 수 없다 but list(리스트)는 중복되더라도 모두 출력\n",
    "s1= set([1,2,3,3,3,4,2])\n",
    "print(s1)"
   ]
  },
  {
   "cell_type": "code",
   "execution_count": 3,
   "id": "83922a36",
   "metadata": {},
   "outputs": [
    {
     "name": "stdout",
     "output_type": "stream",
     "text": [
      "{3, 4, 5}\n"
     ]
    }
   ],
   "source": [
    "s2={3,4,5}\n",
    "print(s2)"
   ]
  },
  {
   "cell_type": "code",
   "execution_count": 4,
   "id": "979e9c78",
   "metadata": {},
   "outputs": [
    {
     "name": "stdout",
     "output_type": "stream",
     "text": [
      "{1, 2, 3, 4, 5}\n",
      "{1, 2, 3, 4, 5, 10}\n",
      "{1, 3, 4, 5, 10}\n",
      "{1, 3, 4, 5, 7, 9, 10}\n",
      "set()\n"
     ]
    }
   ],
   "source": [
    "s={1,2,3,4,5,3,4}\n",
    "print(s)\n",
    "\n",
    "# add함수, 데이터 안에 값 추가 \n",
    "s.add(10)\n",
    "print(s)\n",
    "\n",
    "# remove함수, 데이터 안에 remove 할 값이 없으면 error , discard함수는 없어도 error 안남 \n",
    "s.remove(2)\n",
    "print(s)\n",
    "\n",
    "# update함수, 데이터 추가 \n",
    "s.update([1,3,4,7,9])\n",
    "print(s)\n",
    "\n",
    "# clear함수, 데이터 값 모두제거 \n",
    "s.clear()\n",
    "print(s)"
   ]
  },
  {
   "cell_type": "code",
   "execution_count": 5,
   "id": "14dd4c2d",
   "metadata": {},
   "outputs": [
    {
     "name": "stdout",
     "output_type": "stream",
     "text": [
      "{1, 2, 3, 4, 5}\n",
      "{3}\n",
      "{1, 2}\n",
      "{1, 2, 3, 4, 5}\n",
      "{3}\n",
      "{1, 2}\n"
     ]
    }
   ],
   "source": [
    "s1={1,2,3}\n",
    "s2={3,4,5}\n",
    "\n",
    "#합집합 union, 교집합 intersection 차집합 difference \n",
    "print(s1.union(s2)) #합집합\n",
    "print(s1.intersection(s2)) #교집합\n",
    "print(s1.difference(s2)) #차집합\n",
    "print(s1 | s2) # 합집합\n",
    "print(s1 & s2) #교집합\n",
    "print(s1 - s2) #차집합 "
   ]
  },
  {
   "cell_type": "code",
   "execution_count": 6,
   "id": "36a87d07",
   "metadata": {},
   "outputs": [
    {
     "name": "stdout",
     "output_type": "stream",
     "text": [
      "{75, 45, 15, 90, 60, 30}\n",
      "3과 5의 공배수: 6개\n",
      "{75, 45, 15, 90, 60, 30}\n",
      "3과 5의 공배수: 6개\n",
      "{75, 45, 15, 90, 60, 30}\n"
     ]
    }
   ],
   "source": [
    "#실습 1- 집합 : 1부터 100까지 숫자 중 3과 5의 공배수를 집합 형태로 만들어 아래와 같이 출력하시오(단, 집합의 원소 출력 순서는 다를 수 있음)\n",
    "\n",
    "#풀이1 -조교님 \n",
    "s3=set()\n",
    "s5=set()\n",
    "\n",
    "for i in range(1,101):\n",
    "    if i%3 == 0 :\n",
    "        s3.add(i)\n",
    "    if i%5 == 0 :\n",
    "        s5.add(i)\n",
    "\n",
    "s = s3 & s5\n",
    "\n",
    "print(s)\n",
    "print(\"3과 5의 공배수: %d개\"%(len(s)))\n",
    "\n",
    "#풀이2 - 나 \n",
    "s3=set()\n",
    "s5=set()\n",
    "for i in range (3,101,3) :\n",
    "    s3.add(i)\n",
    "    \n",
    "for i in range (5,101,5) :\n",
    "    s5.add(i)\n",
    "    \n",
    "print(s3 & s5)\n",
    "print(\"3과 5의 공배수: %d개\"%(len(s)))\n",
    "\n",
    "#풀이3\n",
    "s3= set(range(3,101,3))\n",
    "s5= set(range(5,101,5))\n",
    "print(s3&s5)"
   ]
  },
  {
   "cell_type": "markdown",
   "id": "a421558e",
   "metadata": {},
   "source": [
    "## 딕셔너리"
   ]
  },
  {
   "cell_type": "markdown",
   "id": "3274845b",
   "metadata": {},
   "source": [
    "#### 중괄호 {}로 묶여 있으며, key와 value의 쌍으로 이루어짐\n",
    "#### d= {key1 :value1, key2: value2}\n",
    "#### key로 value를 관리\n",
    "#### key는 중복 될 수 없음. ex) 학번, 주민번호\n",
    "#### 항목들 사이에 순서가 없음\n"
   ]
  },
  {
   "cell_type": "code",
   "execution_count": 7,
   "id": "1126e944",
   "metadata": {},
   "outputs": [
    {
     "name": "stdout",
     "output_type": "stream",
     "text": [
      "{'kim': 1, 'park': 2}\n"
     ]
    }
   ],
   "source": [
    "d={}\n",
    "d['kim']=1\n",
    "d['park']=2\n",
    "print(d)"
   ]
  },
  {
   "cell_type": "code",
   "execution_count": 8,
   "id": "79bdceec",
   "metadata": {},
   "outputs": [
    {
     "data": {
      "text/plain": [
       "2"
      ]
     },
     "execution_count": 8,
     "metadata": {},
     "output_type": "execute_result"
    }
   ],
   "source": [
    "d['park'] # 키 값을 사용하여 value에 접근"
   ]
  },
  {
   "cell_type": "code",
   "execution_count": 9,
   "id": "edde0619",
   "metadata": {},
   "outputs": [],
   "source": [
    "d['kim']=3 # 이미 있는 키의 경우 기존 값이 변경된다 "
   ]
  },
  {
   "cell_type": "code",
   "execution_count": 10,
   "id": "a1873f18",
   "metadata": {},
   "outputs": [
    {
     "name": "stdout",
     "output_type": "stream",
     "text": [
      "{'kim': 3, 'park': 2}\n"
     ]
    }
   ],
   "source": [
    "print(d) # 덮어써서 kim이 1에서 3이 되었다"
   ]
  },
  {
   "cell_type": "code",
   "execution_count": 11,
   "id": "fd6ded55",
   "metadata": {},
   "outputs": [
    {
     "name": "stdout",
     "output_type": "stream",
     "text": [
      "HelloHello\n",
      "['H', 'e', 'l', 'l', 'o', 'H', 'e', 'l', 'l', 'o']\n"
     ]
    }
   ],
   "source": [
    "# 문자도 곱하기 가능 \n",
    "word=\"Hello\"*2\n",
    "print(word)\n",
    "\n",
    "# set 형태를 list 형태로 출력 시 중복되도 출력\n",
    "word_list=list(word)\n",
    "print(word_list)"
   ]
  },
  {
   "cell_type": "code",
   "execution_count": 12,
   "id": "020eead8",
   "metadata": {},
   "outputs": [
    {
     "name": "stdout",
     "output_type": "stream",
     "text": [
      "{'kim': 3, 'park': 2, 'youn': 1}\n"
     ]
    }
   ],
   "source": [
    "d['youn']= 1 # 새 항목 추가 \n",
    "print(d)"
   ]
  },
  {
   "cell_type": "code",
   "execution_count": 13,
   "id": "1ff1a539",
   "metadata": {},
   "outputs": [
    {
     "data": {
      "text/plain": [
       "dict_keys(['kim', 'park', 'youn'])"
      ]
     },
     "execution_count": 13,
     "metadata": {},
     "output_type": "execute_result"
    }
   ],
   "source": [
    "d.keys()  # keys 함수는 d 안의 모든 key들만 출력하는 함수 "
   ]
  },
  {
   "cell_type": "code",
   "execution_count": 14,
   "id": "30fde0ef",
   "metadata": {},
   "outputs": [
    {
     "data": {
      "text/plain": [
       "dict_values([3, 2, 1])"
      ]
     },
     "execution_count": 14,
     "metadata": {},
     "output_type": "execute_result"
    }
   ],
   "source": [
    "d.values() # values 함수는 d 안의 모든 value들만 출력하는 함수"
   ]
  },
  {
   "cell_type": "code",
   "execution_count": 15,
   "id": "79b627f4",
   "metadata": {},
   "outputs": [
    {
     "data": {
      "text/plain": [
       "dict_items([('kim', 3), ('park', 2), ('youn', 1)])"
      ]
     },
     "execution_count": 15,
     "metadata": {},
     "output_type": "execute_result"
    }
   ],
   "source": [
    "d.items() # items 함수는 d 안의 모든 key, value들 출력하는 함수"
   ]
  },
  {
   "cell_type": "code",
   "execution_count": 16,
   "id": "9f46baeb",
   "metadata": {},
   "outputs": [
    {
     "data": {
      "text/plain": [
       "True"
      ]
     },
     "execution_count": 16,
     "metadata": {},
     "output_type": "execute_result"
    }
   ],
   "source": [
    "'kim' in d # d 라는 딕셔너리 안에 kim이라는 값이 있는지 True, False 로 볼 수 있음"
   ]
  },
  {
   "cell_type": "code",
   "execution_count": 17,
   "id": "2746a87f",
   "metadata": {},
   "outputs": [
    {
     "name": "stdout",
     "output_type": "stream",
     "text": [
      "{'park': 2, 'youn': 1}\n"
     ]
    }
   ],
   "source": [
    "del d['kim']\n",
    "print(d)  # del 함수를 통해 d안에 kim 을 삭제"
   ]
  },
  {
   "cell_type": "code",
   "execution_count": 18,
   "id": "a8450279",
   "metadata": {},
   "outputs": [
    {
     "name": "stdout",
     "output_type": "stream",
     "text": [
      "{}\n"
     ]
    }
   ],
   "source": [
    "d.clear()\n",
    "print(d)  # clear 함수를 통해 모두 삭제"
   ]
  },
  {
   "cell_type": "code",
   "execution_count": 19,
   "id": "2b5e39bd",
   "metadata": {},
   "outputs": [
    {
     "name": "stdout",
     "output_type": "stream",
     "text": [
      "{'kim': [1, 2, 3]}\n",
      "{'kim': [1, 2, 3, 4]}\n"
     ]
    }
   ],
   "source": [
    "d['kim']=[1,2,3]\n",
    "print(d)\n",
    "d['kim'].append(4)\n",
    "print(d)  # value값을 리스트 형태로 두고 append함수를 통해 추가 시켜주면 추가가 가능하다."
   ]
  },
  {
   "cell_type": "code",
   "execution_count": 20,
   "id": "05e39779",
   "metadata": {},
   "outputs": [
    {
     "name": "stdout",
     "output_type": "stream",
     "text": [
      "{'kim': [1, 2, 3, 4], 5: {1, 2, 3}}\n"
     ]
    }
   ],
   "source": [
    "d[5]=set([1,2,3])\n",
    "print(d) # key값은 숫자도 가능하고, value 값을 set 형태로 사용가능 / key(int,str, tuple 가능 list와 set 불가) : value( list와 set 형태 가능)\n",
    "# immutable(수정 안되는 자료) : int, str, tuple\n",
    "#   mutable(수정 되는 자료) : list, set"
   ]
  },
  {
   "cell_type": "code",
   "execution_count": 21,
   "id": "8e6c25a0",
   "metadata": {},
   "outputs": [
    {
     "name": "stdout",
     "output_type": "stream",
     "text": [
      "3\n",
      "2\n",
      "1\n",
      "3 2 1\n"
     ]
    }
   ],
   "source": [
    "# 실습 2 : for 문을 사용하여 아래 딕셔너리 d의 모든 value를 출력해 보세요.\n",
    "d = {'kim': 3, 'park': 2, 'youn': 1}\n",
    "\n",
    "for i in d.values() :\n",
    "    print(i)\n",
    "\n",
    "print(*d.values()) # *을 붙이면 숫자만 출력 가능 "
   ]
  },
  {
   "cell_type": "code",
   "execution_count": null,
   "id": "746ed792",
   "metadata": {},
   "outputs": [],
   "source": [
    "# 실습 3 :  어떤 문장을 입력 받으면 해당 문장에서 각 문자가 몇 개씩 나오는지 저장하는 딕셔너리를 만든 후, 아래와 같이 출력하시오.\n",
    "\n",
    "#풀이1\n",
    "s= input(\"Enter a sentence: \")\n",
    "d={}\n",
    "for i in s :\n",
    "    if i in d :\n",
    "        d[i]+=1\n",
    "    else :\n",
    "        d[i]= 1\n",
    "        \n",
    "print(d)"
   ]
  },
  {
   "cell_type": "code",
   "execution_count": null,
   "id": "864c5b06",
   "metadata": {},
   "outputs": [],
   "source": [
    "s= input(\"Enter a sentence: \")"
   ]
  },
  {
   "cell_type": "code",
   "execution_count": 23,
   "id": "ae5a1cdd",
   "metadata": {},
   "outputs": [
    {
     "name": "stdout",
     "output_type": "stream",
     "text": [
      "[1, 2, 3, 4, 5]\n",
      "[1, 4, 9, 16, 25]\n"
     ]
    }
   ],
   "source": [
    "L = [i for i in range(1,6)]\n",
    "print(L)\n",
    "\n",
    "L = [i**2 for i in range(1,6)]\n",
    "print(L)\n",
    "\n"
   ]
  },
  {
   "cell_type": "code",
   "execution_count": 24,
   "id": "76314992",
   "metadata": {},
   "outputs": [
    {
     "name": "stdout",
     "output_type": "stream",
     "text": [
      "[4, 16]\n"
     ]
    }
   ],
   "source": [
    "L = [i**2 for i in range(1,6) if i%2 ==0]\n",
    "print(L)"
   ]
  },
  {
   "cell_type": "code",
   "execution_count": 25,
   "id": "90e936fe",
   "metadata": {},
   "outputs": [
    {
     "name": "stdout",
     "output_type": "stream",
     "text": [
      "[3, 4, 5, 6, 8, 10, 9, 12, 15]\n"
     ]
    }
   ],
   "source": [
    "L1=[1,2,3]\n",
    "L2=[3,4,5]\n",
    "print([x*y for x in L1 for y in L2])"
   ]
  },
  {
   "cell_type": "code",
   "execution_count": 26,
   "id": "43203fc2",
   "metadata": {},
   "outputs": [
    {
     "name": "stdout",
     "output_type": "stream",
     "text": [
      "[1, 4, 3, 16, 5]\n"
     ]
    }
   ],
   "source": [
    "L = [i**2 if i%2==0 else i for i in range(1,6)]\n",
    "print(L)"
   ]
  },
  {
   "cell_type": "code",
   "execution_count": 27,
   "id": "1fe8bf5a",
   "metadata": {},
   "outputs": [
    {
     "name": "stdout",
     "output_type": "stream",
     "text": [
      "[4, 6, 8, 10, 12]\n"
     ]
    }
   ],
   "source": [
    "L1=[1,2,3]\n",
    "L2=[3,4,5]\n",
    "print([x*y for x in L1 for y in L2 if(x%2==0 or y%2==0)])"
   ]
  },
  {
   "cell_type": "code",
   "execution_count": 28,
   "id": "238c130f",
   "metadata": {},
   "outputs": [
    {
     "data": {
      "text/plain": [
       "[5, 7, 9]"
      ]
     },
     "execution_count": 28,
     "metadata": {},
     "output_type": "execute_result"
    }
   ],
   "source": [
    "# zip 함수는 2개 이상의 리스트를, 각 리스트의 같은 인덱스 원소끼리 묶은 튜플을 원소로 하는 리스트를 만들어 줌\n",
    "\n",
    "list(zip([1,2,3],[4,5,6])) \n",
    " \n",
    "list(zip([1,2,3],[4,5,6],['a','b','c'])) # 문자열도 같은 인덱스 원소끼리 묶음\n",
    "\n",
    "list(zip((1,2,3),(4,5,6))) # 튜플도 사용 가능\n",
    " \n",
    "list(zip([1,2,3],[4,5],['a','b','c'])) # 길이가 맞지 않으면 짧은 길이의 수만큼 출력\n",
    "\n",
    "[sum(x) for x in zip((1,2,3),(4,5,6))] # 각 원소들 끼리 더해줌 "
   ]
  },
  {
   "cell_type": "code",
   "execution_count": 29,
   "id": "a3bef533",
   "metadata": {},
   "outputs": [
    {
     "name": "stdout",
     "output_type": "stream",
     "text": [
      "{'one': 1, 'two': 2, 'three': 3, 'four': 4}\n"
     ]
    }
   ],
   "source": [
    "#실습4 : 아래와 같이 주어진 2개의 리스트로 딕셔너리를 만들어 출력하시오. 단,순서는 다를 수 있음\n",
    "\n",
    "L1 = ['one', 'two', 'three', 'four']\n",
    "L2 = [1, 2, 3, 4]\n",
    "d={}\n",
    "for i,j in zip(L1,L2) :\n",
    "    d[i]=j\n",
    "print(d)"
   ]
  },
  {
   "cell_type": "code",
   "execution_count": 31,
   "id": "cb1c698d",
   "metadata": {},
   "outputs": [
    {
     "name": "stdout",
     "output_type": "stream",
     "text": [
      "7\n",
      "12\n"
     ]
    }
   ],
   "source": [
    "def add_and_mul(a,b) :\n",
    "    return a+b, a*b\n",
    "\n",
    "add_res, mul_res = add_and_mul(3,4)\n",
    "print(add_res)\n",
    "print(mul_res)"
   ]
  },
  {
   "cell_type": "code",
   "execution_count": 32,
   "id": "0cba1c52",
   "metadata": {},
   "outputs": [
    {
     "name": "stdout",
     "output_type": "stream",
     "text": [
      "6 13\n",
      "6 13\n"
     ]
    }
   ],
   "source": [
    "# 실습1 : len()구현 (len()을 사용하지 않고 구현할 것)\n",
    "\n",
    "def my_len(x) : \n",
    "    length=0\n",
    "    for i in x :\n",
    "        length+=1\n",
    "    return length\n",
    "\n",
    "a=[5,5,6,7,8,3]\n",
    "b='Life is short'\n",
    "print(len(a),len(b))\n",
    "print(my_len(a),my_len(b))"
   ]
  },
  {
   "cell_type": "code",
   "execution_count": null,
   "id": "670028b3",
   "metadata": {},
   "outputs": [],
   "source": [
    "# 실습2 : 양의 정수 a와 b를 전달받아 a부터 b까지 곱해서 반환하는 mult 함수를 작성하시오\n",
    "\n",
    "def mult(a,b) :\n",
    "    ret=1\n",
    "    for i in range(a,b+1) :\n",
    "        ret*=i\n",
    "    return ret\n",
    "\n",
    "print(mult(1,3))\n",
    "print(mult(2,5))"
   ]
  },
  {
   "cell_type": "code",
   "execution_count": null,
   "id": "5b9aa140",
   "metadata": {},
   "outputs": [],
   "source": [
    "# 실습3 : 숫자로 구성된 리스트를 전달받아, 리스트에서 양수 값을 더한 결과와 음수 값을 더한 결과를 반환하는 함수를 작성하시오.\n",
    "\n",
    "#풀이1\n",
    "def sum_pos_neg(l):\n",
    "    possum,negsum=0,0\n",
    "    for i in l:\n",
    "        if i >0 :\n",
    "            possum+=i\n",
    "        elif i<0 : \n",
    "            negsum+=i\n",
    "    return possum, negsum\n",
    "    \n",
    "\n",
    "# 출력 방법1 \n",
    "possum, negsum = sum_pos_neg([3,4,-6,-3])\n",
    "print(possum, negsum)\n",
    "\n",
    "# 출력 방법2 \n",
    "print(sum_pos_neg([3,4,-6,-3]))\n",
    "print(sum_pos_neg([0,0,0,0,0,0,0,0,0,1,-1]))\n",
    "\n",
    "\n",
    "#풀이2 \n",
    "def sum_pos_neg(l) :\n",
    "    possum= sum([i for i in l if i>0])\n",
    "    negsum= sum([i for i in l if i<0])\n",
    "    return possum, negsum\n",
    "\n",
    "print(sum_pos_neg([3,4,-6,-3]))\n",
    "print(sum_pos_neg([0,0,0,0,0,0,0,0,0,1,-1]))"
   ]
  },
  {
   "cell_type": "code",
   "execution_count": 35,
   "id": "063aefa1",
   "metadata": {},
   "outputs": [
    {
     "name": "stdout",
     "output_type": "stream",
     "text": [
      "6\n"
     ]
    }
   ],
   "source": [
    "# 가변 매개변수 (가변 매개변수 뒤에는 일반 매개변수가 올 수 없음, 가변 매개변수는 하나만 사용가능)\n",
    "\n",
    "def count_even(*n) :\n",
    "    cnt=0\n",
    "    for i in n :\n",
    "        if i%2==0:\n",
    "            cnt+=i\n",
    "    return cnt\n",
    "\n",
    "print(count_even(1,2,3,4,5))"
   ]
  },
  {
   "cell_type": "code",
   "execution_count": null,
   "id": "c04adee4",
   "metadata": {},
   "outputs": [],
   "source": [
    "# 실습4 : 1개 이상의 2차원 벡터들을 전달받아 벡터들의 합을 구하여 반환하는 함수를 작성하시오.\n",
    "\n",
    "def vector_sum(vector, *vectors):\n",
    "    v = vector[:]\n",
    "    for i in vectors :\n",
    "        v[0]+= i[0]\n",
    "        v[1]+= i[1]\n",
    "    return v\n",
    "\n",
    "\n",
    "v1=[0, 1]\n",
    "v2=[0.5, 0.5]\n",
    "v3=[1, 0]\n",
    "v4=[6, 4]\n",
    "v5=[3.13, 2.72]\n",
    "m1 = vector_sum(v1, v2, v3)\n",
    "m2 = vector_sum(v1, v2, v3, v4)\n",
    "m3 = vector_sum(v3, v5)\n",
    "print(m1,m2,m3)"
   ]
  },
  {
   "cell_type": "code",
   "execution_count": 36,
   "id": "eafcdda4",
   "metadata": {},
   "outputs": [
    {
     "name": "stdout",
     "output_type": "stream",
     "text": [
      "My name is Gildong Hong.\n",
      "My name is Gildong Kim.\n"
     ]
    }
   ],
   "source": [
    "# 디폴트 매개변수 : 매개변수의 기본값을 지정해줄 수 있다(함수 호출 시, 해당 매개변수에 대응되는 값을 주지 않으면 정의할 때 지정한 기본값을 가짐)\n",
    "def print_name(first, second='Kim'):\n",
    "    print('My name is',first,second+'.')\n",
    "    \n",
    "print_name('Gildong', 'Hong')\n",
    "print_name('Gildong')\n",
    "\n",
    "# 앞 매개변수가 디폴트 값을 가지면, 뒤에 오는 매개변수는 반드시 디폴트값을 가져야 함\n",
    "def print_name(first, second='Kim'): # 정상\n",
    "def print_name(first='Kim', second): # 에러 발생"
   ]
  },
  {
   "cell_type": "code",
   "execution_count": null,
   "id": "d45dff0b",
   "metadata": {},
   "outputs": [],
   "source": [
    "# 키워드 매개변수 : 함수 호출 시, 해당 매개변수 이름을 명시적으로 지정해서 전달 남\n",
    "# def로 함수를 만들 때 내가 명시적으로 이름을 달아서 만들면 명시한 이름까지 적어줘야 오류가 안남\n",
    "\n",
    "def calc(x, y=0, z=0) :\n",
    "return x+y+z\n",
    "\n",
    "result = calc(y=20, x=10, z=30) # 매개변수 순서 상관 없음\n",
    "print(result)\n",
    "\n",
    "calc(y=20, x=10) # 정상\n",
    "calc(10, y=30, z=20) # 정상\n",
    "calc(10, 30, y=20) # 에러 발생"
   ]
  },
  {
   "cell_type": "code",
   "execution_count": 52,
   "id": "bc83c1a9",
   "metadata": {},
   "outputs": [
    {
     "name": "stdout",
     "output_type": "stream",
     "text": [
      "[1, 1, 2, 2, 3, 5, 9]\n",
      "[0, 4, 6, 9]\n",
      "[0, 0]\n"
     ]
    }
   ],
   "source": [
    "# 실습 5 : 숫자로 구성된 리스트 2개를 받아서 이 두 리스트를 합친 후에 정렬한 새로운 리스트를 반환하는 함수를 작성하시오.\n",
    "# (단, 매개변수의 값이 주어지지 않으면, [0]이 기본적으로 주어진다.)\n",
    "\n",
    "def merge_list(first=[0], second=[0]):\n",
    "    return sorted(first+second)\n",
    "    \n",
    "    \n",
    "l = [3, 5, 9, 1, 2]\n",
    "ml1 = merge_list(l,[2,1])\n",
    "ml2 = merge_list([6,9,4])\n",
    "ml3 = merge_list()\n",
    "print(ml1) # [1, 1, 2, 2, 3, 5, 9]\n",
    "print(ml2) # [0, 4, 6, 9]\n",
    "print(ml3) # [0, 0]"
   ]
  },
  {
   "cell_type": "code",
   "execution_count": null,
   "id": "57a697ae",
   "metadata": {},
   "outputs": [],
   "source": [
    "# 지역변수 (Local Variable): 함수 안에서 만들어져 함수 안에서만 사용하는 변수\n",
    "# 전역변수 (Global Variable): 함수 밖에서 만들어져아무데서나 사용할 수 있는 변수 (단, 함수 안에서 전역변수 수정 불가)\n",
    "# 지역변수, 전역변수 : 함수 안에서 전역변수 수정 불가, 수정하려면 global 키워드 사용"
   ]
  },
  {
   "cell_type": "code",
   "execution_count": 148,
   "id": "df44b5ac",
   "metadata": {},
   "outputs": [],
   "source": [
    "# 모듈 : 많이 사용하는 함수를 만들어 놓고, 프로그램에서 해당 함수 사용시,import하여 사용하면 편리함"
   ]
  },
  {
   "cell_type": "code",
   "execution_count": 62,
   "id": "ec397c8d",
   "metadata": {},
   "outputs": [
    {
     "name": "stdout",
     "output_type": "stream",
     "text": [
      "[2, 3, 1, 5, 4]\n"
     ]
    }
   ],
   "source": [
    "# 난수는 random 모듈을 이용하여 생성\n",
    "import random\n",
    "\n",
    "# 리스트에서 랜덤으로 선택\n",
    "random.choice([1,2,3,4,5])\n",
    "\n",
    "# a이상 b이하인 임의의 정수 뽑기 (a, b: int 타입)\n",
    "random.randint(1, 3) # a~b 정수 값 중 하나\n",
    "random.randrange(1, 5) # randint(a, b)와 동일한 기능\n",
    "\n",
    "#리스트 내용 랜덤으로 섞기\n",
    "Ls=[1,2,3,4,5]\n",
    "random.shuffle(Ls)\n",
    "print(Ls)\n",
    "\n",
    "# 리스트 중 랜덤으로 여러 개 뽑기\n",
    "random.sample([1, 2, 3, 4, 5, 6], 3)"
   ]
  },
  {
   "cell_type": "code",
   "execution_count": 93,
   "id": "134c9620",
   "metadata": {},
   "outputs": [
    {
     "name": "stdout",
     "output_type": "stream",
     "text": [
      "오늘 점심은 돈까스입니다\n",
      "오늘 점심은 돈까스입니다\n",
      "오늘 점심은 돈까스입니다.\n"
     ]
    }
   ],
   "source": [
    "# 실습 6 : 점심 메뉴 리스트에서 임의로 하나의 메뉴를 골라 정해주는 프로그램을 완성하시오.\n",
    "import random\n",
    "\n",
    "# 채우기\n",
    "menu = [\"된장찌개\", \"부대찌개\", \"김치찌개\", \"삼계탕\", \"파스타\", \"돈까스\", \"쌀국수\"]\n",
    "\n",
    "food=random.choice(menu)\n",
    "\n",
    "print('오늘 점심은 {}입니다'.format(food))\n",
    "print(f'오늘 점심은 {food}입니다')\n",
    "print('오늘 점심은 %s입니다.'%food)"
   ]
  },
  {
   "cell_type": "code",
   "execution_count": 132,
   "id": "b9474bf5",
   "metadata": {},
   "outputs": [
    {
     "name": "stdout",
     "output_type": "stream",
     "text": [
      "1번째 자동 기입 ==> 2 16 19 21 35 39\n",
      "2번째 자동 기입 ==> 19 23 32 34 38 39\n",
      "3번째 자동 기입 ==> 16 22 23 24 27 38\n",
      "4번째 자동 기입 ==> 9 18 28 29 39 42\n",
      "5번째 자동 기입 ==> 4 6 20 33 36 41\n"
     ]
    }
   ],
   "source": [
    "# 실습 7 : 로또 추첨 프로그램 \n",
    "\n",
    "# 5개의 로또 번호 조합을 출력해주는 프로그램을 작성  \n",
    "# 1~45 숫자 중 6개를 임의로 선택 후 정렬하여 출력\n",
    "# 단, 중복된 번호를 가질 수 없음\n",
    "\n",
    "import random\n",
    "\n",
    "\n",
    "\n",
    "for i in range(1,6) :\n",
    "    number=sorted(random.sample([i for i in range(1,46)],6))\n",
    "    print(f\"{i}번째 자동 기입 ==>\",*number)\n",
    "\n"
   ]
  },
  {
   "cell_type": "code",
   "execution_count": 147,
   "id": "7974d509",
   "metadata": {},
   "outputs": [
    {
     "name": "stdout",
     "output_type": "stream",
     "text": [
      "1\n",
      "9\n",
      "[3, 5, 2]\n"
     ]
    }
   ],
   "source": [
    "# 실습 8 : 숫자로 구성된 리스트를 전달받아 최댓값, 최솟값을 반환하고, 두 수를 리스트에서 제거하는 함수를 작성하시오.\n",
    "def get_min_max(l):\n",
    "    min_val=min(l)\n",
    "    max_val=max(l)\n",
    "    return min_val, max_val\n",
    "\n",
    "l = [3, 5, 9, 1, 2]\n",
    "min_val, max_val = get_min_max(l)\n",
    "\n",
    "l.remove(min_val)\n",
    "l.remove(max_val)\n",
    "print(min_val)\n",
    "print(max_val)\n",
    "print(l)"
   ]
  },
  {
   "cell_type": "code",
   "execution_count": 154,
   "id": "d0f45a81",
   "metadata": {},
   "outputs": [
    {
     "name": "stdout",
     "output_type": "stream",
     "text": [
      "{'a': 3, 'b': 3, 'd': 7, 'e': 9, 'c': 4}\n"
     ]
    }
   ],
   "source": [
    "# 실습 9 : 두 딕셔너리를 전달받아 각 딕셔너리에 등장한 값을 모두 더한 새로운 딕셔너리를 반환하는 함수 comb_dict()를 작성하시오.\n",
    "\n",
    "def comb_dict(d1, d2):\n",
    "    d3={}\n",
    "    for k,v in d1.items():\n",
    "        d3[k]=v\n",
    "    for k,v in d2.items():\n",
    "        if k in d3 :\n",
    "            d3[k]+=v\n",
    "        else :\n",
    "            d3[k]=v\n",
    "    return d3\n",
    "\n",
    "d1 = {'a': 1, 'b': 3, 'd': 7, 'e': 8}\n",
    "d2 = {'a': 2, 'c': 4, 'e': 1}\n",
    "d3 = comb_dict(d1, d2)\n",
    "print(d3)"
   ]
  },
  {
   "cell_type": "code",
   "execution_count": 212,
   "id": "e1932a0d",
   "metadata": {},
   "outputs": [
    {
     "name": "stdout",
     "output_type": "stream",
     "text": [
      "4\n",
      "300\n"
     ]
    }
   ],
   "source": [
    "# 실습 10 : 숫자를 2개 이상 입력 받아, 최댓값과 최솟값의 차를 반환하는 함수를 작성하시오.\n",
    "\n",
    "def diff(a, *n):\n",
    "    max_value=max(n)\n",
    "    min_value=min(n)\n",
    "    \n",
    "    if(a>max_value):\n",
    "        max_value=a\n",
    "    else : \n",
    "        pass\n",
    "    if(a<min_value):\n",
    "        min_value=a\n",
    "    else :\n",
    "        pass\n",
    "    return max_value-min_value\n",
    "\n",
    "print(diff(1,2,3,4,5))\n",
    "print(diff(-100, 200))\n"
   ]
  },
  {
   "cell_type": "code",
   "execution_count": 214,
   "id": "74429b65",
   "metadata": {},
   "outputs": [
    {
     "ename": "ValueError",
     "evalue": "max() arg is an empty sequence",
     "output_type": "error",
     "traceback": [
      "\u001b[0;31m---------------------------------------------------------------------------\u001b[0m",
      "\u001b[0;31mValueError\u001b[0m                                Traceback (most recent call last)",
      "Cell \u001b[0;32mIn[214], line 1\u001b[0m\n\u001b[0;32m----> 1\u001b[0m \u001b[38;5;28mprint\u001b[39m(\u001b[43mdiff\u001b[49m\u001b[43m(\u001b[49m\u001b[38;5;241;43m100\u001b[39;49m\u001b[43m)\u001b[49m)\n",
      "Cell \u001b[0;32mIn[212], line 4\u001b[0m, in \u001b[0;36mdiff\u001b[0;34m(a, *n)\u001b[0m\n\u001b[1;32m      3\u001b[0m \u001b[38;5;28;01mdef\u001b[39;00m \u001b[38;5;21mdiff\u001b[39m(a, \u001b[38;5;241m*\u001b[39mn):\n\u001b[0;32m----> 4\u001b[0m     max_value\u001b[38;5;241m=\u001b[39m\u001b[38;5;28;43mmax\u001b[39;49m\u001b[43m(\u001b[49m\u001b[43mn\u001b[49m\u001b[43m)\u001b[49m\n\u001b[1;32m      5\u001b[0m     min_value\u001b[38;5;241m=\u001b[39m\u001b[38;5;28mmin\u001b[39m(n)\n\u001b[1;32m      7\u001b[0m     \u001b[38;5;28;01mif\u001b[39;00m(a\u001b[38;5;241m>\u001b[39mmax_value):\n",
      "\u001b[0;31mValueError\u001b[0m: max() arg is an empty sequence"
     ]
    }
   ],
   "source": [
    "print(diff(100)) #오류발생!"
   ]
  },
  {
   "cell_type": "code",
   "execution_count": null,
   "id": "77defb96",
   "metadata": {},
   "outputs": [],
   "source": []
  },
  {
   "cell_type": "code",
   "execution_count": null,
   "id": "86b9b348",
   "metadata": {},
   "outputs": [],
   "source": []
  },
  {
   "cell_type": "code",
   "execution_count": null,
   "id": "d8a6b448",
   "metadata": {},
   "outputs": [],
   "source": []
  },
  {
   "cell_type": "code",
   "execution_count": null,
   "id": "75d90278",
   "metadata": {},
   "outputs": [],
   "source": []
  },
  {
   "cell_type": "code",
   "execution_count": null,
   "id": "94caa2f0",
   "metadata": {},
   "outputs": [],
   "source": []
  },
  {
   "cell_type": "code",
   "execution_count": null,
   "id": "41429f99",
   "metadata": {},
   "outputs": [],
   "source": []
  },
  {
   "cell_type": "code",
   "execution_count": null,
   "id": "af8d036d",
   "metadata": {},
   "outputs": [],
   "source": []
  },
  {
   "cell_type": "code",
   "execution_count": null,
   "id": "68169831",
   "metadata": {},
   "outputs": [],
   "source": []
  },
  {
   "cell_type": "code",
   "execution_count": null,
   "id": "73a69f1d",
   "metadata": {},
   "outputs": [],
   "source": []
  },
  {
   "cell_type": "code",
   "execution_count": null,
   "id": "b0f1ff42",
   "metadata": {},
   "outputs": [],
   "source": []
  },
  {
   "cell_type": "code",
   "execution_count": null,
   "id": "3e2c6e5e",
   "metadata": {},
   "outputs": [],
   "source": []
  },
  {
   "cell_type": "code",
   "execution_count": null,
   "id": "e247304a",
   "metadata": {},
   "outputs": [],
   "source": []
  },
  {
   "cell_type": "code",
   "execution_count": null,
   "id": "7c6a8478",
   "metadata": {},
   "outputs": [],
   "source": []
  },
  {
   "cell_type": "code",
   "execution_count": null,
   "id": "60ef1bae",
   "metadata": {},
   "outputs": [],
   "source": []
  },
  {
   "cell_type": "code",
   "execution_count": null,
   "id": "799722f9",
   "metadata": {},
   "outputs": [],
   "source": []
  },
  {
   "cell_type": "code",
   "execution_count": null,
   "id": "290f6b17",
   "metadata": {},
   "outputs": [],
   "source": []
  },
  {
   "cell_type": "code",
   "execution_count": null,
   "id": "806cb265",
   "metadata": {},
   "outputs": [],
   "source": []
  }
 ],
 "metadata": {
  "kernelspec": {
   "display_name": "Python 3 (ipykernel)",
   "language": "python",
   "name": "python3"
  },
  "language_info": {
   "codemirror_mode": {
    "name": "ipython",
    "version": 3
   },
   "file_extension": ".py",
   "mimetype": "text/x-python",
   "name": "python",
   "nbconvert_exporter": "python",
   "pygments_lexer": "ipython3",
   "version": "3.10.9"
  }
 },
 "nbformat": 4,
 "nbformat_minor": 5
}
