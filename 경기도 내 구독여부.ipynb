{
 "cells": [
  {
   "cell_type": "code",
   "execution_count": 1,
   "metadata": {},
   "outputs": [],
   "source": [
    "import pandas as pd\n",
    "import numpy as np\n",
    "import matplotlib\n",
    "import matplotlib.pyplot as plt\n",
    "import warnings\n",
    "import seaborn as sns\n",
    "warnings.filterwarnings('ignore')\n",
    "matplotlib.rc(\"font\", family= 'Noto Sans CJK JP')\n",
    "from scipy.stats import chi2_contingency"
   ]
  },
  {
   "cell_type": "code",
   "execution_count": 2,
   "metadata": {},
   "outputs": [
    {
     "data": {
      "text/html": [
       "<div>\n",
       "<style scoped>\n",
       "    .dataframe tbody tr th:only-of-type {\n",
       "        vertical-align: middle;\n",
       "    }\n",
       "\n",
       "    .dataframe tbody tr th {\n",
       "        vertical-align: top;\n",
       "    }\n",
       "\n",
       "    .dataframe thead th {\n",
       "        text-align: right;\n",
       "    }\n",
       "</style>\n",
       "<table border=\"1\" class=\"dataframe\">\n",
       "  <thead>\n",
       "    <tr style=\"text-align: right;\">\n",
       "      <th></th>\n",
       "      <th>회원번호</th>\n",
       "      <th>회원상태</th>\n",
       "      <th>성별</th>\n",
       "      <th>나이</th>\n",
       "      <th>등록카드</th>\n",
       "      <th>결혼</th>\n",
       "      <th>구독여부</th>\n",
       "      <th>주소지</th>\n",
       "      <th>세부주소지</th>\n",
       "    </tr>\n",
       "  </thead>\n",
       "  <tbody>\n",
       "    <tr>\n",
       "      <th>0</th>\n",
       "      <td>18764160</td>\n",
       "      <td>정상회원</td>\n",
       "      <td>여</td>\n",
       "      <td>68</td>\n",
       "      <td>농협중앙회</td>\n",
       "      <td>기혼</td>\n",
       "      <td>False</td>\n",
       "      <td>서울특별시</td>\n",
       "      <td>성동구</td>\n",
       "    </tr>\n",
       "    <tr>\n",
       "      <th>1</th>\n",
       "      <td>18792000</td>\n",
       "      <td>정상회원</td>\n",
       "      <td>남</td>\n",
       "      <td>83</td>\n",
       "      <td>연결앱결제</td>\n",
       "      <td>기혼</td>\n",
       "      <td>False</td>\n",
       "      <td>강원도</td>\n",
       "      <td>강릉시</td>\n",
       "    </tr>\n",
       "    <tr>\n",
       "      <th>2</th>\n",
       "      <td>18942336</td>\n",
       "      <td>정상회원</td>\n",
       "      <td>여</td>\n",
       "      <td>39</td>\n",
       "      <td>신한은행</td>\n",
       "      <td>기혼</td>\n",
       "      <td>False</td>\n",
       "      <td>인천광역시</td>\n",
       "      <td>중구</td>\n",
       "    </tr>\n",
       "    <tr>\n",
       "      <th>3</th>\n",
       "      <td>18949760</td>\n",
       "      <td>정상회원</td>\n",
       "      <td>여</td>\n",
       "      <td>73</td>\n",
       "      <td>기업은행</td>\n",
       "      <td>기혼</td>\n",
       "      <td>NaN</td>\n",
       "      <td>강원도</td>\n",
       "      <td>홍천군</td>\n",
       "    </tr>\n",
       "    <tr>\n",
       "      <th>4</th>\n",
       "      <td>19391488</td>\n",
       "      <td>정상회원</td>\n",
       "      <td>여</td>\n",
       "      <td>52</td>\n",
       "      <td>연결앱결제</td>\n",
       "      <td>기혼</td>\n",
       "      <td>False</td>\n",
       "      <td>대전광역시</td>\n",
       "      <td>중구</td>\n",
       "    </tr>\n",
       "  </tbody>\n",
       "</table>\n",
       "</div>"
      ],
      "text/plain": [
       "       회원번호  회원상태 성별  나이   등록카드  결혼   구독여부    주소지 세부주소지\n",
       "0  18764160  정상회원  여  68  농협중앙회  기혼  False  서울특별시   성동구\n",
       "1  18792000  정상회원  남  83  연결앱결제  기혼  False    강원도   강릉시\n",
       "2  18942336  정상회원  여  39   신한은행  기혼  False  인천광역시    중구\n",
       "3  18949760  정상회원  여  73   기업은행  기혼    NaN    강원도   홍천군\n",
       "4  19391488  정상회원  여  52  연결앱결제  기혼  False  대전광역시    중구"
      ]
     },
     "execution_count": 2,
     "metadata": {},
     "output_type": "execute_result"
    }
   ],
   "source": [
    "mem=pd.read_csv(\"/home/piai/바탕화면/2. Big Data 분석/members_completed.csv\")\n",
    "mem.head()"
   ]
  },
  {
   "cell_type": "code",
   "execution_count": 3,
   "metadata": {},
   "outputs": [
    {
     "data": {
      "text/html": [
       "<div>\n",
       "<style scoped>\n",
       "    .dataframe tbody tr th:only-of-type {\n",
       "        vertical-align: middle;\n",
       "    }\n",
       "\n",
       "    .dataframe tbody tr th {\n",
       "        vertical-align: top;\n",
       "    }\n",
       "\n",
       "    .dataframe thead th {\n",
       "        text-align: right;\n",
       "    }\n",
       "</style>\n",
       "<table border=\"1\" class=\"dataframe\">\n",
       "  <thead>\n",
       "    <tr style=\"text-align: right;\">\n",
       "      <th></th>\n",
       "      <th>회원번호</th>\n",
       "      <th>회원상태</th>\n",
       "      <th>성별</th>\n",
       "      <th>나이</th>\n",
       "      <th>등록카드</th>\n",
       "      <th>결혼</th>\n",
       "      <th>구독여부</th>\n",
       "      <th>주소지</th>\n",
       "      <th>세부주소지</th>\n",
       "    </tr>\n",
       "  </thead>\n",
       "  <tbody>\n",
       "  </tbody>\n",
       "</table>\n",
       "</div>"
      ],
      "text/plain": [
       "Empty DataFrame\n",
       "Columns: [회원번호, 회원상태, 성별, 나이, 등록카드, 결혼, 구독여부, 주소지, 세부주소지]\n",
       "Index: []"
      ]
     },
     "execution_count": 3,
     "metadata": {},
     "output_type": "execute_result"
    }
   ],
   "source": [
    "mem.loc[mem['주소지'].isna(),'주소지'] = '경기도'\n",
    "mem.loc[mem['주소지'].eq('경기도') & mem['세부주소지'].isna()]"
   ]
  },
  {
   "cell_type": "markdown",
   "metadata": {},
   "source": [
    "> 세부 주소지는 경기도의 최빈값인 ('수원시') 처리"
   ]
  },
  {
   "cell_type": "code",
   "execution_count": 4,
   "metadata": {},
   "outputs": [],
   "source": [
    "mem.loc[mem['주소지'].eq('경기도') & mem['세부주소지'].isna(), '세부주소지'] = '수원시'"
   ]
  },
  {
   "cell_type": "markdown",
   "metadata": {},
   "source": [
    "> 세부주소지 결측 6개의 주소지는 세종특별자치시, 따라서 세종특별자치시 최빈값인 ('조치원읍')처리"
   ]
  },
  {
   "cell_type": "code",
   "execution_count": 5,
   "metadata": {},
   "outputs": [],
   "source": [
    "mem.loc[mem['주소지'].eq('세종특별자치시') & mem['세부주소지'].isna(), '세부주소지'] = '조치원읍'"
   ]
  },
  {
   "cell_type": "markdown",
   "metadata": {},
   "source": [
    "> 경기(14), 강원(1), 서울(2), 광주(3) 전부 경기도, 강원도, 서울특별시, 광주광역시로 통일"
   ]
  },
  {
   "cell_type": "code",
   "execution_count": 6,
   "metadata": {},
   "outputs": [],
   "source": [
    "mem['주소지'] = mem['주소지'].replace('경기','경기도')\n",
    "mem['주소지'] = mem['주소지'].replace('광주','광주광역시')\n",
    "mem['주소지'] = mem['주소지'].replace('서울','서울특별시')\n",
    "mem['주소지'] = mem['주소지'].replace('강원','강원도')"
   ]
  },
  {
   "cell_type": "code",
   "execution_count": 7,
   "metadata": {},
   "outputs": [
    {
     "data": {
      "text/plain": [
       "경기도        2299\n",
       "서울특별시      1479\n",
       "부산광역시      1396\n",
       "경상남도       1305\n",
       "경상북도        801\n",
       "대구광역시       654\n",
       "강원도         597\n",
       "충청남도        575\n",
       "충청북도        527\n",
       "인천광역시       523\n",
       "전라북도        488\n",
       "대전광역시       488\n",
       "울산광역시       419\n",
       "광주광역시       392\n",
       "전라남도        360\n",
       "제주특별자치도     126\n",
       "세종특별자치시     111\n",
       "Name: 주소지, dtype: int64"
      ]
     },
     "execution_count": 7,
     "metadata": {},
     "output_type": "execute_result"
    }
   ],
   "source": [
    "mem['주소지'].value_counts()"
   ]
  },
  {
   "cell_type": "code",
   "execution_count": 8,
   "metadata": {},
   "outputs": [
    {
     "data": {
      "text/plain": [
       "경기도        2299\n",
       "서울특별시      1479\n",
       "부산광역시      1396\n",
       "경상남도       1305\n",
       "경상북도        801\n",
       "대구광역시       654\n",
       "강원도         597\n",
       "충청남도        575\n",
       "충청북도        527\n",
       "인천광역시       523\n",
       "전라북도        488\n",
       "대전광역시       488\n",
       "울산광역시       419\n",
       "광주광역시       392\n",
       "전라남도        360\n",
       "제주특별자치도     126\n",
       "세종특별자치시     111\n",
       "Name: 주소지, dtype: int64"
      ]
     },
     "execution_count": 8,
     "metadata": {},
     "output_type": "execute_result"
    }
   ],
   "source": [
    "mem['주소지'].value_counts()"
   ]
  },
  {
   "cell_type": "code",
   "execution_count": 9,
   "metadata": {},
   "outputs": [],
   "source": [
    "mem = mem[mem['주소지']=='경기도']"
   ]
  },
  {
   "cell_type": "code",
   "execution_count": 15,
   "metadata": {},
   "outputs": [
    {
     "data": {
      "text/plain": [
       "경기도    2299\n",
       "Name: 주소지, dtype: int64"
      ]
     },
     "execution_count": 15,
     "metadata": {},
     "output_type": "execute_result"
    }
   ],
   "source": [
    "mem['주소지'].value_counts()"
   ]
  },
  {
   "cell_type": "code",
   "execution_count": 10,
   "metadata": {},
   "outputs": [
    {
     "data": {
      "text/html": [
       "<div>\n",
       "<style scoped>\n",
       "    .dataframe tbody tr th:only-of-type {\n",
       "        vertical-align: middle;\n",
       "    }\n",
       "\n",
       "    .dataframe tbody tr th {\n",
       "        vertical-align: top;\n",
       "    }\n",
       "\n",
       "    .dataframe thead th {\n",
       "        text-align: right;\n",
       "    }\n",
       "</style>\n",
       "<table border=\"1\" class=\"dataframe\">\n",
       "  <thead>\n",
       "    <tr style=\"text-align: right;\">\n",
       "      <th>구독여부</th>\n",
       "      <th>False</th>\n",
       "      <th>True</th>\n",
       "    </tr>\n",
       "    <tr>\n",
       "      <th>세부주소지</th>\n",
       "      <th></th>\n",
       "      <th></th>\n",
       "    </tr>\n",
       "  </thead>\n",
       "  <tbody>\n",
       "    <tr>\n",
       "      <th>가평군</th>\n",
       "      <td>31.0</td>\n",
       "      <td>6.0</td>\n",
       "    </tr>\n",
       "    <tr>\n",
       "      <th>고양시</th>\n",
       "      <td>96.0</td>\n",
       "      <td>26.0</td>\n",
       "    </tr>\n",
       "    <tr>\n",
       "      <th>과천시</th>\n",
       "      <td>1.0</td>\n",
       "      <td>NaN</td>\n",
       "    </tr>\n",
       "    <tr>\n",
       "      <th>광명시</th>\n",
       "      <td>8.0</td>\n",
       "      <td>4.0</td>\n",
       "    </tr>\n",
       "    <tr>\n",
       "      <th>광주시</th>\n",
       "      <td>15.0</td>\n",
       "      <td>3.0</td>\n",
       "    </tr>\n",
       "    <tr>\n",
       "      <th>구리시</th>\n",
       "      <td>16.0</td>\n",
       "      <td>1.0</td>\n",
       "    </tr>\n",
       "    <tr>\n",
       "      <th>군포시</th>\n",
       "      <td>12.0</td>\n",
       "      <td>1.0</td>\n",
       "    </tr>\n",
       "    <tr>\n",
       "      <th>김포시</th>\n",
       "      <td>41.0</td>\n",
       "      <td>12.0</td>\n",
       "    </tr>\n",
       "    <tr>\n",
       "      <th>남양주시</th>\n",
       "      <td>48.0</td>\n",
       "      <td>13.0</td>\n",
       "    </tr>\n",
       "    <tr>\n",
       "      <th>동두천시</th>\n",
       "      <td>8.0</td>\n",
       "      <td>2.0</td>\n",
       "    </tr>\n",
       "    <tr>\n",
       "      <th>부천시</th>\n",
       "      <td>96.0</td>\n",
       "      <td>20.0</td>\n",
       "    </tr>\n",
       "    <tr>\n",
       "      <th>성남시</th>\n",
       "      <td>55.0</td>\n",
       "      <td>12.0</td>\n",
       "    </tr>\n",
       "    <tr>\n",
       "      <th>수원시</th>\n",
       "      <td>203.0</td>\n",
       "      <td>55.0</td>\n",
       "    </tr>\n",
       "    <tr>\n",
       "      <th>시흥시</th>\n",
       "      <td>82.0</td>\n",
       "      <td>13.0</td>\n",
       "    </tr>\n",
       "    <tr>\n",
       "      <th>안산시</th>\n",
       "      <td>118.0</td>\n",
       "      <td>24.0</td>\n",
       "    </tr>\n",
       "    <tr>\n",
       "      <th>안성시</th>\n",
       "      <td>68.0</td>\n",
       "      <td>14.0</td>\n",
       "    </tr>\n",
       "    <tr>\n",
       "      <th>안양시</th>\n",
       "      <td>51.0</td>\n",
       "      <td>15.0</td>\n",
       "    </tr>\n",
       "    <tr>\n",
       "      <th>양주시</th>\n",
       "      <td>13.0</td>\n",
       "      <td>5.0</td>\n",
       "    </tr>\n",
       "    <tr>\n",
       "      <th>양평군</th>\n",
       "      <td>10.0</td>\n",
       "      <td>2.0</td>\n",
       "    </tr>\n",
       "    <tr>\n",
       "      <th>여주시</th>\n",
       "      <td>7.0</td>\n",
       "      <td>3.0</td>\n",
       "    </tr>\n",
       "    <tr>\n",
       "      <th>연천군</th>\n",
       "      <td>3.0</td>\n",
       "      <td>NaN</td>\n",
       "    </tr>\n",
       "    <tr>\n",
       "      <th>오산시</th>\n",
       "      <td>15.0</td>\n",
       "      <td>1.0</td>\n",
       "    </tr>\n",
       "    <tr>\n",
       "      <th>용인시</th>\n",
       "      <td>145.0</td>\n",
       "      <td>41.0</td>\n",
       "    </tr>\n",
       "    <tr>\n",
       "      <th>의왕시</th>\n",
       "      <td>6.0</td>\n",
       "      <td>NaN</td>\n",
       "    </tr>\n",
       "    <tr>\n",
       "      <th>의정부시</th>\n",
       "      <td>72.0</td>\n",
       "      <td>15.0</td>\n",
       "    </tr>\n",
       "    <tr>\n",
       "      <th>이천시</th>\n",
       "      <td>40.0</td>\n",
       "      <td>12.0</td>\n",
       "    </tr>\n",
       "    <tr>\n",
       "      <th>파주시</th>\n",
       "      <td>30.0</td>\n",
       "      <td>5.0</td>\n",
       "    </tr>\n",
       "    <tr>\n",
       "      <th>평택시</th>\n",
       "      <td>81.0</td>\n",
       "      <td>20.0</td>\n",
       "    </tr>\n",
       "    <tr>\n",
       "      <th>포천시</th>\n",
       "      <td>35.0</td>\n",
       "      <td>7.0</td>\n",
       "    </tr>\n",
       "    <tr>\n",
       "      <th>하남시</th>\n",
       "      <td>16.0</td>\n",
       "      <td>4.0</td>\n",
       "    </tr>\n",
       "    <tr>\n",
       "      <th>화성시</th>\n",
       "      <td>85.0</td>\n",
       "      <td>16.0</td>\n",
       "    </tr>\n",
       "  </tbody>\n",
       "</table>\n",
       "</div>"
      ],
      "text/plain": [
       "구독여부   False  True \n",
       "세부주소지              \n",
       "가평군     31.0    6.0\n",
       "고양시     96.0   26.0\n",
       "과천시      1.0    NaN\n",
       "광명시      8.0    4.0\n",
       "광주시     15.0    3.0\n",
       "구리시     16.0    1.0\n",
       "군포시     12.0    1.0\n",
       "김포시     41.0   12.0\n",
       "남양주시    48.0   13.0\n",
       "동두천시     8.0    2.0\n",
       "부천시     96.0   20.0\n",
       "성남시     55.0   12.0\n",
       "수원시    203.0   55.0\n",
       "시흥시     82.0   13.0\n",
       "안산시    118.0   24.0\n",
       "안성시     68.0   14.0\n",
       "안양시     51.0   15.0\n",
       "양주시     13.0    5.0\n",
       "양평군     10.0    2.0\n",
       "여주시      7.0    3.0\n",
       "연천군      3.0    NaN\n",
       "오산시     15.0    1.0\n",
       "용인시    145.0   41.0\n",
       "의왕시      6.0    NaN\n",
       "의정부시    72.0   15.0\n",
       "이천시     40.0   12.0\n",
       "파주시     30.0    5.0\n",
       "평택시     81.0   20.0\n",
       "포천시     35.0    7.0\n",
       "하남시     16.0    4.0\n",
       "화성시     85.0   16.0"
      ]
     },
     "execution_count": 10,
     "metadata": {},
     "output_type": "execute_result"
    }
   ],
   "source": [
    "mem.groupby('세부주소지')['구독여부'].value_counts().unstack() "
   ]
  },
  {
   "cell_type": "code",
   "execution_count": 11,
   "metadata": {},
   "outputs": [],
   "source": [
    "age_subscription_counts = mem.groupby('세부주소지')['구독여부'].value_counts().unstack()"
   ]
  },
  {
   "cell_type": "code",
   "execution_count": 12,
   "metadata": {},
   "outputs": [
    {
     "data": {
      "image/png": "[encoded data removed]",
      "text/plain": [
       "<Figure size 1000x600 with 1 Axes>"
      ]
     },
     "metadata": {},
     "output_type": "display_data"
    }
   ],
   "source": [
    "age_subscription_counts.plot(kind='bar', stacked=True, figsize=(10, 6))\n",
    "plt.title('경기도 구독 현황')\n",
    "plt.xlabel('경기도 지역')\n",
    "plt.ylabel('구독 수')\n",
    "plt.xticks(rotation=45)\n",
    "plt.legend(title='구독여부')\n",
    "plt.show()\n"
   ]
  },
  {
   "cell_type": "code",
   "execution_count": 13,
   "metadata": {},
   "outputs": [
    {
     "name": "stdout",
     "output_type": "stream",
     "text": [
      "구독여부      False     True \n",
      "세부주소지                    \n",
      "가평군    0.837838  0.162162\n",
      "고양시    0.786885  0.213115\n",
      "과천시    1.000000  0.000000\n",
      "광명시    0.666667  0.333333\n",
      "광주시    0.833333  0.166667\n",
      "구리시    0.941176  0.058824\n",
      "군포시    0.923077  0.076923\n",
      "김포시    0.773585  0.226415\n",
      "남양주시   0.786885  0.213115\n",
      "동두천시   0.800000  0.200000\n",
      "부천시    0.827586  0.172414\n",
      "성남시    0.820896  0.179104\n",
      "수원시    0.786822  0.213178\n",
      "시흥시    0.863158  0.136842\n",
      "안산시    0.830986  0.169014\n",
      "안성시    0.829268  0.170732\n",
      "안양시    0.772727  0.227273\n",
      "양주시    0.722222  0.277778\n",
      "양평군    0.833333  0.166667\n",
      "여주시    0.700000  0.300000\n",
      "연천군    1.000000  0.000000\n",
      "오산시    0.937500  0.062500\n",
      "용인시    0.779570  0.220430\n",
      "의왕시    1.000000  0.000000\n",
      "의정부시   0.827586  0.172414\n",
      "이천시    0.769231  0.230769\n",
      "파주시    0.857143  0.142857\n",
      "평택시    0.801980  0.198020\n",
      "포천시    0.833333  0.166667\n",
      "하남시    0.800000  0.200000\n",
      "화성시    0.841584  0.158416\n"
     ]
    }
   ],
   "source": [
    "# 연령대별 구독 여부 비율 계산\n",
    "age_subscription_ratios = mem.groupby('세부주소지')['구독여부'].value_counts(normalize=True).unstack().fillna(0)\n",
    "print(age_subscription_ratios)"
   ]
  },
  {
   "cell_type": "code",
   "execution_count": 14,
   "metadata": {},
   "outputs": [
    {
     "name": "stdout",
     "output_type": "stream",
     "text": [
      "카이제곱 값: 19.09087903836295\n",
      "p-value: 0.9380848431620669\n",
      "자유도: 30\n",
      "예상 빈도: [[2.99940828e+01 7.00591716e+00]\n",
      " [9.88994083e+01 2.31005917e+01]\n",
      " [8.10650888e-01 1.89349112e-01]\n",
      " [9.72781065e+00 2.27218935e+00]\n",
      " [1.45917160e+01 3.40828402e+00]\n",
      " [1.37810651e+01 3.21893491e+00]\n",
      " [1.05384615e+01 2.46153846e+00]\n",
      " [4.29644970e+01 1.00355030e+01]\n",
      " [4.94497041e+01 1.15502959e+01]\n",
      " [8.10650888e+00 1.89349112e+00]\n",
      " [9.40355030e+01 2.19644970e+01]\n",
      " [5.43136095e+01 1.26863905e+01]\n",
      " [2.09147929e+02 4.88520710e+01]\n",
      " [7.70118343e+01 1.79881657e+01]\n",
      " [1.15112426e+02 2.68875740e+01]\n",
      " [6.64733728e+01 1.55266272e+01]\n",
      " [5.35029586e+01 1.24970414e+01]\n",
      " [1.45917160e+01 3.40828402e+00]\n",
      " [9.72781065e+00 2.27218935e+00]\n",
      " [8.10650888e+00 1.89349112e+00]\n",
      " [2.43195266e+00 5.68047337e-01]\n",
      " [1.29704142e+01 3.02958580e+00]\n",
      " [1.50781065e+02 3.52189349e+01]\n",
      " [4.86390533e+00 1.13609467e+00]\n",
      " [7.05266272e+01 1.64733728e+01]\n",
      " [4.21538462e+01 9.84615385e+00]\n",
      " [2.83727811e+01 6.62721893e+00]\n",
      " [8.18757396e+01 1.91242604e+01]\n",
      " [3.40473373e+01 7.95266272e+00]\n",
      " [1.62130178e+01 3.78698225e+00]\n",
      " [8.18757396e+01 1.91242604e+01]]\n",
      "결론 : p-value가 0.05보다 크기 때문에 귀무가설을 채택한다. 지역별 구독여부는 동일하다.\n"
     ]
    }
   ],
   "source": [
    "# 교차 테이블 생성\n",
    "cross_table = pd.crosstab(mem['세부주소지'], mem['구독여부'])\n",
    "\n",
    "# 카이제곱 검정 수행\n",
    "chi2, p, dof, expected = chi2_contingency(cross_table)\n",
    "\n",
    "# 결과 출력\n",
    "print(\"카이제곱 값:\", chi2)\n",
    "print(\"p-value:\", p)\n",
    "print(\"자유도:\", dof)\n",
    "print(\"예상 빈도:\", expected)\n",
    "print(\"결론 : p-value가 0.05보다 크기 때문에 귀무가설을 채택한다. 지역별 구독여부는 동일하다.\")"
   ]
  },
  {
   "cell_type": "code",
   "execution_count": null,
   "metadata": {},
   "outputs": [],
   "source": []
  }
 ],
 "metadata": {
  "kernelspec": {
   "display_name": "base",
   "language": "python",
   "name": "python3"
  },
  "language_info": {
   "codemirror_mode": {
    "name": "ipython",
    "version": 3
   },
   "file_extension": ".py",
   "mimetype": "text/x-python",
   "name": "python",
   "nbconvert_exporter": "python",
   "pygments_lexer": "ipython3",
   "version": "3.10.9"
  },
  "orig_nbformat": 4
 },
 "nbformat": 4,
 "nbformat_minor": 2
}
