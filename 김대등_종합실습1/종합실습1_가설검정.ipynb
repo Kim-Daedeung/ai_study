{
 "cells": [
  {
   "cell_type": "code",
   "execution_count": null,
   "metadata": {},
   "outputs": [],
   "source": []
  },
  {
   "cell_type": "markdown",
   "metadata": {},
   "source": [
    "# 가설 검정 : 지역별 중고 차량 가격 검정 "
   ]
  },
  {
   "cell_type": "code",
   "execution_count": 66,
   "metadata": {},
   "outputs": [
    {
     "data": {
      "text/plain": [
       "Mumbai        804\n",
       "Hyderabad     738\n",
       "Kochi         669\n",
       "Coimbatore    659\n",
       "Pune          611\n",
       "Delhi         566\n",
       "Kolkata       542\n",
       "Chennai       490\n",
       "Jaipur        414\n",
       "Bangalore     359\n",
       "Ahmedabad     230\n",
       "Name: Location, dtype: int64"
      ]
     },
     "execution_count": 66,
     "metadata": {},
     "output_type": "execute_result"
    }
   ],
   "source": [
    "df['Location'].value_counts()"
   ]
  },
  {
   "cell_type": "code",
   "execution_count": 67,
   "metadata": {},
   "outputs": [],
   "source": [
    "groups = [df[df['Location'] == location]['Price'] for location in df['Location'].unique()]\n",
    "\n",
    "# ANOVA 검정을 수행합니다.\n",
    "anova_result = stats.f_oneway(*groups)"
   ]
  },
  {
   "cell_type": "code",
   "execution_count": 68,
   "metadata": {},
   "outputs": [
    {
     "name": "stdout",
     "output_type": "stream",
     "text": [
      "ANOVA 검정 결과:\n",
      "검정 통계량 (F-value): 38.34486468655015\n",
      "p-value: 8.196424841467488e-74\n"
     ]
    }
   ],
   "source": [
    "print(\"ANOVA 검정 결과:\")\n",
    "print(\"검정 통계량 (F-value):\", anova_result.statistic)\n",
    "print(\"p-value:\", anova_result.pvalue)\n"
   ]
  },
  {
   "cell_type": "code",
   "execution_count": 69,
   "metadata": {},
   "outputs": [
    {
     "name": "stdout",
     "output_type": "stream",
     "text": [
      "p-value가 0.05보다 작으므로, 지역별 차량 가격이 유의미하게 다릅니다.\n"
     ]
    }
   ],
   "source": [
    "if anova_result.pvalue < 0.05:\n",
    "    print(\"p-value가 0.05보다 작으므로, 지역별 차량 가격이 유의미하게 다릅니다.\")\n",
    "else:\n",
    "    print(\"p-value가 0.05 이상이므로, 지역별 차량 가격이 유의미하게 다르지 않습니다.\")"
   ]
  },
  {
   "cell_type": "code",
   "execution_count": 70,
   "metadata": {},
   "outputs": [
    {
     "name": "stdout",
     "output_type": "stream",
     "text": [
      "정규성 검정 결과:\n",
      "지역 'Chennai'의 p-value: 0.0000\n",
      "지역 'Mumbai'의 p-value: 0.0000\n",
      "지역 'Delhi'의 p-value: 0.0000\n",
      "지역 'Kolkata'의 p-value: 0.0000\n",
      "지역 'Hyderabad'의 p-value: 0.0000\n",
      "지역 'Kochi'의 p-value: 0.0000\n",
      "지역 'Ahmedabad'의 p-value: 0.0000\n",
      "지역 'Bangalore'의 p-value: 0.0000\n",
      "지역 'Coimbatore'의 p-value: 0.0000\n",
      "지역 'Pune'의 p-value: 0.0000\n",
      "지역 'Jaipur'의 p-value: 0.0000\n",
      "\n",
      "등분산성 검정 결과:\n",
      "p-value: 0.0000\n"
     ]
    }
   ],
   "source": [
    "print(\"정규성 검정 결과:\")\n",
    "for i, group in enumerate(groups):\n",
    "    stat, p_value = stats.shapiro(group)\n",
    "    print(f\"지역 '{df['Location'].unique()[i]}'의 p-value: {p_value:.4f}\")\n",
    "\n",
    "# 등분산성 검정 (Levene Test 사용)\n",
    "print(\"\\n등분산성 검정 결과:\")\n",
    "stat, p_value = stats.levene(*groups)\n",
    "print(f\"p-value: {p_value:.4f}\")"
   ]
  },
  {
   "cell_type": "markdown",
   "metadata": {},
   "source": [
    "# 가설 검정 : 제조사별로 중고차 가격 검정"
   ]
  },
  {
   "cell_type": "code",
   "execution_count": 71,
   "metadata": {},
   "outputs": [
    {
     "name": "stdout",
     "output_type": "stream",
     "text": [
      "One-way ANOVA\n",
      "F 통계량: 323.303\n",
      "p-value: 0.0\n",
      "\n",
      "정규성 검정 결과:\n",
      "브랜드 'Ambassador'의 p-value: 0.0000\n",
      "브랜드 'Audi'의 p-value: 0.0000\n",
      "브랜드 'BMW'의 p-value: 0.0000\n",
      "브랜드 'Bentley'의 p-value: 0.0062\n",
      "브랜드 'Chevrolet'의 p-value: 0.0050\n",
      "브랜드 'Datsun'의 p-value: -0.0000\n",
      "브랜드 'Fiat'의 p-value: 0.0000\n",
      "브랜드 'Force'의 p-value: 0.0000\n",
      "브랜드 'Ford'의 p-value: 0.0000\n",
      "브랜드 'Honda'의 p-value: 0.6210\n",
      "브랜드 'Hyundai'의 p-value: 0.0001\n",
      "브랜드 'ISUZU'의 p-value: 0.0122\n",
      "브랜드 'Jaguar'의 p-value: 0.0000\n",
      "브랜드 'Jeep'의 p-value: 0.0001\n",
      "브랜드 'Lamborghini'의 p-value: 0.0000\n",
      "브랜드 'Land'의 p-value: 0.0000\n",
      "브랜드 'Mahindra'의 p-value: 0.0347\n",
      "브랜드 'Maruti'의 p-value: 0.0005\n",
      "브랜드 'Mercedes-Benz'의 p-value: 0.0000\n",
      "브랜드 'Mini'의 p-value: 0.2277\n",
      "브랜드 'Mitsubishi'의 p-value: 0.0000\n",
      "브랜드 'Nissan'의 p-value: 0.0000\n",
      "브랜드 'Porsche'의 p-value: 0.0000\n",
      "브랜드 'Renault'의 p-value: 0.0000\n",
      "브랜드 'Skoda'의 p-value: 0.0000\n",
      "브랜드 'Tata'의 p-value: 0.9061\n",
      "\n",
      "등분산성 검정 결과:\n",
      "p-value: 0.0000\n"
     ]
    }
   ],
   "source": [
    "# Group the 'Price' values by 'Brand' into a list of arrays\n",
    "brand_groups = [df[df['Brand'] == brand]['Price'] for brand in df['Brand'].unique()]\n",
    "\n",
    "# Check if any group has less than three data points and exclude it\n",
    "brand_groups = [group for group in brand_groups if len(group) >= 3]\n",
    "\n",
    "if len(brand_groups) < 2:\n",
    "    print(\"Error: Not enough groups with at least three data points to perform ANOVA.\")\n",
    "else:\n",
    "    # One-way ANOVA\n",
    "    f_result = stats.f_oneway(*brand_groups)\n",
    "    f, p = f_result.statistic.round(3), f_result.pvalue.round(3)\n",
    "\n",
    "    print(\"One-way ANOVA\")\n",
    "    print(\"F 통계량:\", f)\n",
    "    print(\"p-value:\", p)\n",
    "\n",
    "    # Normality test (Shapiro-Wilk test) for each group\n",
    "    print(\"\\n정규성 검정 결과:\")\n",
    "    for i, group in enumerate(brand_groups):\n",
    "        stat, p_value = stats.shapiro(group)\n",
    "        print(f\"브랜드 '{df['Brand'].unique()[i]}'의 p-value: {p_value:.4f}\")\n",
    "\n",
    "    # Homogeneity of variance test (Levene Test)\n",
    "    print(\"\\n등분산성 검정 결과:\")\n",
    "    stat, p_value = stats.levene(*brand_groups)\n",
    "    print(f\"p-value: {p_value:.4f}\")"
   ]
  },
  {
   "cell_type": "markdown",
   "metadata": {},
   "source": [
    "## 가설 검정 owner_type에 따라 중고차량 가격이 같다."
   ]
  },
  {
   "cell_type": "code",
   "execution_count": 72,
   "metadata": {
    "tags": []
   },
   "outputs": [],
   "source": [
    "df[\"Owner_Type\"] = df[\"Owner_Type\"].replace({\"first\": 1, \"second\": 2, \"third\": 3})"
   ]
  },
  {
   "cell_type": "code",
   "execution_count": 73,
   "metadata": {},
   "outputs": [
    {
     "name": "stdout",
     "output_type": "stream",
     "text": [
      "ANOVA 검정 결과:\n",
      "검정 통계량 (F-value): 18.457253899565238\n",
      "p-value: 6.455370608241317e-12\n",
      "p-value가 0.05보다 작으므로, 중고차량의 횟수에 따라 가격이 유의미하게 다릅니다.\n"
     ]
    }
   ],
   "source": [
    "groups = [df[df['Owner_Type'] == owner]['Price'] for owner in df['Owner_Type'].unique()]\n",
    "\n",
    "# ANOVA 검정을 수행합니다.\n",
    "anova_result = stats.f_oneway(*groups)\n",
    "\n",
    "# ANOVA 결과를 출력합니다.\n",
    "print(\"ANOVA 검정 결과:\")\n",
    "print(\"검정 통계량 (F-value):\", anova_result.statistic)\n",
    "print(\"p-value:\", anova_result.pvalue)\n",
    "\n",
    "# p-value를 통해 결과를 해석합니다.\n",
    "if anova_result.pvalue < 0.05:\n",
    "    print(\"p-value가 0.05보다 작으므로, 중고차량의 횟수에 따라 가격이 유의미하게 다릅니다.\")\n",
    "else:\n",
    "    print(\"p-value가 0.05 이상이므로, 중고차량의 횟수에 따라 가격이 유의미하게 다르지 않습니다.\")\n"
   ]
  },
  {
   "cell_type": "code",
   "execution_count": 74,
   "metadata": {},
   "outputs": [
    {
     "name": "stdout",
     "output_type": "stream",
     "text": [
      "정규성 검정 결과:\n",
      "중고횟수 'Third'의 p-value: 0.0000\n",
      "중고횟수 'First'의 p-value: 0.0000\n",
      "중고횟수 'Second'의 p-value: 0.0000\n",
      "중고횟수 'Fourth & Above'의 p-value: 0.5480\n",
      "\n",
      "등분산성 검정 결과:\n",
      "p-value: 0.0005\n"
     ]
    },
    {
     "name": "stderr",
     "output_type": "stream",
     "text": [
      "/home/piai/anaconda3/lib/python3.10/site-packages/scipy/stats/_morestats.py:1816: UserWarning: p-value may not be accurate for N > 5000.\n",
      "  warnings.warn(\"p-value may not be accurate for N > 5000.\")\n"
     ]
    }
   ],
   "source": [
    "print(\"정규성 검정 결과:\")\n",
    "for i, group in enumerate(groups):\n",
    "    stat, p_value = stats.shapiro(group)\n",
    "    print(f\"중고횟수 '{df['Owner_Type'].unique()[i]}'의 p-value: {p_value:.4f}\")\n",
    "\n",
    "# 등분산성 검정 (Levene Test 사용)\n",
    "print(\"\\n등분산성 검정 결과:\")\n",
    "stat, p_value = stats.levene(*groups)\n",
    "print(f\"p-value: {p_value:.4f}\")"
   ]
  }
 ],
 "metadata": {
  "kernelspec": {
   "display_name": "Python 3 (ipykernel)",
   "language": "python",
   "name": "python3"
  },
  "language_info": {
   "codemirror_mode": {
    "name": "ipython",
    "version": 3
   },
   "file_extension": ".py",
   "mimetype": "text/x-python",
   "name": "python",
   "nbconvert_exporter": "python",
   "pygments_lexer": "ipython3",
   "version": "3.10.9"
  }
 },
 "nbformat": 4,
 "nbformat_minor": 4
}
