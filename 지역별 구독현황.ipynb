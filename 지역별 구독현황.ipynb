{
 "cells": [
  {
   "cell_type": "code",
   "execution_count": null,
   "metadata": {},
   "outputs": [],
   "source": []
  },
  {
   "cell_type": "code",
   "execution_count": 22,
   "metadata": {},
   "outputs": [],
   "source": [
    "import pandas as pd\n",
    "import numpy as np\n",
    "import matplotlib\n",
    "import matplotlib.pyplot as plt\n",
    "import warnings\n",
    "import seaborn as sns\n",
    "warnings.filterwarnings('ignore')\n",
    "matplotlib.rc(\"font\", family= 'Noto Sans CJK JP')\n",
    "from scipy.stats import chi2_contingency"
   ]
  },
  {
   "cell_type": "code",
   "execution_count": 23,
   "metadata": {},
   "outputs": [
    {
     "data": {
      "text/html": [
       "<div>\n",
       "<style scoped>\n",
       "    .dataframe tbody tr th:only-of-type {\n",
       "        vertical-align: middle;\n",
       "    }\n",
       "\n",
       "    .dataframe tbody tr th {\n",
       "        vertical-align: top;\n",
       "    }\n",
       "\n",
       "    .dataframe thead th {\n",
       "        text-align: right;\n",
       "    }\n",
       "</style>\n",
       "<table border=\"1\" class=\"dataframe\">\n",
       "  <thead>\n",
       "    <tr style=\"text-align: right;\">\n",
       "      <th></th>\n",
       "      <th>회원번호</th>\n",
       "      <th>회원상태</th>\n",
       "      <th>성별</th>\n",
       "      <th>나이</th>\n",
       "      <th>등록카드</th>\n",
       "      <th>결혼</th>\n",
       "      <th>구독여부</th>\n",
       "      <th>주소지</th>\n",
       "      <th>세부주소지</th>\n",
       "    </tr>\n",
       "  </thead>\n",
       "  <tbody>\n",
       "    <tr>\n",
       "      <th>0</th>\n",
       "      <td>18764160</td>\n",
       "      <td>정상회원</td>\n",
       "      <td>여</td>\n",
       "      <td>68</td>\n",
       "      <td>농협중앙회</td>\n",
       "      <td>기혼</td>\n",
       "      <td>False</td>\n",
       "      <td>서울특별시</td>\n",
       "      <td>성동구</td>\n",
       "    </tr>\n",
       "    <tr>\n",
       "      <th>1</th>\n",
       "      <td>18792000</td>\n",
       "      <td>정상회원</td>\n",
       "      <td>남</td>\n",
       "      <td>83</td>\n",
       "      <td>연결앱결제</td>\n",
       "      <td>기혼</td>\n",
       "      <td>False</td>\n",
       "      <td>강원도</td>\n",
       "      <td>강릉시</td>\n",
       "    </tr>\n",
       "    <tr>\n",
       "      <th>2</th>\n",
       "      <td>18942336</td>\n",
       "      <td>정상회원</td>\n",
       "      <td>여</td>\n",
       "      <td>39</td>\n",
       "      <td>신한은행</td>\n",
       "      <td>기혼</td>\n",
       "      <td>False</td>\n",
       "      <td>인천광역시</td>\n",
       "      <td>중구</td>\n",
       "    </tr>\n",
       "    <tr>\n",
       "      <th>3</th>\n",
       "      <td>18949760</td>\n",
       "      <td>정상회원</td>\n",
       "      <td>여</td>\n",
       "      <td>73</td>\n",
       "      <td>기업은행</td>\n",
       "      <td>기혼</td>\n",
       "      <td>NaN</td>\n",
       "      <td>강원도</td>\n",
       "      <td>홍천군</td>\n",
       "    </tr>\n",
       "    <tr>\n",
       "      <th>4</th>\n",
       "      <td>19391488</td>\n",
       "      <td>정상회원</td>\n",
       "      <td>여</td>\n",
       "      <td>52</td>\n",
       "      <td>연결앱결제</td>\n",
       "      <td>기혼</td>\n",
       "      <td>False</td>\n",
       "      <td>대전광역시</td>\n",
       "      <td>중구</td>\n",
       "    </tr>\n",
       "  </tbody>\n",
       "</table>\n",
       "</div>"
      ],
      "text/plain": [
       "       회원번호  회원상태 성별  나이   등록카드  결혼   구독여부    주소지 세부주소지\n",
       "0  18764160  정상회원  여  68  농협중앙회  기혼  False  서울특별시   성동구\n",
       "1  18792000  정상회원  남  83  연결앱결제  기혼  False    강원도   강릉시\n",
       "2  18942336  정상회원  여  39   신한은행  기혼  False  인천광역시    중구\n",
       "3  18949760  정상회원  여  73   기업은행  기혼    NaN    강원도   홍천군\n",
       "4  19391488  정상회원  여  52  연결앱결제  기혼  False  대전광역시    중구"
      ]
     },
     "execution_count": 23,
     "metadata": {},
     "output_type": "execute_result"
    }
   ],
   "source": [
    "mem=pd.read_csv(\"/home/piai/바탕화면/2. Big Data 분석/members_completed.csv\")\n",
    "mem.head()"
   ]
  },
  {
   "cell_type": "code",
   "execution_count": 24,
   "metadata": {},
   "outputs": [
    {
     "data": {
      "text/html": [
       "<div>\n",
       "<style scoped>\n",
       "    .dataframe tbody tr th:only-of-type {\n",
       "        vertical-align: middle;\n",
       "    }\n",
       "\n",
       "    .dataframe tbody tr th {\n",
       "        vertical-align: top;\n",
       "    }\n",
       "\n",
       "    .dataframe thead th {\n",
       "        text-align: right;\n",
       "    }\n",
       "</style>\n",
       "<table border=\"1\" class=\"dataframe\">\n",
       "  <thead>\n",
       "    <tr style=\"text-align: right;\">\n",
       "      <th></th>\n",
       "      <th>회원번호</th>\n",
       "      <th>회원상태</th>\n",
       "      <th>성별</th>\n",
       "      <th>나이</th>\n",
       "      <th>등록카드</th>\n",
       "      <th>결혼</th>\n",
       "      <th>구독여부</th>\n",
       "      <th>주소지</th>\n",
       "      <th>세부주소지</th>\n",
       "    </tr>\n",
       "  </thead>\n",
       "  <tbody>\n",
       "  </tbody>\n",
       "</table>\n",
       "</div>"
      ],
      "text/plain": [
       "Empty DataFrame\n",
       "Columns: [회원번호, 회원상태, 성별, 나이, 등록카드, 결혼, 구독여부, 주소지, 세부주소지]\n",
       "Index: []"
      ]
     },
     "execution_count": 24,
     "metadata": {},
     "output_type": "execute_result"
    }
   ],
   "source": [
    "mem.loc[mem['주소지'].isna(),'주소지'] = '경기도'\n",
    "mem.loc[mem['주소지'].eq('경기도') & mem['세부주소지'].isna()]"
   ]
  },
  {
   "cell_type": "markdown",
   "metadata": {},
   "source": [
    "> 세부 주소지는 경기도의 최빈값인 ('수원시') 처리"
   ]
  },
  {
   "cell_type": "code",
   "execution_count": 25,
   "metadata": {},
   "outputs": [],
   "source": [
    "mem.loc[mem['주소지'].eq('경기도') & mem['세부주소지'].isna(), '세부주소지'] = '수원시'"
   ]
  },
  {
   "cell_type": "markdown",
   "metadata": {},
   "source": [
    "> 세부주소지 결측 6개의 주소지는 세종특별자치시, 따라서 세종특별자치시 최빈값인 ('조치원읍')처리"
   ]
  },
  {
   "cell_type": "code",
   "execution_count": 26,
   "metadata": {},
   "outputs": [],
   "source": [
    "mem.loc[mem['주소지'].eq('세종특별자치시') & mem['세부주소지'].isna(), '세부주소지'] = '조치원읍'"
   ]
  },
  {
   "cell_type": "markdown",
   "metadata": {},
   "source": [
    "> 경기(14), 강원(1), 서울(2), 광주(3) 전부 경기도, 강원도, 서울특별시, 광주광역시로 통일"
   ]
  },
  {
   "cell_type": "code",
   "execution_count": 27,
   "metadata": {},
   "outputs": [],
   "source": [
    "mem['주소지'] = mem['주소지'].replace('경기','경기도')\n",
    "mem['주소지'] = mem['주소지'].replace('광주','광주광역시')\n",
    "mem['주소지'] = mem['주소지'].replace('서울','서울특별시')\n",
    "mem['주소지'] = mem['주소지'].replace('강원','강원도')"
   ]
  },
  {
   "cell_type": "code",
   "execution_count": 28,
   "metadata": {},
   "outputs": [
    {
     "data": {
      "text/plain": [
       "경기도        2299\n",
       "서울특별시      1479\n",
       "부산광역시      1396\n",
       "경상남도       1305\n",
       "경상북도        801\n",
       "대구광역시       654\n",
       "강원도         597\n",
       "충청남도        575\n",
       "충청북도        527\n",
       "인천광역시       523\n",
       "전라북도        488\n",
       "대전광역시       488\n",
       "울산광역시       419\n",
       "광주광역시       392\n",
       "전라남도        360\n",
       "제주특별자치도     126\n",
       "세종특별자치시     111\n",
       "Name: 주소지, dtype: int64"
      ]
     },
     "execution_count": 28,
     "metadata": {},
     "output_type": "execute_result"
    }
   ],
   "source": [
    "mem['주소지'].value_counts()"
   ]
  },
  {
   "cell_type": "code",
   "execution_count": 29,
   "metadata": {},
   "outputs": [
    {
     "data": {
      "text/plain": [
       "경기도        2299\n",
       "서울특별시      1479\n",
       "부산광역시      1396\n",
       "경상남도       1305\n",
       "경상북도        801\n",
       "대구광역시       654\n",
       "강원도         597\n",
       "충청남도        575\n",
       "충청북도        527\n",
       "인천광역시       523\n",
       "전라북도        488\n",
       "대전광역시       488\n",
       "울산광역시       419\n",
       "광주광역시       392\n",
       "전라남도        360\n",
       "제주특별자치도     126\n",
       "세종특별자치시     111\n",
       "Name: 주소지, dtype: int64"
      ]
     },
     "execution_count": 29,
     "metadata": {},
     "output_type": "execute_result"
    }
   ],
   "source": [
    "mem['주소지'].value_counts()"
   ]
  },
  {
   "cell_type": "code",
   "execution_count": 30,
   "metadata": {},
   "outputs": [
    {
     "data": {
      "text/html": [
       "<div>\n",
       "<style scoped>\n",
       "    .dataframe tbody tr th:only-of-type {\n",
       "        vertical-align: middle;\n",
       "    }\n",
       "\n",
       "    .dataframe tbody tr th {\n",
       "        vertical-align: top;\n",
       "    }\n",
       "\n",
       "    .dataframe thead th {\n",
       "        text-align: right;\n",
       "    }\n",
       "</style>\n",
       "<table border=\"1\" class=\"dataframe\">\n",
       "  <thead>\n",
       "    <tr style=\"text-align: right;\">\n",
       "      <th>구독여부</th>\n",
       "      <th>False</th>\n",
       "      <th>True</th>\n",
       "    </tr>\n",
       "    <tr>\n",
       "      <th>주소지</th>\n",
       "      <th></th>\n",
       "      <th></th>\n",
       "    </tr>\n",
       "  </thead>\n",
       "  <tbody>\n",
       "    <tr>\n",
       "      <th>강원도</th>\n",
       "      <td>387</td>\n",
       "      <td>85</td>\n",
       "    </tr>\n",
       "    <tr>\n",
       "      <th>경기도</th>\n",
       "      <td>1507</td>\n",
       "      <td>352</td>\n",
       "    </tr>\n",
       "    <tr>\n",
       "      <th>경상남도</th>\n",
       "      <td>874</td>\n",
       "      <td>192</td>\n",
       "    </tr>\n",
       "    <tr>\n",
       "      <th>경상북도</th>\n",
       "      <td>537</td>\n",
       "      <td>112</td>\n",
       "    </tr>\n",
       "    <tr>\n",
       "      <th>광주광역시</th>\n",
       "      <td>264</td>\n",
       "      <td>52</td>\n",
       "    </tr>\n",
       "    <tr>\n",
       "      <th>대구광역시</th>\n",
       "      <td>431</td>\n",
       "      <td>94</td>\n",
       "    </tr>\n",
       "    <tr>\n",
       "      <th>대전광역시</th>\n",
       "      <td>338</td>\n",
       "      <td>67</td>\n",
       "    </tr>\n",
       "    <tr>\n",
       "      <th>부산광역시</th>\n",
       "      <td>948</td>\n",
       "      <td>177</td>\n",
       "    </tr>\n",
       "    <tr>\n",
       "      <th>서울특별시</th>\n",
       "      <td>997</td>\n",
       "      <td>209</td>\n",
       "    </tr>\n",
       "    <tr>\n",
       "      <th>세종특별자치시</th>\n",
       "      <td>71</td>\n",
       "      <td>21</td>\n",
       "    </tr>\n",
       "    <tr>\n",
       "      <th>울산광역시</th>\n",
       "      <td>293</td>\n",
       "      <td>57</td>\n",
       "    </tr>\n",
       "    <tr>\n",
       "      <th>인천광역시</th>\n",
       "      <td>368</td>\n",
       "      <td>61</td>\n",
       "    </tr>\n",
       "    <tr>\n",
       "      <th>전라남도</th>\n",
       "      <td>239</td>\n",
       "      <td>45</td>\n",
       "    </tr>\n",
       "    <tr>\n",
       "      <th>전라북도</th>\n",
       "      <td>336</td>\n",
       "      <td>60</td>\n",
       "    </tr>\n",
       "    <tr>\n",
       "      <th>제주특별자치도</th>\n",
       "      <td>96</td>\n",
       "      <td>14</td>\n",
       "    </tr>\n",
       "    <tr>\n",
       "      <th>충청남도</th>\n",
       "      <td>381</td>\n",
       "      <td>86</td>\n",
       "    </tr>\n",
       "    <tr>\n",
       "      <th>충청북도</th>\n",
       "      <td>374</td>\n",
       "      <td>69</td>\n",
       "    </tr>\n",
       "  </tbody>\n",
       "</table>\n",
       "</div>"
      ],
      "text/plain": [
       "구독여부     False  True \n",
       "주소지                  \n",
       "강원도        387     85\n",
       "경기도       1507    352\n",
       "경상남도       874    192\n",
       "경상북도       537    112\n",
       "광주광역시      264     52\n",
       "대구광역시      431     94\n",
       "대전광역시      338     67\n",
       "부산광역시      948    177\n",
       "서울특별시      997    209\n",
       "세종특별자치시     71     21\n",
       "울산광역시      293     57\n",
       "인천광역시      368     61\n",
       "전라남도       239     45\n",
       "전라북도       336     60\n",
       "제주특별자치도     96     14\n",
       "충청남도       381     86\n",
       "충청북도       374     69"
      ]
     },
     "execution_count": 30,
     "metadata": {},
     "output_type": "execute_result"
    }
   ],
   "source": [
    "mem.groupby('주소지')['구독여부'].value_counts().unstack() "
   ]
  },
  {
   "cell_type": "code",
   "execution_count": 31,
   "metadata": {},
   "outputs": [],
   "source": [
    "age_subscription_counts = mem.groupby('주소지')['구독여부'].value_counts().unstack()"
   ]
  },
  {
   "cell_type": "code",
   "execution_count": 32,
   "metadata": {},
   "outputs": [
    {
     "data": {
      "image/png": "[encoded data removed]",
      "text/plain": [
       "<Figure size 1000x600 with 1 Axes>"
      ]
     },
     "metadata": {},
     "output_type": "display_data"
    }
   ],
   "source": [
    "age_subscription_counts.plot(kind='bar', stacked=True, figsize=(10, 6))\n",
    "plt.title('지역별 구독 현황')\n",
    "plt.xlabel('지역')\n",
    "plt.ylabel('구독 수')\n",
    "plt.xticks(rotation=45)\n",
    "plt.legend(title='구독여부')\n",
    "plt.show()\n"
   ]
  },
  {
   "cell_type": "code",
   "execution_count": 33,
   "metadata": {},
   "outputs": [
    {
     "name": "stdout",
     "output_type": "stream",
     "text": [
      "구독여부        False     True \n",
      "주소지                        \n",
      "강원도      0.819915  0.180085\n",
      "경기도      0.810651  0.189349\n",
      "경상남도     0.819887  0.180113\n",
      "경상북도     0.827427  0.172573\n",
      "광주광역시    0.835443  0.164557\n",
      "대구광역시    0.820952  0.179048\n",
      "대전광역시    0.834568  0.165432\n",
      "부산광역시    0.842667  0.157333\n",
      "서울특별시    0.826700  0.173300\n",
      "세종특별자치시  0.771739  0.228261\n",
      "울산광역시    0.837143  0.162857\n",
      "인천광역시    0.857809  0.142191\n",
      "전라남도     0.841549  0.158451\n",
      "전라북도     0.848485  0.151515\n",
      "제주특별자치도  0.872727  0.127273\n",
      "충청남도     0.815846  0.184154\n",
      "충청북도     0.844244  0.155756\n"
     ]
    }
   ],
   "source": [
    "# 연령대별 구독 여부 비율 계산\n",
    "age_subscription_ratios = mem.groupby('주소지')['구독여부'].value_counts(normalize=True).unstack().fillna(0)\n",
    "print(age_subscription_ratios)"
   ]
  },
  {
   "cell_type": "code",
   "execution_count": 34,
   "metadata": {},
   "outputs": [
    {
     "name": "stdout",
     "output_type": "stream",
     "text": [
      "카이제곱 값: 16.094613957022613\n",
      "p-value: 0.4463771456246305\n",
      "자유도: 16\n",
      "예상 빈도: [[ 390.83303904   81.16696096]\n",
      " [1539.31910928  319.68089072]\n",
      " [ 882.68648224  183.31351776]\n",
      " [ 537.39542868  111.60457132]\n",
      " [ 261.65940749   54.34059251]\n",
      " [ 434.71895232   90.28104768]\n",
      " [ 335.35462036   69.64537964]\n",
      " [ 931.54061212  193.45938788]\n",
      " [ 998.6115362   207.3884638 ]\n",
      " [  76.17932117   15.82067883]\n",
      " [ 289.81263488   60.18736512]\n",
      " [ 355.22748676   73.77251324]\n",
      " [ 235.16225231   48.83774769]\n",
      " [ 327.90229547   68.09770453]\n",
      " [  91.08397096   18.91602904]\n",
      " [ 386.69285854   80.30714146]\n",
      " [ 366.81999215   76.18000785]]\n",
      "결론 : p-value가 0.05보다 크기 때문에 귀무가설을 채택한다. 지역별 구독여부는 동일하다.\n"
     ]
    }
   ],
   "source": [
    "# 교차 테이블 생성\n",
    "cross_table = pd.crosstab(mem['주소지'], mem['구독여부'])\n",
    "\n",
    "# 카이제곱 검정 수행\n",
    "chi2, p, dof, expected = chi2_contingency(cross_table)\n",
    "\n",
    "# 결과 출력\n",
    "print(\"카이제곱 값:\", chi2)\n",
    "print(\"p-value:\", p)\n",
    "print(\"자유도:\", dof)\n",
    "print(\"예상 빈도:\", expected)\n",
    "print(\"결론 : p-value가 0.05보다 크기 때문에 귀무가설을 채택한다. 지역별 구독여부는 동일하다.\")"
   ]
  },
  {
   "cell_type": "code",
   "execution_count": null,
   "metadata": {},
   "outputs": [],
   "source": []
  }
 ],
 "metadata": {
  "kernelspec": {
   "display_name": "base",
   "language": "python",
   "name": "python3"
  },
  "language_info": {
   "codemirror_mode": {
    "name": "ipython",
    "version": 3
   },
   "file_extension": ".py",
   "mimetype": "text/x-python",
   "name": "python",
   "nbconvert_exporter": "python",
   "pygments_lexer": "ipython3",
   "version": "3.10.9"
  },
  "orig_nbformat": 4
 },
 "nbformat": 4,
 "nbformat_minor": 2
}
