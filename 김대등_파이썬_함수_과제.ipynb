{
 "cells": [
  {
   "cell_type": "code",
   "execution_count": 1,
   "id": "0113dafa",
   "metadata": {},
   "outputs": [
    {
     "name": "stdout",
     "output_type": "stream",
     "text": [
      "6 13\n",
      "6 13\n"
     ]
    }
   ],
   "source": [
    "# 실습1 : len()구현 (len()을 사용하지 않고 구현할 것)\n",
    "\n",
    "def my_len(x) : \n",
    "    length=0\n",
    "    for i in x :\n",
    "        length+=1\n",
    "    return length\n",
    "\n",
    "a=[5,5,6,7,8,3]\n",
    "b='Life is short'\n",
    "print(len(a),len(b))\n",
    "print(my_len(a),my_len(b))"
   ]
  },
  {
   "cell_type": "code",
   "execution_count": 2,
   "id": "5f463c44",
   "metadata": {},
   "outputs": [
    {
     "name": "stdout",
     "output_type": "stream",
     "text": [
      "6\n",
      "120\n"
     ]
    }
   ],
   "source": [
    "# 실습2 : 양의 정수 a와 b를 전달받아 a부터 b까지 곱해서 반환하는 mult 함수를 작성하시오\n",
    "\n",
    "def mult(a,b) :\n",
    "    ret=1\n",
    "    for i in range(a,b+1) :\n",
    "        ret*=i\n",
    "    return ret\n",
    "\n",
    "print(mult(1,3))\n",
    "print(mult(2,5))"
   ]
  },
  {
   "cell_type": "code",
   "execution_count": 3,
   "id": "8c70f226",
   "metadata": {},
   "outputs": [
    {
     "name": "stdout",
     "output_type": "stream",
     "text": [
      "7 -9\n",
      "(7, -9)\n",
      "(1, -1)\n",
      "(7, -9)\n",
      "(1, -1)\n"
     ]
    }
   ],
   "source": [
    "# 실습3 : 숫자로 구성된 리스트를 전달받아, 리스트에서 양수 값을 더한 결과와 음수 값을 더한 결과를 반환하는 함수를 작성하시오.\n",
    "\n",
    "#풀이1\n",
    "def sum_pos_neg(l):\n",
    "    possum,negsum=0,0\n",
    "    for i in l:\n",
    "        if i >0 :\n",
    "            possum+=i\n",
    "        elif i<0 : \n",
    "            negsum+=i\n",
    "    return possum, negsum\n",
    "    \n",
    "\n",
    "# 출력 방법1 \n",
    "possum, negsum = sum_pos_neg([3,4,-6,-3])\n",
    "print(possum, negsum)\n",
    "\n",
    "# 출력 방법2 \n",
    "print(sum_pos_neg([3,4,-6,-3]))\n",
    "print(sum_pos_neg([0,0,0,0,0,0,0,0,0,1,-1]))\n",
    "\n",
    "\n",
    "#풀이2 \n",
    "def sum_pos_neg(l) :\n",
    "    possum= sum([i for i in l if i>0])\n",
    "    negsum= sum([i for i in l if i<0])\n",
    "    return possum, negsum\n",
    "\n",
    "print(sum_pos_neg([3,4,-6,-3]))\n",
    "print(sum_pos_neg([0,0,0,0,0,0,0,0,0,1,-1]))"
   ]
  },
  {
   "cell_type": "code",
   "execution_count": 4,
   "id": "b04e3d39",
   "metadata": {},
   "outputs": [
    {
     "name": "stdout",
     "output_type": "stream",
     "text": [
      "[1.5, 1.5] [7.5, 5.5] [4.13, 2.72]\n"
     ]
    }
   ],
   "source": [
    "# 실습4 : 1개 이상의 2차원 벡터들을 전달받아 벡터들의 합을 구하여 반환하는 함수를 작성하시오.\n",
    "\n",
    "def vector_sum(vector, *vectors):\n",
    "    v = vector[:]\n",
    "    for i in vectors :\n",
    "        v[0]+= i[0]\n",
    "        v[1]+= i[1]\n",
    "    return v\n",
    "\n",
    "\n",
    "v1=[0, 1]\n",
    "v2=[0.5, 0.5]\n",
    "v3=[1, 0]\n",
    "v4=[6, 4]\n",
    "v5=[3.13, 2.72]\n",
    "m1 = vector_sum(v1, v2, v3)\n",
    "m2 = vector_sum(v1, v2, v3, v4)\n",
    "m3 = vector_sum(v3, v5)\n",
    "print(m1,m2,m3)"
   ]
  },
  {
   "cell_type": "code",
   "execution_count": 5,
   "id": "687167eb",
   "metadata": {},
   "outputs": [
    {
     "name": "stdout",
     "output_type": "stream",
     "text": [
      "[1, 1, 2, 2, 3, 5, 9]\n",
      "[0, 4, 6, 9]\n",
      "[0, 0]\n"
     ]
    }
   ],
   "source": [
    "# 실습 5 : 숫자로 구성된 리스트 2개를 받아서 이 두 리스트를 합친 후에 정렬한 새로운 리스트를 반환하는 함수를 작성하시오.\n",
    "# (단, 매개변수의 값이 주어지지 않으면, [0]이 기본적으로 주어진다.)\n",
    "\n",
    "def merge_list(first=[0], second=[0]):\n",
    "    return sorted(first+second)\n",
    "    \n",
    "    \n",
    "l = [3, 5, 9, 1, 2]\n",
    "ml1 = merge_list(l,[2,1])\n",
    "ml2 = merge_list([6,9,4])\n",
    "ml3 = merge_list()\n",
    "print(ml1) # [1, 1, 2, 2, 3, 5, 9]\n",
    "print(ml2) # [0, 4, 6, 9]\n",
    "print(ml3) # [0, 0]"
   ]
  },
  {
   "cell_type": "code",
   "execution_count": 6,
   "id": "d88a4baa",
   "metadata": {},
   "outputs": [
    {
     "name": "stdout",
     "output_type": "stream",
     "text": [
      "오늘 점심은 삼계탕입니다\n",
      "오늘 점심은 삼계탕입니다\n",
      "오늘 점심은 삼계탕입니다.\n"
     ]
    }
   ],
   "source": [
    "# 실습 6 : 점심 메뉴 리스트에서 임의로 하나의 메뉴를 골라 정해주는 프로그램을 완성하시오.\n",
    "import random\n",
    "\n",
    "menu = [\"된장찌개\", \"부대찌개\", \"김치찌개\", \"삼계탕\", \"파스타\", \"돈까스\", \"쌀국수\"]\n",
    "\n",
    "food=random.choice(menu)\n",
    "\n",
    "print('오늘 점심은 {}입니다'.format(food))\n",
    "print(f'오늘 점심은 {food}입니다')\n",
    "print('오늘 점심은 %s입니다.'%food)"
   ]
  },
  {
   "cell_type": "code",
   "execution_count": 7,
   "id": "52cf6d86",
   "metadata": {},
   "outputs": [
    {
     "name": "stdout",
     "output_type": "stream",
     "text": [
      "1번째 자동 기입 ==> 9 18 21 23 27 32\n",
      "2번째 자동 기입 ==> 3 16 23 33 40 41\n",
      "3번째 자동 기입 ==> 7 21 23 35 36 45\n",
      "4번째 자동 기입 ==> 1 6 7 34 35 36\n",
      "5번째 자동 기입 ==> 1 8 18 30 33 35\n"
     ]
    }
   ],
   "source": [
    "# 실습 7 : 로또 추첨 프로그램 \n",
    "\n",
    "# 5개의 로또 번호 조합을 출력해주는 프로그램을 작성  \n",
    "# 1~45 숫자 중 6개를 임의로 선택 후 정렬하여 출력\n",
    "# 단, 중복된 번호를 가질 수 없음\n",
    "\n",
    "import random\n",
    "\n",
    "\n",
    "\n",
    "for i in range(1,6) :\n",
    "    number=sorted(random.sample([i for i in range(1,46)],6))\n",
    "    print(f\"{i}번째 자동 기입 ==>\",*number)\n",
    "\n"
   ]
  },
  {
   "cell_type": "code",
   "execution_count": 8,
   "id": "7504fd6d",
   "metadata": {},
   "outputs": [
    {
     "name": "stdout",
     "output_type": "stream",
     "text": [
      "1\n",
      "9\n",
      "[3, 5, 2]\n"
     ]
    }
   ],
   "source": [
    "# 실습 8 : 숫자로 구성된 리스트를 전달받아 최댓값, 최솟값을 반환하고, 두 수를 리스트에서 제거하는 함수를 작성하시오.\n",
    "def get_min_max(l):\n",
    "    min_val=min(l)\n",
    "    max_val=max(l)\n",
    "    return min_val, max_val\n",
    "\n",
    "l = [3, 5, 9, 1, 2]\n",
    "min_val, max_val = get_min_max(l)\n",
    "\n",
    "l.remove(min_val)\n",
    "l.remove(max_val)\n",
    "print(min_val)\n",
    "print(max_val)\n",
    "print(l)"
   ]
  },
  {
   "cell_type": "code",
   "execution_count": 9,
   "id": "f69dc885",
   "metadata": {},
   "outputs": [
    {
     "name": "stdout",
     "output_type": "stream",
     "text": [
      "{'a': 3, 'b': 3, 'd': 7, 'e': 9, 'c': 4}\n"
     ]
    }
   ],
   "source": [
    "# 실습 9 : 두 딕셔너리를 전달받아 각 딕셔너리에 등장한 값을 모두 더한 새로운 딕셔너리를 반환하는 함수 comb_dict()를 작성하시오.\n",
    "\n",
    "def comb_dict(d1, d2):\n",
    "    d3={}\n",
    "    for k,v in d1.items():\n",
    "        d3[k]=v\n",
    "    for k,v in d2.items():\n",
    "        if k in d3 :\n",
    "            d3[k]+=v\n",
    "        else :\n",
    "            d3[k]=v\n",
    "    return d3\n",
    "\n",
    "d1 = {'a': 1, 'b': 3, 'd': 7, 'e': 8}\n",
    "d2 = {'a': 2, 'c': 4, 'e': 1}\n",
    "d3 = comb_dict(d1, d2)\n",
    "print(d3)"
   ]
  },
  {
   "cell_type": "code",
   "execution_count": 29,
   "id": "72d47b09",
   "metadata": {},
   "outputs": [
    {
     "name": "stdout",
     "output_type": "stream",
     "text": [
      "4\n",
      "300\n"
     ]
    }
   ],
   "source": [
    "# 실습 10 : 숫자를 2개 이상 입력 받아, 최댓값과 최솟값의 차를 반환하는 함수를 작성하시오.\n",
    "# 풀이 1 - 실제 시스템 상 오류 \n",
    "def diff(a, *n):\n",
    "    max_value=max(n)\n",
    "    min_value=min(n)\n",
    "    \n",
    "    if(a>max_value):\n",
    "        max_value=a\n",
    "    else : \n",
    "        pass\n",
    "    if(a<min_value):\n",
    "        min_value=a\n",
    "    else :\n",
    "        pass\n",
    "    return max_value-min_value\n",
    "\n",
    "print(diff(1,2,3,4,5))\n",
    "print(diff(-100, 200))\n"
   ]
  },
  {
   "cell_type": "code",
   "execution_count": 30,
   "id": "dc3cc8c0",
   "metadata": {},
   "outputs": [
    {
     "ename": "ValueError",
     "evalue": "max() arg is an empty sequence",
     "output_type": "error",
     "traceback": [
      "\u001b[0;31m---------------------------------------------------------------------------\u001b[0m",
      "\u001b[0;31mValueError\u001b[0m                                Traceback (most recent call last)",
      "Cell \u001b[0;32mIn[30], line 1\u001b[0m\n\u001b[0;32m----> 1\u001b[0m \u001b[38;5;28mprint\u001b[39m(\u001b[43mdiff\u001b[49m\u001b[43m(\u001b[49m\u001b[38;5;241;43m100\u001b[39;49m\u001b[43m)\u001b[49m)\n",
      "Cell \u001b[0;32mIn[29], line 4\u001b[0m, in \u001b[0;36mdiff\u001b[0;34m(a, *n)\u001b[0m\n\u001b[1;32m      3\u001b[0m \u001b[38;5;28;01mdef\u001b[39;00m \u001b[38;5;21mdiff\u001b[39m(a, \u001b[38;5;241m*\u001b[39mn):\n\u001b[0;32m----> 4\u001b[0m     max_value\u001b[38;5;241m=\u001b[39m\u001b[38;5;28;43mmax\u001b[39;49m\u001b[43m(\u001b[49m\u001b[43mn\u001b[49m\u001b[43m)\u001b[49m\n\u001b[1;32m      5\u001b[0m     min_value\u001b[38;5;241m=\u001b[39m\u001b[38;5;28mmin\u001b[39m(n)\n\u001b[1;32m      7\u001b[0m     \u001b[38;5;28;01mif\u001b[39;00m(a\u001b[38;5;241m>\u001b[39mmax_value):\n",
      "\u001b[0;31mValueError\u001b[0m: max() arg is an empty sequence"
     ]
    }
   ],
   "source": [
    "print(diff(100)) #오류발생!"
   ]
  },
  {
   "cell_type": "code",
   "execution_count": 62,
   "id": "dbad8702",
   "metadata": {},
   "outputs": [
    {
     "name": "stdout",
     "output_type": "stream",
     "text": [
      "4\n",
      "300\n",
      "오류발생!\n"
     ]
    }
   ],
   "source": [
    "# 실습 10 : 풀이2 - 숫자 1개 입력시 오류발생! 글자 프린트  \n",
    "\n",
    "\n",
    "# 실습 10 : 숫자를 2개 이상 입력 받아, 최댓값과 최솟값의 차를 반환하는 함수를 작성하시오.\n",
    "\n",
    "def diff(*n):\n",
    "    if len(n)<=1 :\n",
    "        print('오류발생!')\n",
    "        return\n",
    "    else: \n",
    "        max_value=max(n)\n",
    "        min_value=min(n)\n",
    "    \n",
    "    return max_value-min_value\n",
    "\n",
    "print(diff(1,2,3,4,5))\n",
    "print(diff(-100, 200))\n",
    "diff(3)"
   ]
  },
  {
   "cell_type": "code",
   "execution_count": null,
   "id": "02b7ca7b",
   "metadata": {},
   "outputs": [],
   "source": []
  }
 ],
 "metadata": {
  "kernelspec": {
   "display_name": "Python 3 (ipykernel)",
   "language": "python",
   "name": "python3"
  },
  "language_info": {
   "codemirror_mode": {
    "name": "ipython",
    "version": 3
   },
   "file_extension": ".py",
   "mimetype": "text/x-python",
   "name": "python",
   "nbconvert_exporter": "python",
   "pygments_lexer": "ipython3",
   "version": "3.10.9"
  }
 },
 "nbformat": 4,
 "nbformat_minor": 5
}
