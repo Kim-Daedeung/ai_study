{
 "cells": [
  {
   "cell_type": "code",
   "execution_count": 1,
   "id": "248c0705",
   "metadata": {},
   "outputs": [],
   "source": [
    "import pandas as pd\n",
    "import numpy as np\n",
    "import matplotlib\n",
    "import matplotlib.pyplot as plt\n",
    "from scipy import stats\n",
    "from statsmodels.stats.proportion import proportions_ztest\n",
    "%matplotlib inline\n",
    "\n",
    "import warnings\n",
    "warnings.filterwarnings(\"ignore\")"
   ]
  },
  {
   "cell_type": "code",
   "execution_count": 2,
   "id": "54180031",
   "metadata": {},
   "outputs": [
    {
     "name": "stdout",
     "output_type": "stream",
     "text": [
      "135분 이상 걸리는 A/S 작업 비율 : 15.865525%\n"
     ]
    }
   ],
   "source": [
    "# 연습 1\n",
    "mu=115\n",
    "sigma=20\n",
    "x=135\n",
    "prob=stats.norm.cdf(x,mu,sigma)\n",
    "print(\"{0}분 이상 걸리는 A/S 작업 비율 : {1:1f}%\".format(x,(1-prob)*100))"
   ]
  },
  {
   "cell_type": "code",
   "execution_count": 3,
   "id": "59c2319d",
   "metadata": {},
   "outputs": [
    {
     "name": "stdout",
     "output_type": "stream",
     "text": [
      "나의 키의 범위는 : 84.134475%\n"
     ]
    }
   ],
   "source": [
    "# 실습 1\n",
    "Xvar=175\n",
    "sd= 5\n",
    "X=180\n",
    "prob=stats.norm.cdf(Xvar,X,sd)\n",
    "print(\"나의 키의 범위는 : {1:1f}%\".format(x,(1-prob)*100))"
   ]
  },
  {
   "cell_type": "code",
   "execution_count": 4,
   "id": "42929e7a",
   "metadata": {},
   "outputs": [
    {
     "name": "stdout",
     "output_type": "stream",
     "text": [
      "12km 이상 15km 이하를 달릴 확률은 : 0.341%에 해당함\n"
     ]
    }
   ],
   "source": [
    "# 연습 2\n",
    "mu=12\n",
    "sigma=3\n",
    "x1=15\n",
    "prob1=stats.norm.cdf(x1,mu,sigma)\n",
    "print(\"{0}km 이상 {1}km 이하를 달릴 확률은 : {2:.3f}%에 해당함\".format(mu,x1,(prob1)-0.5))"
   ]
  },
  {
   "cell_type": "code",
   "execution_count": 5,
   "id": "8094f714",
   "metadata": {},
   "outputs": [
    {
     "name": "stdout",
     "output_type": "stream",
     "text": [
      "9km 이상 15km 이하를 달릴 확률은 : 0.683%에 해당함\n"
     ]
    }
   ],
   "source": [
    "# 실습 2-1 \n",
    "mu=12\n",
    "sigma=3\n",
    "x1=9\n",
    "x2=15\n",
    "prob1=stats.norm.cdf(x1,mu,sigma)\n",
    "prob2=stats.norm.cdf(x2,mu,sigma)\n",
    "\n",
    "print(\"{0}km 이상 {1}km 이하를 달릴 확률은 : {2:.3f}%에 해당함\".format(x1,x2,prob2-prob1))"
   ]
  },
  {
   "cell_type": "code",
   "execution_count": 6,
   "id": "6c40dfb9",
   "metadata": {},
   "outputs": [
    {
     "name": "stdout",
     "output_type": "stream",
     "text": [
      "15km 이상를 달릴 확률은 : 0.159%에 해당함\n"
     ]
    }
   ],
   "source": [
    "# 실습 2-2 \n",
    "mu=12\n",
    "sigma=3\n",
    "x1=15\n",
    "prob=stats.norm.cdf(x1,mu,sigma)\n",
    "\n",
    "print(\"{0}km 이상를 달릴 확률은 : {1:.3f}%에 해당함\".format(x1,1-prob))"
   ]
  },
  {
   "cell_type": "code",
   "execution_count": 7,
   "id": "6335e527",
   "metadata": {},
   "outputs": [
    {
     "name": "stdout",
     "output_type": "stream",
     "text": [
      "P(T<=t):0.907\n"
     ]
    }
   ],
   "source": [
    "# 연습 3 : t분포\n",
    "t=1.53\n",
    "df=5\n",
    "prob=stats.t.cdf(t,df)\n",
    "print(\"P(T<=t):{:.3f}\".format(prob))"
   ]
  },
  {
   "cell_type": "code",
   "execution_count": 8,
   "id": "53f80abb",
   "metadata": {},
   "outputs": [
    {
     "name": "stdout",
     "output_type": "stream",
     "text": [
      "P(T<=t):0.976\n"
     ]
    }
   ],
   "source": [
    "# 실습 3 \n",
    "t=2\n",
    "df=100\n",
    "prob=stats.t.cdf(t,df)\n",
    "print(\"P(T<=t):{:.3f}\".format(prob))"
   ]
  },
  {
   "cell_type": "code",
   "execution_count": 9,
   "id": "fc388c11",
   "metadata": {},
   "outputs": [
    {
     "name": "stdout",
     "output_type": "stream",
     "text": [
      "P(X<10):0.0002\n"
     ]
    }
   ],
   "source": [
    "# 연습 4\n",
    "chisq=10\n",
    "df=30\n",
    "prob=stats.chi2.cdf(chisq,df)\n",
    "\n",
    "print(\"P(X<{0}):{1:.4f}\".format(chisq,prob))"
   ]
  },
  {
   "cell_type": "code",
   "execution_count": 10,
   "id": "e3d39ee4",
   "metadata": {},
   "outputs": [
    {
     "name": "stdout",
     "output_type": "stream",
     "text": [
      "P(X<3):0.0656\n"
     ]
    }
   ],
   "source": [
    "# 실습 4\n",
    "chisq=3\n",
    "df=8\n",
    "prob=stats.chi2.cdf(chisq,df)\n",
    "\n",
    "print(\"P(X<{0}):{1:.4f}\".format(chisq,prob))"
   ]
  },
  {
   "cell_type": "code",
   "execution_count": 11,
   "id": "983aa07c",
   "metadata": {},
   "outputs": [
    {
     "name": "stdout",
     "output_type": "stream",
     "text": [
      "P(X<=F):0.904\n"
     ]
    }
   ],
   "source": [
    "# 연습 5 \n",
    "f=2.0\n",
    "dfnum=15\n",
    "dfden=15\n",
    "\n",
    "prob=stats.f.cdf(x=f,dfn=dfnum,dfd=dfden)\n",
    "print(\"P(X<=F):{:.3f}\".format(prob))"
   ]
  },
  {
   "cell_type": "code",
   "execution_count": 12,
   "id": "77bc4509",
   "metadata": {},
   "outputs": [
    {
     "name": "stdout",
     "output_type": "stream",
     "text": [
      "P(X<=F):0.850\n"
     ]
    }
   ],
   "source": [
    "# 실습 5 \n",
    "f=1.5\n",
    "dfnum=10\n",
    "dfden=100\n",
    "prob=stats.f.cdf(x=f,dfn=dfnum,dfd=dfden)\n",
    "print(\"P(X<=F):{:.3f}\".format(prob))"
   ]
  },
  {
   "cell_type": "code",
   "execution_count": 13,
   "id": "420dd8c0",
   "metadata": {},
   "outputs": [
    {
     "name": "stdout",
     "output_type": "stream",
     "text": [
      "P=(X=0)=0.216\n",
      "P=(X=1)=0.432\n",
      "P=(X=2)=0.288\n",
      "P=(X=3)=0.064\n"
     ]
    }
   ],
   "source": [
    "# 연습 6 \n",
    "n=3\n",
    "for i in range(n+1):\n",
    "    prob=stats.binom.pmf(k=i,n=n, p=0.4)\n",
    "    print(\"P=(X={0})={1:.3f}\".format(i,prob))"
   ]
  },
  {
   "cell_type": "code",
   "execution_count": 14,
   "id": "19471a6e",
   "metadata": {},
   "outputs": [
    {
     "name": "stdout",
     "output_type": "stream",
     "text": [
      "P=(X=0)=0.168\n",
      "P=(X=1)=0.360\n",
      "P=(X=2)=0.309\n",
      "P=(X=3)=0.132\n",
      "P=(X=4)=0.028\n",
      "P=(X=5)=0.002\n"
     ]
    }
   ],
   "source": [
    "# 실습 6\n",
    "n=5\n",
    "for i in range(n+1):\n",
    "    prob=stats.binom.pmf(k=i,n=n, p=0.3)\n",
    "    print(\"P=(X={0})={1:.3f}\".format(i,prob))"
   ]
  },
  {
   "cell_type": "code",
   "execution_count": 15,
   "id": "10c8c13a",
   "metadata": {},
   "outputs": [
    {
     "name": "stdout",
     "output_type": "stream",
     "text": [
      "Shapiro-Wilk Test : statistic=0.9788166284561157, p-value=0.1074606254696846\n"
     ]
    }
   ],
   "source": [
    "# 연습 7\n",
    "\n",
    "df=pd.read_csv(\"/home/piai/바탕화면/1 Big Data 분석 기초/camshaft.csv\", encoding='euc-kr')\n",
    "df.head()\n",
    "\n",
    "statistic,p= stats.shapiro(df['Supp1'])\n",
    "statistic,p\n",
    "print(\"Shapiro-Wilk Test : statistic={}, p-value={}\".format(statistic,p))"
   ]
  },
  {
   "cell_type": "code",
   "execution_count": 16,
   "id": "7a52cbf1",
   "metadata": {},
   "outputs": [
    {
     "name": "stdout",
     "output_type": "stream",
     "text": [
      "Shapiro-Wilk Test : statistic=0.906264066696167, p-value=0.2563020884990692\n",
      "Shapiro-Wilk Test : statistic=0.9729753732681274, p-value=0.2563020884990692\n"
     ]
    }
   ],
   "source": [
    "# 실습 7\n",
    "\n",
    "df=pd.read_csv(\"/home/piai/바탕화면/1 Big Data 분석 기초/2sample_t_test.csv\", encoding='euc-kr')\n",
    "df.head()\n",
    "df=df.dropna()\n",
    "statistic1,p1= stats.shapiro(df['Mat_A'])\n",
    "statistic1,p1\n",
    "print(\"Shapiro-Wilk Test : statistic={}, p-value={}\".format(statistic1,p1))\n",
    "statistic2,p2= stats.shapiro(df['Mat_B'])\n",
    "statistic2,p2\n",
    "print(\"Shapiro-Wilk Test : statistic={}, p-value={}\".format(statistic2,p1))"
   ]
  },
  {
   "cell_type": "markdown",
   "id": "bcf72c77",
   "metadata": {},
   "source": [
    "#### 정규성을 완벽하게 따른다"
   ]
  },
  {
   "cell_type": "code",
   "execution_count": 17,
   "id": "2e1b7254",
   "metadata": {},
   "outputs": [
    {
     "name": "stdout",
     "output_type": "stream",
     "text": [
      "신뢰구간:([2.57][2.82])\n"
     ]
    }
   ],
   "source": [
    "# 연습 8\n",
    "df=pd.DataFrame({\"sample\":[3.6,2.9,2.8,2.6,3.4,3.2,2.2,2.6,2.6,2.4,2.4,2.6,3.4,2.4,2.1,2.6,3.0,2.4,2.7,2.4 ,2.6,2.9,2.9,2.0,2.7,2.2,2.8,2.7,1.8,2.5 ,3.0,3.2,2.8,2.6,3.2,3.1,2.9,2.7,2.7,2.2]})\n",
    "lower,upper =stats.norm.interval(0.95,loc=np.mean(df),scale=0.397/np.sqrt(40))\n",
    "print(\"신뢰구간:({0}{1})\".format(lower.round(2),upper.round(2)))"
   ]
  },
  {
   "cell_type": "code",
   "execution_count": 18,
   "id": "0522eb1a",
   "metadata": {},
   "outputs": [
    {
     "name": "stdout",
     "output_type": "stream",
     "text": [
      "신뢰구간:([17.83][21.17])\n"
     ]
    }
   ],
   "source": [
    "# 실습 8\n",
    "df=pd.DataFrame({\"sample\":[18,18,20,21,20,23,19,18,17,21,22,20,20,21,20,19,19,18,17,19]})\n",
    "lower,upper =stats.norm.interval(0.95,loc=np.mean(df),scale=3.8/np.sqrt(20))\n",
    "print(\"신뢰구간:({0}{1})\".format(lower.round(2),upper.round(2)))"
   ]
  },
  {
   "cell_type": "code",
   "execution_count": 19,
   "id": "8019dee7",
   "metadata": {},
   "outputs": [
    {
     "name": "stdout",
     "output_type": "stream",
     "text": [
      "신뢰구간:([54.39][55.33])\n"
     ]
    }
   ],
   "source": [
    "# 연습 9\n",
    "df=pd.DataFrame({\"sample\":[54.1,53.3,56.1,55.7,54.0,54.1,54.5,57.1,55.2,53.8,54.1,54.1,56.1,55.0,55.9,56.0,54.9,54.3,53.9,55.0]})\n",
    "lower,upper = stats.t.interval(0.95,len(df)-1, loc=np.mean(df),scale=stats.sem(df))\n",
    "print(\"신뢰구간:({0}{1})\".format(lower.round(2),upper.round(2)))"
   ]
  },
  {
   "cell_type": "code",
   "execution_count": 20,
   "id": "3456e8c9",
   "metadata": {},
   "outputs": [
    {
     "name": "stdout",
     "output_type": "stream",
     "text": [
      "신뢰구간:([70.6][72.4])\n"
     ]
    }
   ],
   "source": [
    "# 실습 9 \n",
    "df=pd.DataFrame({\"sample\":[73,71,74,69,70,73,70,68,75,72,70,72,73,70,70,72,71,70,75,72]})\n",
    "lower,upper = stats.t.interval(0.95,len(df)-1, loc=np.mean(df),scale=stats.sem(df))\n",
    "print(\"신뢰구간:({0}{1})\".format(lower.round(2),upper.round(2)))"
   ]
  },
  {
   "cell_type": "code",
   "execution_count": 21,
   "id": "125c818b",
   "metadata": {},
   "outputs": [
    {
     "data": {
      "text/plain": [
       "<Axes: >"
      ]
     },
     "execution_count": 21,
     "metadata": {},
     "output_type": "execute_result"
    },
    {
     "data": {
      "image/png": "[encoded data removed]",
      "text/plain": [
       "<Figure size 640x480 with 1 Axes>"
      ]
     },
     "metadata": {},
     "output_type": "display_data"
    }
   ],
   "source": [
    "# 연습 10\n",
    "df = pd.DataFrame({'satisfaction':[74.5,81.2,73.8,82,76.3,75.7,80.2,72.6,77.9,82.8]})\n",
    "df.boxplot()"
   ]
  },
  {
   "cell_type": "code",
   "execution_count": 22,
   "id": "c9d42fe6",
   "metadata": {},
   "outputs": [
    {
     "name": "stdout",
     "output_type": "stream",
     "text": [
      "statistic=0.9331594705581665,p-value=0.4796782433986664\n"
     ]
    }
   ],
   "source": [
    "statistic, p = stats.shapiro(df['satisfaction'])\n",
    "print(\"statistic={},p-value={}\".format(statistic,p))"
   ]
  },
  {
   "cell_type": "code",
   "execution_count": 23,
   "id": "90fdd662",
   "metadata": {},
   "outputs": [],
   "source": [
    "t_result=stats.ttest_1samp(df,76.7)"
   ]
  },
  {
   "cell_type": "code",
   "execution_count": 24,
   "id": "72016bde",
   "metadata": {},
   "outputs": [
    {
     "name": "stdout",
     "output_type": "stream",
     "text": [
      "1-Sample t-test\n",
      "t 통계량 :[0.864]\n",
      "pvalue:[0.41]\n"
     ]
    }
   ],
   "source": [
    "t,p= t_result.statistic.round(3),t_result.pvalue.round(3)\n",
    "print(\"1-Sample t-test\")\n",
    "print(\"t 통계량 :{}\".format(t))\n",
    "print(\"pvalue:{}\".format(p))"
   ]
  },
  {
   "cell_type": "code",
   "execution_count": 25,
   "id": "1f011714",
   "metadata": {},
   "outputs": [
    {
     "data": {
      "text/plain": [
       "<Axes: >"
      ]
     },
     "execution_count": 25,
     "metadata": {},
     "output_type": "execute_result"
    },
    {
     "data": {
      "image/png": "[encoded data removed]",
      "text/plain": [
       "<Figure size 640x480 with 1 Axes>"
      ]
     },
     "metadata": {},
     "output_type": "display_data"
    }
   ],
   "source": [
    "# 실습 10\n",
    "df = pd.DataFrame({'satisfaction':[85.0,79.0,79.1,79.9,81.6,78.6,85.4,83.4,78.1,79.2]})\n",
    "df.boxplot()"
   ]
  },
  {
   "cell_type": "code",
   "execution_count": 26,
   "id": "9f671ebe",
   "metadata": {},
   "outputs": [
    {
     "name": "stdout",
     "output_type": "stream",
     "text": [
      "1-Sample t-test\n",
      "t 통계량 :[3.379]\n",
      "pvalue:[0.008]\n"
     ]
    }
   ],
   "source": [
    "t_result=stats.ttest_1samp(df,78.0)\n",
    "t,p= t_result.statistic.round(3),t_result.pvalue.round(3)\n",
    "print(\"1-Sample t-test\")\n",
    "print(\"t 통계량 :{}\".format(t))\n",
    "print(\"pvalue:{}\".format(p))"
   ]
  },
  {
   "cell_type": "code",
   "execution_count": 27,
   "id": "6c2bf576",
   "metadata": {},
   "outputs": [
    {
     "name": "stdout",
     "output_type": "stream",
     "text": [
      "2-Sample t-test\n",
      "t 통계량 :-3.335\n",
      "pvalue:0.002\n"
     ]
    }
   ],
   "source": [
    "# 연습 11\n",
    "df = pd.DataFrame({'A':[6,5,5,4,6,7,6,4,5,6,4,5,5,6,4,8,6,5,6,7],\n",
    "                   'B':[7,6,7,8,7,8,8,5,7,6,5,5,6,6,5,7,9,7,7,8]})\n",
    "t_result= stats.ttest_ind(df['A'], df['B'])\n",
    "t,p = t_result.statistic.round(3), t_result.pvalue.round(3)\n",
    "print(\"2-Sample t-test\")\n",
    "print(\"t 통계량 :{}\".format(t))\n",
    "print(\"pvalue:{}\".format(p))"
   ]
  },
  {
   "cell_type": "code",
   "execution_count": 28,
   "id": "f5e13734",
   "metadata": {},
   "outputs": [
    {
     "name": "stdout",
     "output_type": "stream",
     "text": [
      "2-Sample t-test\n",
      "t 통계량 :1.94\n",
      "pvalue:0.073\n"
     ]
    }
   ],
   "source": [
    "# 실습 11 \n",
    "df = pd.DataFrame({'A':[1.883,1.715,1.799,1.768,1.711,1.832,1.427,1.344],\n",
    "                   'B':[1.435,1.572,1.486,1.511,1.457,1.548,1.404,1.800]})\n",
    "t_result= stats.ttest_ind(df['A'], df['B'])\n",
    "t,p = t_result.statistic.round(3), t_result.pvalue.round(3)\n",
    "print(\"2-Sample t-test\")\n",
    "print(\"t 통계량 :{}\".format(t))\n",
    "print(\"pvalue:{}\".format(p))"
   ]
  },
  {
   "cell_type": "code",
   "execution_count": 29,
   "id": "c99fffec",
   "metadata": {},
   "outputs": [
    {
     "name": "stdout",
     "output_type": "stream",
     "text": [
      "Paired t-test\n",
      "t:[-5.324]\n",
      "p:[0.]\n"
     ]
    }
   ],
   "source": [
    "# 연습 12\n",
    "df1= pd.DataFrame({'before':[720,589,780,648,720,589,780,648,780,648]})\n",
    "df2= pd.DataFrame({\"after\":[810, 670, 790, 712, 810, 670, 790, 712, 790, 712]})\n",
    "\n",
    "t_result= stats.ttest_rel(df1,df2)\n",
    "t,p= t_result.statistic.round(3), t_result.pvalue.round(3)\n",
    "print(\"Paired t-test\")\n",
    "print(\"t:{}\".format(t))\n",
    "print(\"p:{}\".format(p))"
   ]
  },
  {
   "cell_type": "code",
   "execution_count": 30,
   "id": "a31bcae6",
   "metadata": {},
   "outputs": [
    {
     "name": "stdout",
     "output_type": "stream",
     "text": [
      "Paired t-test\n",
      "t:[-2.266]\n",
      "p:[0.05]\n"
     ]
    }
   ],
   "source": [
    "# 실습 12\n",
    "df1 = pd.DataFrame({'test_before':[720,589,780,648,720,589,780,648,780,648]})\n",
    "df2= pd.DataFrame({\"after\":[710, 580, 787, 712, 750, 600, 782, 670, 790, 680]})\n",
    "\n",
    "t_result= stats.ttest_rel(df1,df2)\n",
    "t,p= t_result.statistic.round(3), t_result.pvalue.round(3)\n",
    "print(\"Paired t-test\")\n",
    "print(\"t:{}\".format(t))\n",
    "print(\"p:{}\".format(p))"
   ]
  },
  {
   "cell_type": "code",
   "execution_count": 31,
   "id": "7c5433c0",
   "metadata": {},
   "outputs": [
    {
     "name": "stdout",
     "output_type": "stream",
     "text": [
      "1 Proportion test\n",
      "z:1.400\n",
      "p:0.161\n"
     ]
    }
   ],
   "source": [
    "# 연습 13\n",
    "count=15\n",
    "n_obs=100\n",
    "value=0.1\n",
    "\n",
    "z,p=proportions_ztest(count,n_obs,value)\n",
    "print(\"1 Proportion test\")\n",
    "print('z:{0:0.3f}'.format(z))\n",
    "print('p:{0:0.3f}'.format(p))"
   ]
  },
  {
   "cell_type": "code",
   "execution_count": 32,
   "id": "2c8c43b7",
   "metadata": {},
   "outputs": [
    {
     "name": "stdout",
     "output_type": "stream",
     "text": [
      "1 Proportion test\n",
      "z:4.428\n",
      "p:0.000\n"
     ]
    }
   ],
   "source": [
    "count=150\n",
    "n_obs=1000\n",
    "value=0.1\n",
    "\n",
    "z,p=proportions_ztest(count,n_obs,value)\n",
    "print(\"1 Proportion test\")\n",
    "print('z:{0:0.3f}'.format(z))\n",
    "print('p:{0:0.3f}'.format(p))\n",
    "\n",
    "#표본 수가 적으면 차이가 없다고 나왔던 것들이 표본 수가 많으면 차이가 있는 것으로 나올 수 있다. "
   ]
  },
  {
   "cell_type": "code",
   "execution_count": 33,
   "id": "83eef1b0",
   "metadata": {},
   "outputs": [
    {
     "name": "stdout",
     "output_type": "stream",
     "text": [
      "1 Proportion test\n",
      "z:-2.041\n",
      "p:0.041\n"
     ]
    }
   ],
   "source": [
    "# 실습 13\n",
    "count=40\n",
    "n_obs=100\n",
    "value=0.5\n",
    "\n",
    "z,p=proportions_ztest(count,n_obs,value)\n",
    "print(\"1 Proportion test\")\n",
    "print('z:{0:0.3f}'.format(z))\n",
    "print('p:{0:0.3f}'.format(p))"
   ]
  },
  {
   "cell_type": "code",
   "execution_count": 34,
   "id": "e940067c",
   "metadata": {},
   "outputs": [
    {
     "name": "stdout",
     "output_type": "stream",
     "text": [
      "1 Proportion test\n",
      "z:-6.455\n",
      "p:0.000\n"
     ]
    }
   ],
   "source": [
    "count=400\n",
    "n_obs=1000\n",
    "value=0.5\n",
    "\n",
    "z,p=proportions_ztest(count,n_obs,value)\n",
    "print(\"1 Proportion test\")\n",
    "print('z:{0:0.3f}'.format(z))\n",
    "print('p:{0:0.3f}'.format(p))\n",
    "\n",
    "#표본 수가 적으면 차이가 없다고 나왔던 것들이 표본 수가 많으면 차이가 있는 것으로 나올 수 있다. "
   ]
  },
  {
   "cell_type": "code",
   "execution_count": 35,
   "id": "e1a4f4d4",
   "metadata": {},
   "outputs": [
    {
     "name": "stdout",
     "output_type": "stream",
     "text": [
      "2 Proportion test\n",
      "z:1.553\n",
      "p:0.120\n"
     ]
    }
   ],
   "source": [
    "# 연습 14\n",
    "count=np.array([4,1])\n",
    "nobs=np.array([1000,1200])\n",
    "z,p= proportions_ztest(count,nobs)\n",
    "\n",
    "print(\"2 Proportion test\")\n",
    "print('z:{0:0.3f}'.format(z))\n",
    "print('p:{0:0.3f}'.format(p))"
   ]
  },
  {
   "cell_type": "code",
   "execution_count": 36,
   "id": "8358ea3a",
   "metadata": {},
   "outputs": [
    {
     "name": "stdout",
     "output_type": "stream",
     "text": [
      "2 Proportion test\n",
      "z:2.073\n",
      "p:0.038\n"
     ]
    }
   ],
   "source": [
    "# 실습 14\n",
    "count=np.array([14,5])\n",
    "nobs=np.array([1200,1200])\n",
    "z,p= proportions_ztest(count,nobs)\n",
    "\n",
    "print(\"2 Proportion test\")\n",
    "print('z:{0:0.3f}'.format(z))\n",
    "print('p:{0:0.3f}'.format(p))"
   ]
  },
  {
   "cell_type": "code",
   "execution_count": 37,
   "id": "7ed9dd38",
   "metadata": {},
   "outputs": [
    {
     "name": "stdout",
     "output_type": "stream",
     "text": [
      "chi-square test\n",
      "chisq:13.366\n",
      "p:0.038\n",
      "degree pf freedom:6\n",
      "expected value:\n",
      "[[258.333 276.333 230.667 234.667]\n",
      " [258.333 276.333 230.667 234.667]\n",
      " [258.333 276.333 230.667 234.667]]\n"
     ]
    }
   ],
   "source": [
    "# 연습 15\n",
    "df = pd.DataFrame({'Work_1':[270,228,277],'Work_2':[260,285,284],'Work_3':[236,225,231],'Work_4':[234,262,208]})\n",
    "chi, pval, dof, expected = stats.chi2_contingency(df)\n",
    "print('chi-square test')\n",
    "print('chisq:{0:0.3f}'.format(chi))\n",
    "print('p:{0:0.3f}'.format(pval))\n",
    "print('degree pf freedom:{}'.format(dof))\n",
    "print('expected value:\\n{}'.format(expected.round(3)))"
   ]
  },
  {
   "cell_type": "code",
   "execution_count": 38,
   "id": "5c921ad6",
   "metadata": {},
   "outputs": [
    {
     "name": "stdout",
     "output_type": "stream",
     "text": [
      "chi-square test\n",
      "chisq:90.432\n",
      "p:0.000\n",
      "degree pf freedom:30\n",
      "expected value:\n",
      "[[11.403  8.507  3.982  3.982  1.991 10.136]\n",
      " [ 8.837  6.593  3.086  3.086  1.543  7.855]\n",
      " [10.548  7.869  3.683  3.683  1.842  9.376]\n",
      " [ 8.267  6.167  2.887  2.887  1.443  7.348]\n",
      " [ 6.271  4.679  2.19   2.19   1.095  5.575]\n",
      " [ 9.692  7.231  3.385  3.385  1.692  8.615]\n",
      " [ 7.982  5.955  2.787  2.787  1.394  7.095]]\n"
     ]
    }
   ],
   "source": [
    "# 실습 15\n",
    "df = pd.DataFrame({'A':[18,1,8,7,10,9,10],'B':[8,2,14,5,5,9,4],'C':[4,1,2,3,2,7,3],\n",
    "                   'D':[4,1,2,3,2,7,3],'E':[3,1,3,1,1,1,1],'F':[3,25,8,10,2,1,7]})\n",
    "chi, pval, dof, expected = stats.chi2_contingency(df)\n",
    "print('chi-square test')\n",
    "print('chisq:{0:0.3f}'.format(chi))\n",
    "print('p:{0:0.3f}'.format(pval))\n",
    "print('degree pf freedom:{}'.format(dof))\n",
    "print('expected value:\\n{}'.format(expected.round(3)))"
   ]
  },
  {
   "cell_type": "code",
   "execution_count": 39,
   "id": "ac5539b9",
   "metadata": {},
   "outputs": [],
   "source": [
    "# 연습 16\n",
    "df = pd.DataFrame({'A':[892,623,721,678,723,790,720,670,690,771],\n",
    "                   'B':[721,821,910,678,723,790,711,790,745,891],\n",
    "                   'C':[750,915,888,721,894,834,841,912,845,889]})"
   ]
  },
  {
   "cell_type": "code",
   "execution_count": 40,
   "id": "bece432f",
   "metadata": {},
   "outputs": [
    {
     "data": {
      "text/plain": [
       "<Axes: >"
      ]
     },
     "execution_count": 40,
     "metadata": {},
     "output_type": "execute_result"
    },
    {
     "data": {
      "image/png": "[encoded data removed]",
      "text/plain": [
       "<Figure size 640x480 with 1 Axes>"
      ]
     },
     "metadata": {},
     "output_type": "display_data"
    }
   ],
   "source": [
    "df.boxplot(['A','B','C'])"
   ]
  },
  {
   "cell_type": "code",
   "execution_count": 41,
   "id": "e4f09461",
   "metadata": {},
   "outputs": [
    {
     "name": "stdout",
     "output_type": "stream",
     "text": [
      "statistic=0.9293239712715149, p-value=0.4412756860256195\n"
     ]
    }
   ],
   "source": [
    "statistic,p= stats.shapiro(df['A'])\n",
    "print(\"statistic={}, p-value={}\".format(statistic,p))"
   ]
  },
  {
   "cell_type": "code",
   "execution_count": 42,
   "id": "fee44811",
   "metadata": {},
   "outputs": [
    {
     "name": "stdout",
     "output_type": "stream",
     "text": [
      "statistic=0.924264669418335, p-value=0.39389991760253906\n"
     ]
    }
   ],
   "source": [
    "statistic,p= stats.shapiro(df['B'])\n",
    "print(\"statistic={}, p-value={}\".format(statistic,p))"
   ]
  },
  {
   "cell_type": "code",
   "execution_count": 43,
   "id": "bd0a685e",
   "metadata": {},
   "outputs": [
    {
     "name": "stdout",
     "output_type": "stream",
     "text": [
      "statistic=0.8571338057518005, p-value=0.07058726251125336\n"
     ]
    }
   ],
   "source": [
    "statistic,p= stats.shapiro(df['C'])\n",
    "print(\"statistic={}, p-value={}\".format(statistic,p))"
   ]
  },
  {
   "cell_type": "code",
   "execution_count": 44,
   "id": "d7c9ac54",
   "metadata": {},
   "outputs": [
    {
     "data": {
      "text/plain": [
       "BartlettResult(statistic=0.21704722611091523, pvalue=0.8971577099320932)"
      ]
     },
     "execution_count": 44,
     "metadata": {},
     "output_type": "execute_result"
    }
   ],
   "source": [
    "stats.bartlett(df['A'],df['B'],df['C'])"
   ]
  },
  {
   "cell_type": "code",
   "execution_count": 45,
   "id": "84331c45",
   "metadata": {},
   "outputs": [
    {
     "name": "stdout",
     "output_type": "stream",
     "text": [
      "One-way ANOVA\n",
      "F 통계량:6.884\n",
      "p-value:0.004\n"
     ]
    }
   ],
   "source": [
    "f_result=stats.f_oneway(df['A'],df['B'],df['C'])\n",
    "f,p = f_result.statistic.round(3), f_result.pvalue.round(3)\n",
    "\n",
    "print(\"One-way ANOVA\")\n",
    "print(\"F 통계량:{}\".format(f))\n",
    "print(\"p-value:{}\".format(p))"
   ]
  },
  {
   "cell_type": "code",
   "execution_count": 143,
   "id": "4b253f24",
   "metadata": {},
   "outputs": [],
   "source": [
    "# 실습 16\n",
    "df=pd.read_csv(\"/home/piai/바탕화면/1 Big Data 분석 기초/ANOVA.csv\", encoding='euc-kr')\n",
    "df[[\"time\",\"gangjong\"]]\n",
    "\n",
    "df= pd.DataFrame({'a':[32.2,30.4,33.6,36.4,33.9,34.9],\n",
    "                   'b':[33.1,29.9,31.7,27.5,34.0,30.7],\n",
    "                   'c':[32.6,32.7,29.3,25.9,31.1,23.8],\n",
    "                   'd':[26.7,28.5,30.9,26.2,32.3,23.7]})"
   ]
  },
  {
   "cell_type": "code",
   "execution_count": 144,
   "id": "18b5e925",
   "metadata": {},
   "outputs": [
    {
     "name": "stdout",
     "output_type": "stream",
     "text": [
      "statistic=0.9879403114318848, p-value=0.983557939529419\n"
     ]
    }
   ],
   "source": [
    "statistic,p= stats.shapiro(df['a'])\n",
    "print(\"statistic={}, p-value={}\".format(statistic,p))"
   ]
  },
  {
   "cell_type": "code",
   "execution_count": 145,
   "id": "f2712775",
   "metadata": {},
   "outputs": [
    {
     "name": "stdout",
     "output_type": "stream",
     "text": [
      "statistic=0.9769707918167114, p-value=0.9355478286743164\n"
     ]
    }
   ],
   "source": [
    "statistic,p= stats.shapiro(df['b'])\n",
    "print(\"statistic={}, p-value={}\".format(statistic,p))"
   ]
  },
  {
   "cell_type": "code",
   "execution_count": 146,
   "id": "70c1fed5",
   "metadata": {},
   "outputs": [
    {
     "name": "stdout",
     "output_type": "stream",
     "text": [
      "statistic=0.8929420113563538, p-value=0.3338908553123474\n"
     ]
    }
   ],
   "source": [
    "statistic,p= stats.shapiro(df['c'])\n",
    "print(\"statistic={}, p-value={}\".format(statistic,p))"
   ]
  },
  {
   "cell_type": "code",
   "execution_count": 147,
   "id": "5b86436b",
   "metadata": {},
   "outputs": [
    {
     "name": "stdout",
     "output_type": "stream",
     "text": [
      "statistic=0.9713904857635498, p-value=0.901641845703125\n"
     ]
    }
   ],
   "source": [
    "statistic,p= stats.shapiro(df['d'])\n",
    "print(\"statistic={}, p-value={}\".format(statistic,p))"
   ]
  },
  {
   "cell_type": "code",
   "execution_count": 155,
   "id": "981199e2",
   "metadata": {},
   "outputs": [
    {
     "data": {
      "text/plain": [
       "BartlettResult(statistic=1.8729084232387967, pvalue=0.5991991808067023)"
      ]
     },
     "execution_count": 155,
     "metadata": {},
     "output_type": "execute_result"
    }
   ],
   "source": [
    "stats.bartlett(df['a'],df['b'],df['c'],df['d'])"
   ]
  },
  {
   "cell_type": "code",
   "execution_count": 148,
   "id": "34a8a528",
   "metadata": {},
   "outputs": [
    {
     "name": "stdout",
     "output_type": "stream",
     "text": [
      "One-way ANOVA\n",
      "F 통계량:4.172\n",
      "p-value:0.019\n"
     ]
    }
   ],
   "source": [
    "f_result=stats.f_oneway(df['a'],df['b'],df['c'],df['d'])\n",
    "f,p = f_result.statistic.round(3), f_result.pvalue.round(3)\n",
    "\n",
    "print(\"One-way ANOVA\")\n",
    "print(\"F 통계량:{}\".format(f))\n",
    "print(\"p-value:{}\".format(p))"
   ]
  },
  {
   "cell_type": "code",
   "execution_count": 149,
   "id": "d8098f01",
   "metadata": {},
   "outputs": [
    {
     "name": "stdout",
     "output_type": "stream",
     "text": [
      "Correlation Analysis\n",
      "corr:0.989\n",
      "p-value:0.000\n"
     ]
    }
   ],
   "source": [
    "# 연습 17\n",
    "df1 = [1,2,3,4,4,5,6,6,7,8]\n",
    "df2 = [23,29,49,64,74,87,96,97,109,119]\n",
    "\n",
    "corr,pval=stats.pearsonr(df1,df2)\n",
    "\n",
    "print(\"Correlation Analysis\")\n",
    "print('corr:{0:0.3f}'.format(corr))\n",
    "print('p-value:{0:0.3f}'.format(pval))"
   ]
  },
  {
   "cell_type": "code",
   "execution_count": 154,
   "id": "55ff3f1b",
   "metadata": {},
   "outputs": [
    {
     "name": "stdout",
     "output_type": "stream",
     "text": [
      "Correlation Analysis\n",
      "corr:-0.723\n",
      "p-value:0.000\n"
     ]
    }
   ],
   "source": [
    "# 실습 17\n",
    "df1= [37.6,38.6,37.2,36.4,38.6,39.0,37.2,36.1,35.9,37.1,36.9,37.5,36.3,38.1,39.0,36.9,36.8,37.6,33.0,33.5]\n",
    "df2= [14,15,14,16,17,14,17,16,15,16,14,16,18,13,15,17,14,16,20,21]\n",
    "corr,pval=stats.pearsonr(df1,df2)\n",
    "\n",
    "print(\"Correlation Analysis\")\n",
    "print('corr:{0:0.3f}'.format(corr))\n",
    "print('p-value:{0:0.3f}'.format(pval))"
   ]
  },
  {
   "cell_type": "code",
   "execution_count": null,
   "id": "adb9ca81",
   "metadata": {},
   "outputs": [],
   "source": []
  }
 ],
 "metadata": {
  "kernelspec": {
   "display_name": "Python 3 (ipykernel)",
   "language": "python",
   "name": "python3"
  },
  "language_info": {
   "codemirror_mode": {
    "name": "ipython",
    "version": 3
   },
   "file_extension": ".py",
   "mimetype": "text/x-python",
   "name": "python",
   "nbconvert_exporter": "python",
   "pygments_lexer": "ipython3",
   "version": "3.10.9"
  }
 },
 "nbformat": 4,
 "nbformat_minor": 5
}
