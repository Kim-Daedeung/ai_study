{
 "cells": [
  {
   "cell_type": "code",
   "execution_count": null,
   "metadata": {},
   "outputs": [],
   "source": []
  },
  {
   "cell_type": "code",
   "execution_count": null,
   "metadata": {},
   "outputs": [],
   "source": [
    "import pandas as pd\n",
    "import numpy as np\n",
    "\n",
    "import matplotlib.pyplot as plt\n",
    "import matplotlib\n",
    "matplotlib.rc(\"font\", family= 'Noto Sans CJK JP')\n",
    "\n",
    "from sklearn.preprocessing import StandardScaler\n",
    "\n",
    "from sklearn.model_selection import train_test_split\n",
    "\n",
    "from statsmodels.api import Logit\n",
    "\n",
    "from sklearn.metrics import accuracy_score, f1_score\n",
    "from sklearn.metrics import confusion_matrix,classification_report\n"
   ]
  },
  {
   "cell_type": "code",
   "execution_count": null,
   "metadata": {},
   "outputs": [],
   "source": []
  },
  {
   "cell_type": "code",
   "execution_count": null,
   "metadata": {},
   "outputs": [],
   "source": [
    "log_model=Logit.from_formula(\"\"\"scale~ C(spec_long)+C(spec_country)+C(steel_kind)+pt_thick+pt_width+pt_length+C(hsb)+C(fur_no)+C(fur_input_row)+fur_heat_temp+fur_heat_time+fur_soak_time+fur_total_time+fur_ex_temp+C(rolling_method)+rolling_temp+descaling_count+C(work_group)\"\"\",x_train)\n"
   ]
  },
  {
   "cell_type": "markdown",
   "metadata": {},
   "source": []
  },
  {
   "cell_type": "code",
   "execution_count": null,
   "metadata": {},
   "outputs": [
    {
     "name": "stdout",
     "output_type": "stream",
     "text": [
      "Optimization terminated successfully.\n",
      "         Current function value: 0.236357\n",
      "         Iterations 30\n"
     ]
    }
   ],
   "source": [
    "log_result=log_model.fit()"
   ]
  },
  {
   "cell_type": "code",
   "execution_count": null,
   "metadata": {},
   "outputs": [
    {
     "name": "stdout",
     "output_type": "stream",
     "text": [
      "                           Logit Regression Results                           \n",
      "==============================================================================\n",
      "Dep. Variable:                    BAD   No. Observations:                 2623\n",
      "Model:                          Logit   Df Residuals:                     2605\n",
      "Method:                           MLE   Df Model:                           17\n",
      "Date:                Thu, 03 Aug 2023   Pseudo R-squ.:                  0.2298\n",
      "Time:                        11:49:44   Log-Likelihood:                -619.97\n",
      "converged:                       True   LL-Null:                       -804.91\n",
      "Covariance Type:            nonrobust   LLR p-value:                 3.585e-68\n",
      "========================================================================================\n",
      "                           coef    std err          z      P>|z|      [0.025      0.975]\n",
      "----------------------------------------------------------------------------------------\n",
      "Intercept               -5.0144      0.559     -8.976      0.000      -6.109      -3.919\n",
      "C(REASON)[T.HomeImp]    -0.0213      0.177     -0.120      0.904      -0.368       0.326\n",
      "C(JOB)[T.OTHER]        -35.5620   2.43e+07  -1.46e-06      1.000   -4.77e+07    4.77e+07\n",
      "C(JOB)[T.Office]        -0.8187      0.293     -2.792      0.005      -1.393      -0.244\n",
      "C(JOB)[T.Other]         -0.2881      0.227     -1.269      0.204      -0.733       0.157\n",
      "C(JOB)[T.ProfExe]       -0.4247      0.271     -1.569      0.117      -0.955       0.106\n",
      "C(JOB)[T.Sales]          1.1383      0.475      2.399      0.016       0.208       2.068\n",
      "C(JOB)[T.Self]          -0.0435      0.431     -0.101      0.920      -0.889       0.802\n",
      "LOAN                 -1.115e-05   8.37e-06     -1.332      0.183   -2.76e-05    5.25e-06\n",
      "MORTDUE              -1.989e-06   3.57e-06     -0.557      0.577   -8.98e-06       5e-06\n",
      "VALUE                 2.896e-06   3.02e-06      0.958      0.338   -3.03e-06    8.82e-06\n",
      "YOJ                     -0.0047      0.012     -0.403      0.687      -0.027       0.018\n",
      "DEROG                    0.6174      0.103      6.020      0.000       0.416       0.818\n",
      "DELINQ                   0.7390      0.077      9.600      0.000       0.588       0.890\n",
      "CLAGE                   -0.0051      0.001     -4.359      0.000      -0.007      -0.003\n",
      "NINQ                     0.0892      0.044      2.023      0.043       0.003       0.176\n",
      "CLNO                    -0.0233      0.009     -2.632      0.008      -0.041      -0.006\n",
      "DEBTINC                  0.1077      0.012      8.688      0.000       0.083       0.132\n",
      "========================================================================================\n"
     ]
    }
   ],
   "source": [
    "print(log_result.summary())"
   ]
  },
  {
   "cell_type": "code",
   "execution_count": null,
   "metadata": {},
   "outputs": [],
   "source": [
    "log_model=Logit.from_formula(\"\"\"BAD ~C(REASON)+DEROG+DELINQ+CLAGE+NINQ+CLNO+DEBTINC\"\"\",df_train)"
   ]
  },
  {
   "cell_type": "code",
   "execution_count": null,
   "metadata": {},
   "outputs": [
    {
     "name": "stdout",
     "output_type": "stream",
     "text": [
      "Optimization terminated successfully.\n",
      "         Current function value: 0.242107\n",
      "         Iterations 8\n"
     ]
    }
   ],
   "source": [
    "log_result=log_model.fit()"
   ]
  },
  {
   "cell_type": "code",
   "execution_count": null,
   "metadata": {},
   "outputs": [
    {
     "name": "stdout",
     "output_type": "stream",
     "text": [
      "                           Logit Regression Results                           \n",
      "==============================================================================\n",
      "Dep. Variable:                    BAD   No. Observations:                 2623\n",
      "Model:                          Logit   Df Residuals:                     2615\n",
      "Method:                           MLE   Df Model:                            7\n",
      "Date:                Thu, 03 Aug 2023   Pseudo R-squ.:                  0.2110\n",
      "Time:                        11:50:03   Log-Likelihood:                -635.05\n",
      "converged:                       True   LL-Null:                       -804.91\n",
      "Covariance Type:            nonrobust   LLR p-value:                 1.951e-69\n",
      "========================================================================================\n",
      "                           coef    std err          z      P>|z|      [0.025      0.975]\n",
      "----------------------------------------------------------------------------------------\n",
      "Intercept               -5.5012      0.494    -11.136      0.000      -6.469      -4.533\n",
      "C(REASON)[T.HomeImp]     0.0242      0.171      0.141      0.888      -0.312       0.360\n",
      "DEROG                    0.6514      0.102      6.396      0.000       0.452       0.851\n",
      "DELINQ                   0.7046      0.074      9.525      0.000       0.560       0.850\n",
      "CLAGE                   -0.0052      0.001     -4.592      0.000      -0.007      -0.003\n",
      "NINQ                     0.0858      0.043      1.981      0.048       0.001       0.171\n",
      "CLNO                    -0.0234      0.008     -2.865      0.004      -0.039      -0.007\n",
      "DEBTINC                  0.1101      0.012      9.088      0.000       0.086       0.134\n",
      "========================================================================================\n"
     ]
    }
   ],
   "source": [
    "print(log_result.summary())"
   ]
  },
  {
   "cell_type": "code",
   "execution_count": null,
   "metadata": {},
   "outputs": [],
   "source": [
    "y_pred_train= log_result.predict(df_train)"
   ]
  },
  {
   "cell_type": "code",
   "execution_count": null,
   "metadata": {},
   "outputs": [
    {
     "name": "stdout",
     "output_type": "stream",
     "text": [
      "Test 예측 결과\n",
      " 3164    0\n",
      "3314    1\n",
      "93      0\n",
      "1456    0\n",
      "3327    0\n",
      "dtype: int64 \n",
      "\n",
      "Confusion Matrix:\n",
      "[[2371   11]\n",
      " [ 193   48]] \n",
      "\n"
     ]
    }
   ],
   "source": [
    "y_pred_train_class=(y_pred_train>0.5).astype(int)\n",
    "print(\"Test 예측 결과\\n\",y_pred_train_class.head(),\"\\n\")\n",
    "print(\"Confusion Matrix:\\n{}\".format(confusion_matrix(df_train[\"BAD\"], y_pred_train_class)),\"\\n\")"
   ]
  },
  {
   "cell_type": "code",
   "execution_count": null,
   "metadata": {},
   "outputs": [],
   "source": [
    "y_pred_test= log_result.predict(df_test)"
   ]
  },
  {
   "cell_type": "code",
   "execution_count": null,
   "metadata": {},
   "outputs": [
    {
     "name": "stdout",
     "output_type": "stream",
     "text": [
      "Test 예측 결과\n",
      " 1721    0\n",
      "822     0\n",
      "1686    0\n",
      "789     0\n",
      "165     0\n",
      "dtype: int64 \n",
      "\n",
      "Confusion Matrix:\n",
      "[[1018    3]\n",
      " [  81   23]] \n",
      "\n"
     ]
    }
   ],
   "source": [
    "y_pred_test_class=(y_pred_test>0.5).astype(int)\n",
    "print(\"Test 예측 결과\\n\",y_pred_test_class.head(),\"\\n\")\n",
    "print(\"Confusion Matrix:\\n{}\".format(confusion_matrix(df_test[\"BAD\"], y_pred_test_class)),\"\\n\")"
   ]
  },
  {
   "cell_type": "code",
   "execution_count": null,
   "metadata": {},
   "outputs": [
    {
     "name": "stdout",
     "output_type": "stream",
     "text": [
      "Train 예측/분류 결과\n",
      "Accuracy:0.922\n",
      "\n",
      "Confusion Matrix:\n",
      "[[2371   11]\n",
      " [ 193   48]] \n",
      "\n",
      "              precision    recall  f1-score   support\n",
      "\n",
      "           0      0.925     0.995     0.959      2382\n",
      "           1      0.814     0.199     0.320       241\n",
      "\n",
      "    accuracy                          0.922      2623\n",
      "   macro avg      0.869     0.597     0.639      2623\n",
      "weighted avg      0.915     0.922     0.900      2623\n",
      "\n",
      "Test 예측/분류 결과\n",
      "Accuracy:0.925\n",
      "\n",
      "Confusion Matrix:\n",
      "[[1018    3]\n",
      " [  81   23]] \n",
      "\n",
      "              precision    recall  f1-score   support\n",
      "\n",
      "           0      0.926     0.997     0.960      1021\n",
      "           1      0.885     0.221     0.354       104\n",
      "\n",
      "    accuracy                          0.925      1125\n",
      "   macro avg      0.905     0.609     0.657      1125\n",
      "weighted avg      0.922     0.925     0.904      1125\n",
      "\n"
     ]
    }
   ],
   "source": [
    "print(\"Train 예측/분류 결과\")\n",
    "print(\"Accuracy:{0:.3f}\\n\".format(accuracy_score(df_train[\"BAD\"],y_pred_train_class)))\n",
    "print(\"Confusion Matrix:\\n{}\".format(confusion_matrix(df_train[\"BAD\"], y_pred_train_class)),\"\\n\")\n",
    "print(classification_report(df_train[\"BAD\"], y_pred_train_class, digits=3))\n",
    "\n",
    "print(\"Test 예측/분류 결과\")\n",
    "print(\"Accuracy:{0:.3f}\\n\".format(accuracy_score(df_test[\"BAD\"],y_pred_test_class)))\n",
    "print(\"Confusion Matrix:\\n{}\".format(confusion_matrix(df_test[\"BAD\"], y_pred_test_class)),\"\\n\")\n",
    "print(classification_report(df_test[\"BAD\"], y_pred_test_class, digits=3))"
   ]
  },
  {
   "cell_type": "code",
   "execution_count": null,
   "metadata": {},
   "outputs": [
    {
     "data": {
      "text/plain": [
       "<Axes: >"
      ]
     },
     "metadata": {},
     "output_type": "display_data"
    },
    {
     "data": {
      "image/png": "[encoded data removed]",
      "text/plain": [
       "<Figure size 640x480 with 1 Axes>"
      ]
     },
     "metadata": {},
     "output_type": "display_data"
    }
   ],
   "source": [
    "df_logistic_coef=pd.DataFrame({\"Coef\": log_result.params.values[1:]}, index=log_model.exog_names[1:])\n",
    "df_logistic_coef.plot.barh(y=\"Coef\")"
   ]
  },
  {
   "cell_type": "code",
   "execution_count": null,
   "metadata": {},
   "outputs": [],
   "source": [
    "df_char= df_raw.select_dtypes(include=\"object\")\n",
    "df_numeric=df_raw.select_dtypes(exclude=\"object\")"
   ]
  },
  {
   "cell_type": "code",
   "execution_count": null,
   "metadata": {},
   "outputs": [],
   "source": [
    "scaler=StandardScaler()\n",
    "np_numeric_scaled = scaler.fit_transform(df_numeric)\n",
    "df_numeric_scaled= pd.DataFrame(np_numeric_scaled, columns= df_numeric.columns)"
   ]
  },
  {
   "cell_type": "code",
   "execution_count": null,
   "metadata": {},
   "outputs": [
    {
     "data": {
      "text/html": [
       "<div>\n",
       "<style scoped>\n",
       "    .dataframe tbody tr th:only-of-type {\n",
       "        vertical-align: middle;\n",
       "    }\n",
       "\n",
       "    .dataframe tbody tr th {\n",
       "        vertical-align: top;\n",
       "    }\n",
       "\n",
       "    .dataframe thead th {\n",
       "        text-align: right;\n",
       "    }\n",
       "</style>\n",
       "<table border=\"1\" class=\"dataframe\">\n",
       "  <thead>\n",
       "    <tr style=\"text-align: right;\">\n",
       "      <th></th>\n",
       "      <th>BAD</th>\n",
       "      <th>LOAN</th>\n",
       "      <th>MORTDUE</th>\n",
       "      <th>VALUE</th>\n",
       "      <th>YOJ</th>\n",
       "      <th>DEROG</th>\n",
       "      <th>DELINQ</th>\n",
       "      <th>CLAGE</th>\n",
       "      <th>NINQ</th>\n",
       "      <th>CLNO</th>\n",
       "      <th>DEBTINC</th>\n",
       "      <th>REASON</th>\n",
       "      <th>JOB</th>\n",
       "    </tr>\n",
       "  </thead>\n",
       "  <tbody>\n",
       "    <tr>\n",
       "      <th>0</th>\n",
       "      <td>3.140664</td>\n",
       "      <td>-1.559587</td>\n",
       "      <td>-0.993626</td>\n",
       "      <td>-1.224910</td>\n",
       "      <td>-0.017563</td>\n",
       "      <td>-0.267462</td>\n",
       "      <td>-0.342558</td>\n",
       "      <td>-0.967342</td>\n",
       "      <td>-0.018776</td>\n",
       "      <td>-1.428350</td>\n",
       "      <td>0.356347</td>\n",
       "      <td>HomeImp</td>\n",
       "      <td>Other</td>\n",
       "    </tr>\n",
       "    <tr>\n",
       "      <th>1</th>\n",
       "      <td>3.140664</td>\n",
       "      <td>-1.550817</td>\n",
       "      <td>-1.039240</td>\n",
       "      <td>-1.174897</td>\n",
       "      <td>0.251809</td>\n",
       "      <td>-0.267462</td>\n",
       "      <td>-0.342558</td>\n",
       "      <td>-1.122053</td>\n",
       "      <td>-0.666629</td>\n",
       "      <td>-1.428350</td>\n",
       "      <td>0.329025</td>\n",
       "      <td>HomeImp</td>\n",
       "      <td>Other</td>\n",
       "    </tr>\n",
       "    <tr>\n",
       "      <th>2</th>\n",
       "      <td>-0.318404</td>\n",
       "      <td>-1.506968</td>\n",
       "      <td>0.607570</td>\n",
       "      <td>0.260973</td>\n",
       "      <td>-0.960364</td>\n",
       "      <td>-0.267462</td>\n",
       "      <td>-0.342558</td>\n",
       "      <td>-1.094930</td>\n",
       "      <td>-0.666629</td>\n",
       "      <td>-0.905133</td>\n",
       "      <td>-0.303684</td>\n",
       "      <td>HomeImp</td>\n",
       "      <td>Office</td>\n",
       "    </tr>\n",
       "    <tr>\n",
       "      <th>3</th>\n",
       "      <td>3.140664</td>\n",
       "      <td>-1.498198</td>\n",
       "      <td>-0.897428</td>\n",
       "      <td>-1.093133</td>\n",
       "      <td>0.386495</td>\n",
       "      <td>-0.267462</td>\n",
       "      <td>-0.342558</td>\n",
       "      <td>-1.344679</td>\n",
       "      <td>-0.018776</td>\n",
       "      <td>-0.067985</td>\n",
       "      <td>0.493725</td>\n",
       "      <td>HomeImp</td>\n",
       "      <td>Mgr</td>\n",
       "    </tr>\n",
       "    <tr>\n",
       "      <th>4</th>\n",
       "      <td>-0.318404</td>\n",
       "      <td>-1.498198</td>\n",
       "      <td>0.520156</td>\n",
       "      <td>0.191721</td>\n",
       "      <td>-0.690992</td>\n",
       "      <td>-0.267462</td>\n",
       "      <td>-0.342558</td>\n",
       "      <td>-1.060586</td>\n",
       "      <td>-0.666629</td>\n",
       "      <td>-0.905133</td>\n",
       "      <td>-0.531456</td>\n",
       "      <td>HomeImp</td>\n",
       "      <td>Office</td>\n",
       "    </tr>\n",
       "  </tbody>\n",
       "</table>\n",
       "</div>"
      ],
      "text/plain": [
       "        BAD      LOAN   MORTDUE     VALUE       YOJ     DEROG    DELINQ  \\\n",
       "0  3.140664 -1.559587 -0.993626 -1.224910 -0.017563 -0.267462 -0.342558   \n",
       "1  3.140664 -1.550817 -1.039240 -1.174897  0.251809 -0.267462 -0.342558   \n",
       "2 -0.318404 -1.506968  0.607570  0.260973 -0.960364 -0.267462 -0.342558   \n",
       "3  3.140664 -1.498198 -0.897428 -1.093133  0.386495 -0.267462 -0.342558   \n",
       "4 -0.318404 -1.498198  0.520156  0.191721 -0.690992 -0.267462 -0.342558   \n",
       "\n",
       "      CLAGE      NINQ      CLNO   DEBTINC   REASON     JOB  \n",
       "0 -0.967342 -0.018776 -1.428350  0.356347  HomeImp   Other  \n",
       "1 -1.122053 -0.666629 -1.428350  0.329025  HomeImp   Other  \n",
       "2 -1.094930 -0.666629 -0.905133 -0.303684  HomeImp  Office  \n",
       "3 -1.344679 -0.018776 -0.067985  0.493725  HomeImp     Mgr  \n",
       "4 -1.060586 -0.666629 -0.905133 -0.531456  HomeImp  Office  "
      ]
     },
     "metadata": {},
     "output_type": "display_data"
    }
   ],
   "source": [
    "df_scaled= pd.concat([df_numeric_scaled, df_char], axis=1)\n",
    "df_scaled.head()"
   ]
  },
  {
   "cell_type": "code",
   "execution_count": null,
   "metadata": {},
   "outputs": [],
   "source": [
    "df_scaled[\"BAD\"]=np.where(df_scaled[\"BAD\"]>0,1,0)"
   ]
  },
  {
   "cell_type": "code",
   "execution_count": null,
   "metadata": {},
   "outputs": [],
   "source": [
    "df_scaled_train, df_scaled_test= train_test_split(df_scaled, test_size=0.3, random_state=1234)"
   ]
  },
  {
   "cell_type": "code",
   "execution_count": null,
   "metadata": {},
   "outputs": [],
   "source": [
    "scaled_log_model=Logit.from_formula(\"\"\"BAD ~LOAN+C(JOB)+DEROG+DELINQ+CLAGE+NINQ+CLNO+DEBTINC\"\"\",df_scaled_train)"
   ]
  },
  {
   "cell_type": "code",
   "execution_count": null,
   "metadata": {},
   "outputs": [
    {
     "name": "stdout",
     "output_type": "stream",
     "text": [
      "Warning: Maximum number of iterations has been exceeded.\n",
      "         Current function value: 0.236586\n",
      "         Iterations: 35\n"
     ]
    },
    {
     "name": "stderr",
     "output_type": "stream",
     "text": [
      "/home/piai/anaconda3/lib/python3.10/site-packages/statsmodels/base/model.py:604: ConvergenceWarning: Maximum Likelihood optimization failed to converge. Check mle_retvals\n",
      "  warnings.warn(\"Maximum Likelihood optimization failed to \"\n"
     ]
    }
   ],
   "source": [
    "scaled_log_result=scaled_log_model.fit()"
   ]
  },
  {
   "cell_type": "code",
   "execution_count": null,
   "metadata": {},
   "outputs": [
    {
     "name": "stdout",
     "output_type": "stream",
     "text": [
      "                           Logit Regression Results                           \n",
      "==============================================================================\n",
      "Dep. Variable:                    BAD   No. Observations:                 2623\n",
      "Model:                          Logit   Df Residuals:                     2609\n",
      "Method:                           MLE   Df Model:                           13\n",
      "Date:                Thu, 03 Aug 2023   Pseudo R-squ.:                  0.2290\n",
      "Time:                        14:25:59   Log-Likelihood:                -620.57\n",
      "converged:                      False   LL-Null:                       -804.91\n",
      "Covariance Type:            nonrobust   LLR p-value:                 9.050e-71\n",
      "=====================================================================================\n",
      "                        coef    std err          z      P>|z|      [0.025      0.975]\n",
      "-------------------------------------------------------------------------------------\n",
      "Intercept            -2.4939      0.196    -12.716      0.000      -2.878      -2.109\n",
      "C(JOB)[T.OTHER]     -16.4351   1689.168     -0.010      0.992   -3327.143    3294.273\n",
      "C(JOB)[T.Office]     -0.7988      0.288     -2.774      0.006      -1.363      -0.234\n",
      "C(JOB)[T.Other]      -0.2895      0.224     -1.295      0.195      -0.728       0.149\n",
      "C(JOB)[T.ProfExe]    -0.3753      0.267     -1.408      0.159      -0.898       0.147\n",
      "C(JOB)[T.Sales]       1.2004      0.472      2.546      0.011       0.276       2.125\n",
      "C(JOB)[T.Self]        0.0335      0.422      0.079      0.937      -0.794       0.861\n",
      "LOAN                 -0.0970      0.087     -1.114      0.265      -0.268       0.074\n",
      "DEROG                 0.3725      0.062      6.056      0.000       0.252       0.493\n",
      "DELINQ                0.5771      0.060      9.626      0.000       0.460       0.695\n",
      "CLAGE                -0.4145      0.093     -4.446      0.000      -0.597      -0.232\n",
      "NINQ                  0.1324      0.067      1.975      0.048       0.001       0.264\n",
      "CLNO                 -0.2326      0.080     -2.907      0.004      -0.389      -0.076\n",
      "DEBTINC               0.9063      0.103      8.789      0.000       0.704       1.108\n",
      "=====================================================================================\n"
     ]
    }
   ],
   "source": [
    "print(scaled_log_result.summary())"
   ]
  },
  {
   "cell_type": "code",
   "execution_count": null,
   "metadata": {},
   "outputs": [
    {
     "data": {
      "text/plain": [
       "<Axes: >"
      ]
     },
     "metadata": {},
     "output_type": "display_data"
    },
    {
     "data": {
      "image/png": "[encoded data removed]",
      "text/plain": [
       "<Figure size 640x480 with 1 Axes>"
      ]
     },
     "metadata": {},
     "output_type": "display_data"
    }
   ],
   "source": [
    "df_log_scaled_coef=pd.DataFrame({\"Coef\": scaled_log_result.params.values[1:]}, index=scaled_log_model.exog_names[1:])\n",
    "df_log_scaled_coef.plot.barh(y=\"Coef\")"
   ]
  }
 ],
 "metadata": {
  "language_info": {
   "name": "python"
  },
  "orig_nbformat": 4
 },
 "nbformat": 4,
 "nbformat_minor": 2
}
