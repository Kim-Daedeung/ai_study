{
 "cells": [
  {
   "cell_type": "markdown",
   "id": "26a9f7b6",
   "metadata": {},
   "source": [
    "# 데이터 불러오기"
   ]
  },
  {
   "cell_type": "code",
   "execution_count": 2,
   "id": "f7a75094",
   "metadata": {},
   "outputs": [],
   "source": [
    "import pandas as pd\n",
    "import numpy as np\n",
    "import matplotlib\n",
    "import matplotlib.pyplot as plt\n",
    "import seaborn as sns"
   ]
  },
  {
   "cell_type": "code",
   "execution_count": 3,
   "id": "24e50187",
   "metadata": {},
   "outputs": [
    {
     "data": {
      "text/html": [
       "<div>\n",
       "<style scoped>\n",
       "    .dataframe tbody tr th:only-of-type {\n",
       "        vertical-align: middle;\n",
       "    }\n",
       "\n",
       "    .dataframe tbody tr th {\n",
       "        vertical-align: top;\n",
       "    }\n",
       "\n",
       "    .dataframe thead th {\n",
       "        text-align: right;\n",
       "    }\n",
       "</style>\n",
       "<table border=\"1\" class=\"dataframe\">\n",
       "  <thead>\n",
       "    <tr style=\"text-align: right;\">\n",
       "      <th></th>\n",
       "      <th>PassengerId</th>\n",
       "      <th>Survived</th>\n",
       "      <th>Pclass</th>\n",
       "      <th>Name</th>\n",
       "      <th>Sex</th>\n",
       "      <th>Age</th>\n",
       "      <th>SibSp</th>\n",
       "      <th>Parch</th>\n",
       "      <th>Ticket</th>\n",
       "      <th>Fare</th>\n",
       "      <th>Cabin</th>\n",
       "      <th>Embarked</th>\n",
       "    </tr>\n",
       "  </thead>\n",
       "  <tbody>\n",
       "    <tr>\n",
       "      <th>0</th>\n",
       "      <td>1</td>\n",
       "      <td>0</td>\n",
       "      <td>3</td>\n",
       "      <td>Braund, Mr. Owen Harris</td>\n",
       "      <td>male</td>\n",
       "      <td>22.0</td>\n",
       "      <td>1</td>\n",
       "      <td>0</td>\n",
       "      <td>A/5 21171</td>\n",
       "      <td>7.2500</td>\n",
       "      <td>NaN</td>\n",
       "      <td>S</td>\n",
       "    </tr>\n",
       "    <tr>\n",
       "      <th>1</th>\n",
       "      <td>2</td>\n",
       "      <td>1</td>\n",
       "      <td>1</td>\n",
       "      <td>Cumings, Mrs. John Bradley (Florence Briggs Th...</td>\n",
       "      <td>female</td>\n",
       "      <td>38.0</td>\n",
       "      <td>1</td>\n",
       "      <td>0</td>\n",
       "      <td>PC 17599</td>\n",
       "      <td>71.2833</td>\n",
       "      <td>C85</td>\n",
       "      <td>C</td>\n",
       "    </tr>\n",
       "    <tr>\n",
       "      <th>2</th>\n",
       "      <td>3</td>\n",
       "      <td>1</td>\n",
       "      <td>3</td>\n",
       "      <td>Heikkinen, Miss. Laina</td>\n",
       "      <td>female</td>\n",
       "      <td>26.0</td>\n",
       "      <td>0</td>\n",
       "      <td>0</td>\n",
       "      <td>STON/O2. 3101282</td>\n",
       "      <td>7.9250</td>\n",
       "      <td>NaN</td>\n",
       "      <td>S</td>\n",
       "    </tr>\n",
       "    <tr>\n",
       "      <th>3</th>\n",
       "      <td>4</td>\n",
       "      <td>1</td>\n",
       "      <td>1</td>\n",
       "      <td>Futrelle, Mrs. Jacques Heath (Lily May Peel)</td>\n",
       "      <td>female</td>\n",
       "      <td>35.0</td>\n",
       "      <td>1</td>\n",
       "      <td>0</td>\n",
       "      <td>113803</td>\n",
       "      <td>53.1000</td>\n",
       "      <td>C123</td>\n",
       "      <td>S</td>\n",
       "    </tr>\n",
       "    <tr>\n",
       "      <th>4</th>\n",
       "      <td>5</td>\n",
       "      <td>0</td>\n",
       "      <td>3</td>\n",
       "      <td>Allen, Mr. William Henry</td>\n",
       "      <td>male</td>\n",
       "      <td>35.0</td>\n",
       "      <td>0</td>\n",
       "      <td>0</td>\n",
       "      <td>373450</td>\n",
       "      <td>8.0500</td>\n",
       "      <td>NaN</td>\n",
       "      <td>S</td>\n",
       "    </tr>\n",
       "  </tbody>\n",
       "</table>\n",
       "</div>"
      ],
      "text/plain": [
       "   PassengerId  Survived  Pclass  \\\n",
       "0            1         0       3   \n",
       "1            2         1       1   \n",
       "2            3         1       3   \n",
       "3            4         1       1   \n",
       "4            5         0       3   \n",
       "\n",
       "                                                Name     Sex   Age  SibSp  \\\n",
       "0                            Braund, Mr. Owen Harris    male  22.0      1   \n",
       "1  Cumings, Mrs. John Bradley (Florence Briggs Th...  female  38.0      1   \n",
       "2                             Heikkinen, Miss. Laina  female  26.0      0   \n",
       "3       Futrelle, Mrs. Jacques Heath (Lily May Peel)  female  35.0      1   \n",
       "4                           Allen, Mr. William Henry    male  35.0      0   \n",
       "\n",
       "   Parch            Ticket     Fare Cabin Embarked  \n",
       "0      0         A/5 21171   7.2500   NaN        S  \n",
       "1      0          PC 17599  71.2833   C85        C  \n",
       "2      0  STON/O2. 3101282   7.9250   NaN        S  \n",
       "3      0            113803  53.1000  C123        S  \n",
       "4      0            373450   8.0500   NaN        S  "
      ]
     },
     "execution_count": 3,
     "metadata": {},
     "output_type": "execute_result"
    }
   ],
   "source": [
    "df=pd.read_csv(\"/home/piai/바탕화면/1 Big Data 분석 기초/titanic.csv\", encoding='euc-kr')\n",
    "df.head()"
   ]
  },
  {
   "cell_type": "markdown",
   "id": "440094ac",
   "metadata": {},
   "source": [
    "#### pandas를 호출하고, df라는 이름의 변수에 타이타닉 데이터를 불러와주었습니다. head로 5개만 확인해줍니다."
   ]
  },
  {
   "cell_type": "markdown",
   "id": "7ca6eaf6",
   "metadata": {},
   "source": [
    "# 데이터 특성 확인하기"
   ]
  },
  {
   "cell_type": "code",
   "execution_count": 3,
   "id": "45f23a3b",
   "metadata": {},
   "outputs": [
    {
     "name": "stdout",
     "output_type": "stream",
     "text": [
      "<class 'pandas.core.frame.DataFrame'>\n",
      "RangeIndex: 891 entries, 0 to 890\n",
      "Data columns (total 12 columns):\n",
      " #   Column       Non-Null Count  Dtype  \n",
      "---  ------       --------------  -----  \n",
      " 0   PassengerId  891 non-null    int64  \n",
      " 1   Survived     891 non-null    int64  \n",
      " 2   Pclass       891 non-null    int64  \n",
      " 3   Name         891 non-null    object \n",
      " 4   Sex          891 non-null    object \n",
      " 5   Age          891 non-null    float64\n",
      " 6   SibSp        891 non-null    int64  \n",
      " 7   Parch        891 non-null    int64  \n",
      " 8   Ticket       891 non-null    object \n",
      " 9   Fare         891 non-null    float64\n",
      " 10  Cabin        204 non-null    object \n",
      " 11  Embarked     889 non-null    object \n",
      "dtypes: float64(2), int64(5), object(5)\n",
      "memory usage: 83.7+ KB\n"
     ]
    }
   ],
   "source": [
    "df.info() "
   ]
  },
  {
   "cell_type": "markdown",
   "id": "09961a41",
   "metadata": {},
   "source": [
    "#### 데이터 속성을 info함수를 사용하여 데이터 속성을 확인하였습니다. 변수별로 int, float, object 등 형태를 파악하였습니다"
   ]
  },
  {
   "cell_type": "code",
   "execution_count": 4,
   "id": "eb30ada5",
   "metadata": {},
   "outputs": [
    {
     "data": {
      "text/plain": [
       "(891, 12)"
      ]
     },
     "execution_count": 4,
     "metadata": {},
     "output_type": "execute_result"
    }
   ],
   "source": [
    "df.shape"
   ]
  },
  {
   "cell_type": "markdown",
   "id": "5b980a9e",
   "metadata": {},
   "source": [
    "#### 데이터를 다루기 전 데이터를 확인하는 작업을 우선 시 되어야 합니다. 행과 열의 개수를 알기 위해 shape으로 행과 열 개수를 확인해주었습니다."
   ]
  },
  {
   "cell_type": "code",
   "execution_count": 5,
   "id": "df17c7f4",
   "metadata": {},
   "outputs": [
    {
     "data": {
      "text/html": [
       "<div>\n",
       "<style scoped>\n",
       "    .dataframe tbody tr th:only-of-type {\n",
       "        vertical-align: middle;\n",
       "    }\n",
       "\n",
       "    .dataframe tbody tr th {\n",
       "        vertical-align: top;\n",
       "    }\n",
       "\n",
       "    .dataframe thead th {\n",
       "        text-align: right;\n",
       "    }\n",
       "</style>\n",
       "<table border=\"1\" class=\"dataframe\">\n",
       "  <thead>\n",
       "    <tr style=\"text-align: right;\">\n",
       "      <th></th>\n",
       "      <th>PassengerId</th>\n",
       "      <th>Survived</th>\n",
       "      <th>Pclass</th>\n",
       "      <th>Age</th>\n",
       "      <th>SibSp</th>\n",
       "      <th>Parch</th>\n",
       "      <th>Fare</th>\n",
       "    </tr>\n",
       "  </thead>\n",
       "  <tbody>\n",
       "    <tr>\n",
       "      <th>count</th>\n",
       "      <td>891.000000</td>\n",
       "      <td>891.000000</td>\n",
       "      <td>891.000000</td>\n",
       "      <td>891.000000</td>\n",
       "      <td>891.000000</td>\n",
       "      <td>891.000000</td>\n",
       "      <td>891.000000</td>\n",
       "    </tr>\n",
       "    <tr>\n",
       "      <th>mean</th>\n",
       "      <td>446.000000</td>\n",
       "      <td>0.383838</td>\n",
       "      <td>2.308642</td>\n",
       "      <td>29.758889</td>\n",
       "      <td>0.523008</td>\n",
       "      <td>0.381594</td>\n",
       "      <td>32.204208</td>\n",
       "    </tr>\n",
       "    <tr>\n",
       "      <th>std</th>\n",
       "      <td>257.353842</td>\n",
       "      <td>0.486592</td>\n",
       "      <td>0.836071</td>\n",
       "      <td>13.002570</td>\n",
       "      <td>1.102743</td>\n",
       "      <td>0.806057</td>\n",
       "      <td>49.693429</td>\n",
       "    </tr>\n",
       "    <tr>\n",
       "      <th>min</th>\n",
       "      <td>1.000000</td>\n",
       "      <td>0.000000</td>\n",
       "      <td>1.000000</td>\n",
       "      <td>0.420000</td>\n",
       "      <td>0.000000</td>\n",
       "      <td>0.000000</td>\n",
       "      <td>0.000000</td>\n",
       "    </tr>\n",
       "    <tr>\n",
       "      <th>25%</th>\n",
       "      <td>223.500000</td>\n",
       "      <td>0.000000</td>\n",
       "      <td>2.000000</td>\n",
       "      <td>22.000000</td>\n",
       "      <td>0.000000</td>\n",
       "      <td>0.000000</td>\n",
       "      <td>7.910400</td>\n",
       "    </tr>\n",
       "    <tr>\n",
       "      <th>50%</th>\n",
       "      <td>446.000000</td>\n",
       "      <td>0.000000</td>\n",
       "      <td>3.000000</td>\n",
       "      <td>30.000000</td>\n",
       "      <td>0.000000</td>\n",
       "      <td>0.000000</td>\n",
       "      <td>14.454200</td>\n",
       "    </tr>\n",
       "    <tr>\n",
       "      <th>75%</th>\n",
       "      <td>668.500000</td>\n",
       "      <td>1.000000</td>\n",
       "      <td>3.000000</td>\n",
       "      <td>35.000000</td>\n",
       "      <td>1.000000</td>\n",
       "      <td>0.000000</td>\n",
       "      <td>31.000000</td>\n",
       "    </tr>\n",
       "    <tr>\n",
       "      <th>max</th>\n",
       "      <td>891.000000</td>\n",
       "      <td>1.000000</td>\n",
       "      <td>3.000000</td>\n",
       "      <td>80.000000</td>\n",
       "      <td>8.000000</td>\n",
       "      <td>6.000000</td>\n",
       "      <td>512.329200</td>\n",
       "    </tr>\n",
       "  </tbody>\n",
       "</table>\n",
       "</div>"
      ],
      "text/plain": [
       "       PassengerId    Survived      Pclass         Age       SibSp  \\\n",
       "count   891.000000  891.000000  891.000000  891.000000  891.000000   \n",
       "mean    446.000000    0.383838    2.308642   29.758889    0.523008   \n",
       "std     257.353842    0.486592    0.836071   13.002570    1.102743   \n",
       "min       1.000000    0.000000    1.000000    0.420000    0.000000   \n",
       "25%     223.500000    0.000000    2.000000   22.000000    0.000000   \n",
       "50%     446.000000    0.000000    3.000000   30.000000    0.000000   \n",
       "75%     668.500000    1.000000    3.000000   35.000000    1.000000   \n",
       "max     891.000000    1.000000    3.000000   80.000000    8.000000   \n",
       "\n",
       "            Parch        Fare  \n",
       "count  891.000000  891.000000  \n",
       "mean     0.381594   32.204208  \n",
       "std      0.806057   49.693429  \n",
       "min      0.000000    0.000000  \n",
       "25%      0.000000    7.910400  \n",
       "50%      0.000000   14.454200  \n",
       "75%      0.000000   31.000000  \n",
       "max      6.000000  512.329200  "
      ]
     },
     "execution_count": 5,
     "metadata": {},
     "output_type": "execute_result"
    }
   ],
   "source": [
    "df.describe() "
   ]
  },
  {
   "cell_type": "markdown",
   "id": "ad5eb5cf",
   "metadata": {},
   "source": [
    "#### 데이터의 기술통계량을 통해 데이터의 분포나 최대값, 최소값, 평균 등을 정보를 확인해줍니다. 데이터 전처리 과정을 하기전 전체 데이터를 파악할 수 있었습니다."
   ]
  },
  {
   "cell_type": "markdown",
   "id": "2ab90ad8",
   "metadata": {},
   "source": [
    "# 결측치 확인"
   ]
  },
  {
   "cell_type": "code",
   "execution_count": 6,
   "id": "592fa5c4",
   "metadata": {},
   "outputs": [
    {
     "data": {
      "text/html": [
       "<div>\n",
       "<style scoped>\n",
       "    .dataframe tbody tr th:only-of-type {\n",
       "        vertical-align: middle;\n",
       "    }\n",
       "\n",
       "    .dataframe tbody tr th {\n",
       "        vertical-align: top;\n",
       "    }\n",
       "\n",
       "    .dataframe thead th {\n",
       "        text-align: right;\n",
       "    }\n",
       "</style>\n",
       "<table border=\"1\" class=\"dataframe\">\n",
       "  <thead>\n",
       "    <tr style=\"text-align: right;\">\n",
       "      <th></th>\n",
       "      <th>PassengerId</th>\n",
       "      <th>Survived</th>\n",
       "      <th>Pclass</th>\n",
       "      <th>Name</th>\n",
       "      <th>Sex</th>\n",
       "      <th>Age</th>\n",
       "      <th>SibSp</th>\n",
       "      <th>Parch</th>\n",
       "      <th>Ticket</th>\n",
       "      <th>Fare</th>\n",
       "      <th>Cabin</th>\n",
       "      <th>Embarked</th>\n",
       "    </tr>\n",
       "  </thead>\n",
       "  <tbody>\n",
       "    <tr>\n",
       "      <th>0</th>\n",
       "      <td>False</td>\n",
       "      <td>False</td>\n",
       "      <td>False</td>\n",
       "      <td>False</td>\n",
       "      <td>False</td>\n",
       "      <td>False</td>\n",
       "      <td>False</td>\n",
       "      <td>False</td>\n",
       "      <td>False</td>\n",
       "      <td>False</td>\n",
       "      <td>True</td>\n",
       "      <td>False</td>\n",
       "    </tr>\n",
       "    <tr>\n",
       "      <th>1</th>\n",
       "      <td>False</td>\n",
       "      <td>False</td>\n",
       "      <td>False</td>\n",
       "      <td>False</td>\n",
       "      <td>False</td>\n",
       "      <td>False</td>\n",
       "      <td>False</td>\n",
       "      <td>False</td>\n",
       "      <td>False</td>\n",
       "      <td>False</td>\n",
       "      <td>False</td>\n",
       "      <td>False</td>\n",
       "    </tr>\n",
       "    <tr>\n",
       "      <th>2</th>\n",
       "      <td>False</td>\n",
       "      <td>False</td>\n",
       "      <td>False</td>\n",
       "      <td>False</td>\n",
       "      <td>False</td>\n",
       "      <td>False</td>\n",
       "      <td>False</td>\n",
       "      <td>False</td>\n",
       "      <td>False</td>\n",
       "      <td>False</td>\n",
       "      <td>True</td>\n",
       "      <td>False</td>\n",
       "    </tr>\n",
       "    <tr>\n",
       "      <th>3</th>\n",
       "      <td>False</td>\n",
       "      <td>False</td>\n",
       "      <td>False</td>\n",
       "      <td>False</td>\n",
       "      <td>False</td>\n",
       "      <td>False</td>\n",
       "      <td>False</td>\n",
       "      <td>False</td>\n",
       "      <td>False</td>\n",
       "      <td>False</td>\n",
       "      <td>False</td>\n",
       "      <td>False</td>\n",
       "    </tr>\n",
       "    <tr>\n",
       "      <th>4</th>\n",
       "      <td>False</td>\n",
       "      <td>False</td>\n",
       "      <td>False</td>\n",
       "      <td>False</td>\n",
       "      <td>False</td>\n",
       "      <td>False</td>\n",
       "      <td>False</td>\n",
       "      <td>False</td>\n",
       "      <td>False</td>\n",
       "      <td>False</td>\n",
       "      <td>True</td>\n",
       "      <td>False</td>\n",
       "    </tr>\n",
       "  </tbody>\n",
       "</table>\n",
       "</div>"
      ],
      "text/plain": [
       "   PassengerId  Survived  Pclass   Name    Sex    Age  SibSp  Parch  Ticket  \\\n",
       "0        False     False   False  False  False  False  False  False   False   \n",
       "1        False     False   False  False  False  False  False  False   False   \n",
       "2        False     False   False  False  False  False  False  False   False   \n",
       "3        False     False   False  False  False  False  False  False   False   \n",
       "4        False     False   False  False  False  False  False  False   False   \n",
       "\n",
       "    Fare  Cabin  Embarked  \n",
       "0  False   True     False  \n",
       "1  False  False     False  \n",
       "2  False   True     False  \n",
       "3  False  False     False  \n",
       "4  False   True     False  "
      ]
     },
     "execution_count": 6,
     "metadata": {},
     "output_type": "execute_result"
    }
   ],
   "source": [
    "df.isnull().head()"
   ]
  },
  {
   "cell_type": "markdown",
   "id": "b5ef31bc",
   "metadata": {},
   "source": [
    "#### 결측치가 있는 열을 True로 반환하여 head로 5개열을 확인해보았습니다. 데이터의 결측치를 볼 수 있지만 데이터가 많아 가독성이 떨어집니다."
   ]
  },
  {
   "cell_type": "code",
   "execution_count": 7,
   "id": "b4d2067d",
   "metadata": {},
   "outputs": [
    {
     "data": {
      "text/plain": [
       "PassengerId      0\n",
       "Survived         0\n",
       "Pclass           0\n",
       "Name             0\n",
       "Sex              0\n",
       "Age              0\n",
       "SibSp            0\n",
       "Parch            0\n",
       "Ticket           0\n",
       "Fare             0\n",
       "Cabin          687\n",
       "Embarked         2\n",
       "dtype: int64"
      ]
     },
     "execution_count": 7,
     "metadata": {},
     "output_type": "execute_result"
    }
   ],
   "source": [
    "df.isnull().sum() "
   ]
  },
  {
   "cell_type": "markdown",
   "id": "cc124173",
   "metadata": {},
   "source": [
    "#### 결측치가 열별로 몇개가 있는지 편하게 확인해주기 위해 sum을 이용하여 확인해줍니다. 현업에서는 Cabin 데이터가 유의미한 변수가 아니라면 삭제해주는 것이 맞는 판단이라고 생각합니다.  800여개의 데이터 중 687개의 결측치를 대체한다는 것은 데이터 변질의 우려가 있다고 생각합니다. 현재는 연습과정이므로 실습내용에 따라 최빈값 대체를 하고 넘어가겠습니다.\n",
    "#### Embarked는 승객이 탑승한 곳으로 C,Q,S로 이루어져있고, 뒤에서 최빈값으로 대체 해주겠습니다."
   ]
  },
  {
   "cell_type": "markdown",
   "id": "f67896c3",
   "metadata": {},
   "source": [
    "# 이상치 확인하기"
   ]
  },
  {
   "cell_type": "code",
   "execution_count": 8,
   "id": "421ee029",
   "metadata": {},
   "outputs": [
    {
     "data": {
      "text/plain": [
       "<Axes: >"
      ]
     },
     "execution_count": 8,
     "metadata": {},
     "output_type": "execute_result"
    },
    {
     "data": {
      "image/png": "[encoded data removed]",
      "text/plain": [
       "<Figure size 1000x400 with 1 Axes>"
      ]
     },
     "metadata": {},
     "output_type": "display_data"
    }
   ],
   "source": [
    "df.boxplot(figsize=(10,4)) "
   ]
  },
  {
   "cell_type": "markdown",
   "id": "ea789da9",
   "metadata": {},
   "source": [
    "#### 전체 데이터를 기준으로 boxplot을 그린다면 단위의 차이 때문에 가독성이 매우 떨어집니다. 가독성을 좋게 해주기 위해서 각 변수마다 따로 그려주는 것이 좋습니다. 모두 그려서 상한과 하한에 데이터가 얼마나 분포하는지 육안으로 확인해볼 수 있습니다."
   ]
  },
  {
   "cell_type": "code",
   "execution_count": 61,
   "id": "c1fb1953",
   "metadata": {},
   "outputs": [
    {
     "data": {
      "text/plain": [
       "<Axes: >"
      ]
     },
     "execution_count": 61,
     "metadata": {},
     "output_type": "execute_result"
    },
    {
     "data": {
      "image/png": "[encoded data removed]",
      "text/plain": [
       "<Figure size 1000x400 with 1 Axes>"
      ]
     },
     "metadata": {},
     "output_type": "display_data"
    }
   ],
   "source": [
    "df.boxplot(column=[\"PassengerId\"], figsize=(10,4))"
   ]
  },
  {
   "cell_type": "markdown",
   "id": "6b264885",
   "metadata": {},
   "source": [
    "#### PassengerId는 인덱스와 비슷하게 1부터 총 행수까지 값이기때문에 boxplot을 그리는 것은 의미가 없다고 판단되지만 그려보았다."
   ]
  },
  {
   "cell_type": "code",
   "execution_count": 62,
   "id": "075944d5",
   "metadata": {},
   "outputs": [
    {
     "data": {
      "text/plain": [
       "<Axes: >"
      ]
     },
     "execution_count": 62,
     "metadata": {},
     "output_type": "execute_result"
    },
    {
     "data": {
      "image/png": "[encoded data removed]",
      "text/plain": [
       "<Figure size 1000x400 with 1 Axes>"
      ]
     },
     "metadata": {},
     "output_type": "display_data"
    }
   ],
   "source": [
    "df.boxplot(column=[\"Survived\"], figsize=(10,4))"
   ]
  },
  {
   "cell_type": "markdown",
   "id": "575055a6",
   "metadata": {},
   "source": [
    "#### Survived는 0과 1의 목표변수로 라벨링된 것으로 현실로는 boxplot을 그리지 않지만 그려보았다. 0과 1의 값빼고는 없는 것을 알 수 있다."
   ]
  },
  {
   "cell_type": "code",
   "execution_count": 63,
   "id": "062c2ca2",
   "metadata": {},
   "outputs": [
    {
     "data": {
      "text/plain": [
       "<Axes: >"
      ]
     },
     "execution_count": 63,
     "metadata": {},
     "output_type": "execute_result"
    },
    {
     "data": {
      "image/png": "[encoded data removed]",
      "text/plain": [
       "<Figure size 1000x400 with 1 Axes>"
      ]
     },
     "metadata": {},
     "output_type": "display_data"
    }
   ],
   "source": [
    "df.boxplot(column=[\"Pclass\"], figsize=(10,4))"
   ]
  },
  {
   "cell_type": "markdown",
   "id": "2e7440d2",
   "metadata": {},
   "source": [
    "#### Pclass는 승객 등급에 따라 1,2,3등석으로  범주형 데이터이다. 범주형 데이터이기 때문에 범주안에 데이터가 전부 존재하는 것을 알 수 있다."
   ]
  },
  {
   "cell_type": "code",
   "execution_count": 64,
   "id": "0925ccd6",
   "metadata": {},
   "outputs": [
    {
     "data": {
      "text/plain": [
       "<Axes: >"
      ]
     },
     "execution_count": 64,
     "metadata": {},
     "output_type": "execute_result"
    },
    {
     "data": {
      "image/png": "[encoded data removed]",
      "text/plain": [
       "<Figure size 1000x400 with 1 Axes>"
      ]
     },
     "metadata": {},
     "output_type": "display_data"
    }
   ],
   "source": [
    "df.boxplot(column=[\"Age\"], figsize=(10,4))"
   ]
  },
  {
   "cell_type": "markdown",
   "id": "b41078ab",
   "metadata": {},
   "source": [
    "#### 탑승자의 나이를 나타내는 변수인 Age를 boxplot으로 나타낸 것이다.  통계적으로 본다면 boxplot 밖에 있는 이상치가 매우 많지만 , 변수는 나이이므로 이상치로 판단하지 않는다."
   ]
  },
  {
   "cell_type": "code",
   "execution_count": 8,
   "id": "1d508a8f",
   "metadata": {},
   "outputs": [
    {
     "data": {
      "text/plain": [
       "<Axes: >"
      ]
     },
     "execution_count": 8,
     "metadata": {},
     "output_type": "execute_result"
    },
    {
     "data": {
      "image/png": "[encoded data removed]",
      "text/plain": [
       "<Figure size 1000x400 with 1 Axes>"
      ]
     },
     "metadata": {},
     "output_type": "display_data"
    }
   ],
   "source": [
    "df.boxplot(column=[\"SibSp\"], figsize=(10,4))"
   ]
  },
  {
   "cell_type": "code",
   "execution_count": 5,
   "id": "1e4e25f7",
   "metadata": {},
   "outputs": [
    {
     "data": {
      "text/plain": [
       "<Axes: >"
      ]
     },
     "execution_count": 5,
     "metadata": {},
     "output_type": "execute_result"
    },
    {
     "data": {
      "image/png": "[encoded data removed]",
      "text/plain": [
       "<Figure size 1000x400 with 1 Axes>"
      ]
     },
     "metadata": {},
     "output_type": "display_data"
    }
   ],
   "source": [
    "df.boxplot(column=[\"Parch\"], figsize=(10,4))"
   ]
  },
  {
   "cell_type": "markdown",
   "id": "ef564994",
   "metadata": {},
   "source": [
    "#### Parch는 함께 탑승한 자녀,부모의 수로 이산적인 값이기 때문에 1~6까지 boxplot에 찍혀있습니다. 1에 가장 찐하게 찍혀있기 때문에 1의 값이 가장 많은 것을 알 수 있습니다. "
   ]
  },
  {
   "cell_type": "code",
   "execution_count": 3,
   "id": "6c05a347",
   "metadata": {},
   "outputs": [
    {
     "data": {
      "text/plain": [
       "<Axes: >"
      ]
     },
     "execution_count": 3,
     "metadata": {},
     "output_type": "execute_result"
    },
    {
     "data": {
      "image/png": "[encoded data removed]",
      "text/plain": [
       "<Figure size 1000x400 with 1 Axes>"
      ]
     },
     "metadata": {},
     "output_type": "display_data"
    }
   ],
   "source": [
    "df.boxplot(column=[\"Fare\"], figsize=(10,4))"
   ]
  },
  {
   "cell_type": "markdown",
   "id": "0ed8ef09",
   "metadata": {},
   "source": [
    "#### Fare는 티켓 요금으로 boxplot의 상한을 넘는 이상치들이 많이 나타납니다. 하지만 실제로 데이터 수도 적고, 요금을 비싸게 준 사람들은 부유층으로 생존과 관련이 있을지 없을지 모르기 때문에 이상치를 제거하지 않을 것입니다. 만약 변수별로 승급등급인 Pclass와 Fare의 상관관계를 보고 양의 상관관계가 있다면 변수를 제거할 수도 있을 것입니다."
   ]
  },
  {
   "cell_type": "markdown",
   "id": "b7a0920f",
   "metadata": {},
   "source": [
    "#### 이상치는 대체하지 않기 때문에, 이상치 처리를 하지 않는다. 만약 현업에서 수행하는 과제였다면 이상치를 보기 위해 boxplot을 모두 그리고, 이상치 의심 데이터를 현업에 있는 실무자와의 대화를 통해 발생할 수 있는 이상치인지 발생할 수 없는 이상치인지 판단하고, 실무자의 경험에 따라 제거하거나 별다른 처리를 안할 수도 있다. 이상치는 분석가의 판단으로 임의로 지우기보다는 실무자의 역할이 중요하다."
   ]
  },
  {
   "cell_type": "markdown",
   "id": "d4b4d552",
   "metadata": {},
   "source": [
    "# 결측치 대체 최빈값 대체하기"
   ]
  },
  {
   "cell_type": "markdown",
   "id": "90ae222c",
   "metadata": {},
   "source": [
    "#### 현업에서는 Cabin 데이터가 유의미한 변수가 아니라면 삭제해주는 것이 맞는 판단이라고 생각합니다.  800여개의 데이터 중 687개의 결측치를 대체한다는 것은 데이터 변질의 우려가 있다고 생각합니다. 현재는 연습과정이므로 실습내용에 따라 최빈값 대체를 하고 넘어가겠습니다."
   ]
  },
  {
   "cell_type": "code",
   "execution_count": 4,
   "id": "808165c9",
   "metadata": {},
   "outputs": [],
   "source": [
    "df['Cabin_str']=df['Cabin'].str.get(i=0)"
   ]
  },
  {
   "cell_type": "markdown",
   "id": "94ae5350",
   "metadata": {},
   "source": [
    "#### Cabin 데이터는 첫 글자가 방 번호를 의미하므로 첫 글자를 분리하여 새로운 파생변수인 Cabin_str에 넣어주었습니다. "
   ]
  },
  {
   "cell_type": "code",
   "execution_count": 5,
   "id": "7c17a4e0",
   "metadata": {},
   "outputs": [
    {
     "data": {
      "text/plain": [
       "'C'"
      ]
     },
     "execution_count": 5,
     "metadata": {},
     "output_type": "execute_result"
    }
   ],
   "source": [
    "Cabin_str_many = df['Cabin_str'].mode().values[0]\n",
    "Cabin_str_many"
   ]
  },
  {
   "cell_type": "code",
   "execution_count": 6,
   "id": "e14828be",
   "metadata": {},
   "outputs": [],
   "source": [
    "df['Cabin_str'].fillna(Cabin_str_many, inplace=True)"
   ]
  },
  {
   "cell_type": "code",
   "execution_count": 7,
   "id": "3120300a",
   "metadata": {},
   "outputs": [],
   "source": [
    "df= df.drop(['Cabin'],axis=1) "
   ]
  },
  {
   "cell_type": "markdown",
   "id": "500060d4",
   "metadata": {},
   "source": [
    "#### 최빈값은 'C' 이고 Cabin_str 에 넣어주고,  Cabin 변수를 삭제하여 줍니다."
   ]
  },
  {
   "cell_type": "code",
   "execution_count": 8,
   "id": "ec06e529",
   "metadata": {},
   "outputs": [],
   "source": [
    "Embarked_many = df['Embarked'].mode().values[0]"
   ]
  },
  {
   "cell_type": "code",
   "execution_count": 9,
   "id": "b155cb32",
   "metadata": {},
   "outputs": [],
   "source": [
    "df['Embarked'].fillna(Embarked_many, inplace=True)"
   ]
  },
  {
   "cell_type": "markdown",
   "id": "943a4b02",
   "metadata": {},
   "source": [
    "#### Embarked는 승객이 탑승한 곳으로 C,Q,S로 이루어져있고, 뒤에서 최빈값으로 대체 해주겠습니다."
   ]
  },
  {
   "cell_type": "code",
   "execution_count": 10,
   "id": "d144f5e4",
   "metadata": {},
   "outputs": [
    {
     "data": {
      "text/plain": [
       "PassengerId    0\n",
       "Survived       0\n",
       "Pclass         0\n",
       "Name           0\n",
       "Sex            0\n",
       "Age            0\n",
       "SibSp          0\n",
       "Parch          0\n",
       "Ticket         0\n",
       "Fare           0\n",
       "Embarked       0\n",
       "Cabin_str      0\n",
       "dtype: int64"
      ]
     },
     "execution_count": 10,
     "metadata": {},
     "output_type": "execute_result"
    }
   ],
   "source": [
    "df.isnull().sum() "
   ]
  },
  {
   "cell_type": "markdown",
   "id": "675cc13d",
   "metadata": {},
   "source": [
    "#### 결측치가 없어진 것을 알 수 있습니다. 결측치가 있다면 모델이 돌아가지 않는 상황도 있고, 평균, 최빈값 , 0 등 여러가지 대체방법이 있습니다. 또한 데이터가 많다면 데이터를 제거할 수도 있습니다. 상황에 따라 분석자가 가장 적합하다고 판단되는 결측치 처리방법을 통해 해결할 수 있습니다."
   ]
  },
  {
   "cell_type": "code",
   "execution_count": 15,
   "id": "d225c0ee",
   "metadata": {},
   "outputs": [
    {
     "data": {
      "text/html": [
       "<div>\n",
       "<style scoped>\n",
       "    .dataframe tbody tr th:only-of-type {\n",
       "        vertical-align: middle;\n",
       "    }\n",
       "\n",
       "    .dataframe tbody tr th {\n",
       "        vertical-align: top;\n",
       "    }\n",
       "\n",
       "    .dataframe thead th {\n",
       "        text-align: right;\n",
       "    }\n",
       "</style>\n",
       "<table border=\"1\" class=\"dataframe\">\n",
       "  <thead>\n",
       "    <tr style=\"text-align: right;\">\n",
       "      <th></th>\n",
       "      <th>PassengerId</th>\n",
       "      <th>Survived</th>\n",
       "      <th>Pclass</th>\n",
       "      <th>Name</th>\n",
       "      <th>Sex</th>\n",
       "      <th>Age</th>\n",
       "      <th>SibSp</th>\n",
       "      <th>Parch</th>\n",
       "      <th>Ticket</th>\n",
       "      <th>Fare</th>\n",
       "      <th>Embarked</th>\n",
       "      <th>Cabin_str</th>\n",
       "    </tr>\n",
       "  </thead>\n",
       "  <tbody>\n",
       "    <tr>\n",
       "      <th>0</th>\n",
       "      <td>1</td>\n",
       "      <td>0</td>\n",
       "      <td>3</td>\n",
       "      <td>Braund, Mr. Owen Harris</td>\n",
       "      <td>male</td>\n",
       "      <td>22.0</td>\n",
       "      <td>1</td>\n",
       "      <td>0</td>\n",
       "      <td>A/5 21171</td>\n",
       "      <td>7.2500</td>\n",
       "      <td>S</td>\n",
       "      <td>C</td>\n",
       "    </tr>\n",
       "    <tr>\n",
       "      <th>1</th>\n",
       "      <td>2</td>\n",
       "      <td>1</td>\n",
       "      <td>1</td>\n",
       "      <td>Cumings, Mrs. John Bradley (Florence Briggs Th...</td>\n",
       "      <td>female</td>\n",
       "      <td>38.0</td>\n",
       "      <td>1</td>\n",
       "      <td>0</td>\n",
       "      <td>PC 17599</td>\n",
       "      <td>71.2833</td>\n",
       "      <td>C</td>\n",
       "      <td>C</td>\n",
       "    </tr>\n",
       "    <tr>\n",
       "      <th>2</th>\n",
       "      <td>3</td>\n",
       "      <td>1</td>\n",
       "      <td>3</td>\n",
       "      <td>Heikkinen, Miss. Laina</td>\n",
       "      <td>female</td>\n",
       "      <td>26.0</td>\n",
       "      <td>0</td>\n",
       "      <td>0</td>\n",
       "      <td>STON/O2. 3101282</td>\n",
       "      <td>7.9250</td>\n",
       "      <td>S</td>\n",
       "      <td>C</td>\n",
       "    </tr>\n",
       "    <tr>\n",
       "      <th>3</th>\n",
       "      <td>4</td>\n",
       "      <td>1</td>\n",
       "      <td>1</td>\n",
       "      <td>Futrelle, Mrs. Jacques Heath (Lily May Peel)</td>\n",
       "      <td>female</td>\n",
       "      <td>35.0</td>\n",
       "      <td>1</td>\n",
       "      <td>0</td>\n",
       "      <td>113803</td>\n",
       "      <td>53.1000</td>\n",
       "      <td>S</td>\n",
       "      <td>C</td>\n",
       "    </tr>\n",
       "    <tr>\n",
       "      <th>4</th>\n",
       "      <td>5</td>\n",
       "      <td>0</td>\n",
       "      <td>3</td>\n",
       "      <td>Allen, Mr. William Henry</td>\n",
       "      <td>male</td>\n",
       "      <td>35.0</td>\n",
       "      <td>0</td>\n",
       "      <td>0</td>\n",
       "      <td>373450</td>\n",
       "      <td>8.0500</td>\n",
       "      <td>S</td>\n",
       "      <td>C</td>\n",
       "    </tr>\n",
       "  </tbody>\n",
       "</table>\n",
       "</div>"
      ],
      "text/plain": [
       "   PassengerId  Survived  Pclass  \\\n",
       "0            1         0       3   \n",
       "1            2         1       1   \n",
       "2            3         1       3   \n",
       "3            4         1       1   \n",
       "4            5         0       3   \n",
       "\n",
       "                                                Name     Sex   Age  SibSp  \\\n",
       "0                            Braund, Mr. Owen Harris    male  22.0      1   \n",
       "1  Cumings, Mrs. John Bradley (Florence Briggs Th...  female  38.0      1   \n",
       "2                             Heikkinen, Miss. Laina  female  26.0      0   \n",
       "3       Futrelle, Mrs. Jacques Heath (Lily May Peel)  female  35.0      1   \n",
       "4                           Allen, Mr. William Henry    male  35.0      0   \n",
       "\n",
       "   Parch            Ticket     Fare Embarked Cabin_str  \n",
       "0      0         A/5 21171   7.2500        S         C  \n",
       "1      0          PC 17599  71.2833        C         C  \n",
       "2      0  STON/O2. 3101282   7.9250        S         C  \n",
       "3      0            113803  53.1000        S         C  \n",
       "4      0            373450   8.0500        S         C  "
      ]
     },
     "execution_count": 15,
     "metadata": {},
     "output_type": "execute_result"
    }
   ],
   "source": [
    "df.head()"
   ]
  },
  {
   "cell_type": "markdown",
   "id": "22a67ab6",
   "metadata": {},
   "source": [
    "# 가족수 계산"
   ]
  },
  {
   "cell_type": "code",
   "execution_count": 11,
   "id": "262b6b70",
   "metadata": {},
   "outputs": [],
   "source": [
    "df['family']=df['SibSp'] + df['Parch']"
   ]
  },
  {
   "cell_type": "markdown",
   "id": "d268428b",
   "metadata": {},
   "source": [
    " #### SibSp 와 Parch는 공통적으로 동승자를 나타내는 변수이므로 합쳐서 Family 라는 새로운 파생변수를 만들었습니다.\n",
    " #### 만약, 현업에서도 변수를 줄이고자 할 때, 공통적으로 묶을 수 있는 변수들이 있다면 하나의 파생변수로 바꿔서 차원을 축소할 것입니다."
   ]
  },
  {
   "cell_type": "code",
   "execution_count": 17,
   "id": "503e71e3",
   "metadata": {},
   "outputs": [
    {
     "data": {
      "text/html": [
       "<div>\n",
       "<style scoped>\n",
       "    .dataframe tbody tr th:only-of-type {\n",
       "        vertical-align: middle;\n",
       "    }\n",
       "\n",
       "    .dataframe tbody tr th {\n",
       "        vertical-align: top;\n",
       "    }\n",
       "\n",
       "    .dataframe thead th {\n",
       "        text-align: right;\n",
       "    }\n",
       "</style>\n",
       "<table border=\"1\" class=\"dataframe\">\n",
       "  <thead>\n",
       "    <tr style=\"text-align: right;\">\n",
       "      <th></th>\n",
       "      <th>PassengerId</th>\n",
       "      <th>Survived</th>\n",
       "      <th>Pclass</th>\n",
       "      <th>Name</th>\n",
       "      <th>Sex</th>\n",
       "      <th>Age</th>\n",
       "      <th>SibSp</th>\n",
       "      <th>Parch</th>\n",
       "      <th>Ticket</th>\n",
       "      <th>Fare</th>\n",
       "      <th>Embarked</th>\n",
       "      <th>Cabin_str</th>\n",
       "      <th>family</th>\n",
       "    </tr>\n",
       "  </thead>\n",
       "  <tbody>\n",
       "    <tr>\n",
       "      <th>0</th>\n",
       "      <td>1</td>\n",
       "      <td>0</td>\n",
       "      <td>3</td>\n",
       "      <td>Braund, Mr. Owen Harris</td>\n",
       "      <td>male</td>\n",
       "      <td>22.0</td>\n",
       "      <td>1</td>\n",
       "      <td>0</td>\n",
       "      <td>A/5 21171</td>\n",
       "      <td>7.2500</td>\n",
       "      <td>S</td>\n",
       "      <td>C</td>\n",
       "      <td>1</td>\n",
       "    </tr>\n",
       "    <tr>\n",
       "      <th>1</th>\n",
       "      <td>2</td>\n",
       "      <td>1</td>\n",
       "      <td>1</td>\n",
       "      <td>Cumings, Mrs. John Bradley (Florence Briggs Th...</td>\n",
       "      <td>female</td>\n",
       "      <td>38.0</td>\n",
       "      <td>1</td>\n",
       "      <td>0</td>\n",
       "      <td>PC 17599</td>\n",
       "      <td>71.2833</td>\n",
       "      <td>C</td>\n",
       "      <td>C</td>\n",
       "      <td>1</td>\n",
       "    </tr>\n",
       "    <tr>\n",
       "      <th>2</th>\n",
       "      <td>3</td>\n",
       "      <td>1</td>\n",
       "      <td>3</td>\n",
       "      <td>Heikkinen, Miss. Laina</td>\n",
       "      <td>female</td>\n",
       "      <td>26.0</td>\n",
       "      <td>0</td>\n",
       "      <td>0</td>\n",
       "      <td>STON/O2. 3101282</td>\n",
       "      <td>7.9250</td>\n",
       "      <td>S</td>\n",
       "      <td>C</td>\n",
       "      <td>0</td>\n",
       "    </tr>\n",
       "    <tr>\n",
       "      <th>3</th>\n",
       "      <td>4</td>\n",
       "      <td>1</td>\n",
       "      <td>1</td>\n",
       "      <td>Futrelle, Mrs. Jacques Heath (Lily May Peel)</td>\n",
       "      <td>female</td>\n",
       "      <td>35.0</td>\n",
       "      <td>1</td>\n",
       "      <td>0</td>\n",
       "      <td>113803</td>\n",
       "      <td>53.1000</td>\n",
       "      <td>S</td>\n",
       "      <td>C</td>\n",
       "      <td>1</td>\n",
       "    </tr>\n",
       "    <tr>\n",
       "      <th>4</th>\n",
       "      <td>5</td>\n",
       "      <td>0</td>\n",
       "      <td>3</td>\n",
       "      <td>Allen, Mr. William Henry</td>\n",
       "      <td>male</td>\n",
       "      <td>35.0</td>\n",
       "      <td>0</td>\n",
       "      <td>0</td>\n",
       "      <td>373450</td>\n",
       "      <td>8.0500</td>\n",
       "      <td>S</td>\n",
       "      <td>C</td>\n",
       "      <td>0</td>\n",
       "    </tr>\n",
       "    <tr>\n",
       "      <th>5</th>\n",
       "      <td>6</td>\n",
       "      <td>0</td>\n",
       "      <td>3</td>\n",
       "      <td>Moran, Mr. James</td>\n",
       "      <td>male</td>\n",
       "      <td>30.0</td>\n",
       "      <td>0</td>\n",
       "      <td>0</td>\n",
       "      <td>330877</td>\n",
       "      <td>8.4583</td>\n",
       "      <td>Q</td>\n",
       "      <td>C</td>\n",
       "      <td>0</td>\n",
       "    </tr>\n",
       "    <tr>\n",
       "      <th>6</th>\n",
       "      <td>7</td>\n",
       "      <td>0</td>\n",
       "      <td>1</td>\n",
       "      <td>McCarthy, Mr. Timothy J</td>\n",
       "      <td>male</td>\n",
       "      <td>54.0</td>\n",
       "      <td>0</td>\n",
       "      <td>0</td>\n",
       "      <td>17463</td>\n",
       "      <td>51.8625</td>\n",
       "      <td>S</td>\n",
       "      <td>E</td>\n",
       "      <td>0</td>\n",
       "    </tr>\n",
       "    <tr>\n",
       "      <th>7</th>\n",
       "      <td>8</td>\n",
       "      <td>0</td>\n",
       "      <td>3</td>\n",
       "      <td>Palsson, Master. Gosta Leonard</td>\n",
       "      <td>male</td>\n",
       "      <td>2.0</td>\n",
       "      <td>3</td>\n",
       "      <td>1</td>\n",
       "      <td>349909</td>\n",
       "      <td>21.0750</td>\n",
       "      <td>S</td>\n",
       "      <td>C</td>\n",
       "      <td>4</td>\n",
       "    </tr>\n",
       "    <tr>\n",
       "      <th>8</th>\n",
       "      <td>9</td>\n",
       "      <td>1</td>\n",
       "      <td>3</td>\n",
       "      <td>Johnson, Mrs. Oscar W (Elisabeth Vilhelmina Berg)</td>\n",
       "      <td>female</td>\n",
       "      <td>27.0</td>\n",
       "      <td>0</td>\n",
       "      <td>2</td>\n",
       "      <td>347742</td>\n",
       "      <td>11.1333</td>\n",
       "      <td>S</td>\n",
       "      <td>C</td>\n",
       "      <td>2</td>\n",
       "    </tr>\n",
       "    <tr>\n",
       "      <th>9</th>\n",
       "      <td>10</td>\n",
       "      <td>1</td>\n",
       "      <td>2</td>\n",
       "      <td>Nasser, Mrs. Nicholas (Adele Achem)</td>\n",
       "      <td>female</td>\n",
       "      <td>14.0</td>\n",
       "      <td>1</td>\n",
       "      <td>0</td>\n",
       "      <td>237736</td>\n",
       "      <td>30.0708</td>\n",
       "      <td>C</td>\n",
       "      <td>C</td>\n",
       "      <td>1</td>\n",
       "    </tr>\n",
       "  </tbody>\n",
       "</table>\n",
       "</div>"
      ],
      "text/plain": [
       "   PassengerId  Survived  Pclass  \\\n",
       "0            1         0       3   \n",
       "1            2         1       1   \n",
       "2            3         1       3   \n",
       "3            4         1       1   \n",
       "4            5         0       3   \n",
       "5            6         0       3   \n",
       "6            7         0       1   \n",
       "7            8         0       3   \n",
       "8            9         1       3   \n",
       "9           10         1       2   \n",
       "\n",
       "                                                Name     Sex   Age  SibSp  \\\n",
       "0                            Braund, Mr. Owen Harris    male  22.0      1   \n",
       "1  Cumings, Mrs. John Bradley (Florence Briggs Th...  female  38.0      1   \n",
       "2                             Heikkinen, Miss. Laina  female  26.0      0   \n",
       "3       Futrelle, Mrs. Jacques Heath (Lily May Peel)  female  35.0      1   \n",
       "4                           Allen, Mr. William Henry    male  35.0      0   \n",
       "5                                   Moran, Mr. James    male  30.0      0   \n",
       "6                            McCarthy, Mr. Timothy J    male  54.0      0   \n",
       "7                     Palsson, Master. Gosta Leonard    male   2.0      3   \n",
       "8  Johnson, Mrs. Oscar W (Elisabeth Vilhelmina Berg)  female  27.0      0   \n",
       "9                Nasser, Mrs. Nicholas (Adele Achem)  female  14.0      1   \n",
       "\n",
       "   Parch            Ticket     Fare Embarked Cabin_str  family  \n",
       "0      0         A/5 21171   7.2500        S         C       1  \n",
       "1      0          PC 17599  71.2833        C         C       1  \n",
       "2      0  STON/O2. 3101282   7.9250        S         C       0  \n",
       "3      0            113803  53.1000        S         C       1  \n",
       "4      0            373450   8.0500        S         C       0  \n",
       "5      0            330877   8.4583        Q         C       0  \n",
       "6      0             17463  51.8625        S         E       0  \n",
       "7      1            349909  21.0750        S         C       4  \n",
       "8      2            347742  11.1333        S         C       2  \n",
       "9      0            237736  30.0708        C         C       1  "
      ]
     },
     "execution_count": 17,
     "metadata": {},
     "output_type": "execute_result"
    }
   ],
   "source": [
    "df.head(10) "
   ]
  },
  {
   "cell_type": "markdown",
   "id": "94492fe9",
   "metadata": {},
   "source": [
    "#### 간단히 10개의 데이터를 확인하여 파생변수가 잘 만들어졌는지 확인하였습니다."
   ]
  },
  {
   "cell_type": "code",
   "execution_count": 12,
   "id": "9e83413d",
   "metadata": {},
   "outputs": [],
   "source": [
    "df= df.drop(['SibSp','Parch'],axis=1) "
   ]
  },
  {
   "cell_type": "markdown",
   "id": "7c527e79",
   "metadata": {},
   "source": [
    "#### 새로운 파생변수를 만들었기때문에 파생변수를 만든 변수를 제거 해줍니다. \n",
    "#### 왜나하면 다중공선성이 발생할 수 있기 때문입니다. 현업에서 분석을 진행한다면 다중공선성이 커서 에러가 날 수도 있지만 매우 중요한 변수라면 다중공선성이 크더라도 넣고 분석을 진행할것입니다."
   ]
  },
  {
   "cell_type": "code",
   "execution_count": 13,
   "id": "f9656686",
   "metadata": {},
   "outputs": [
    {
     "data": {
      "text/html": [
       "<div>\n",
       "<style scoped>\n",
       "    .dataframe tbody tr th:only-of-type {\n",
       "        vertical-align: middle;\n",
       "    }\n",
       "\n",
       "    .dataframe tbody tr th {\n",
       "        vertical-align: top;\n",
       "    }\n",
       "\n",
       "    .dataframe thead th {\n",
       "        text-align: right;\n",
       "    }\n",
       "</style>\n",
       "<table border=\"1\" class=\"dataframe\">\n",
       "  <thead>\n",
       "    <tr style=\"text-align: right;\">\n",
       "      <th></th>\n",
       "      <th>PassengerId</th>\n",
       "      <th>Survived</th>\n",
       "      <th>Pclass</th>\n",
       "      <th>Name</th>\n",
       "      <th>Sex</th>\n",
       "      <th>Age</th>\n",
       "      <th>Ticket</th>\n",
       "      <th>Fare</th>\n",
       "      <th>Embarked</th>\n",
       "      <th>Cabin_str</th>\n",
       "      <th>family</th>\n",
       "    </tr>\n",
       "  </thead>\n",
       "  <tbody>\n",
       "    <tr>\n",
       "      <th>0</th>\n",
       "      <td>1</td>\n",
       "      <td>0</td>\n",
       "      <td>3</td>\n",
       "      <td>Braund, Mr. Owen Harris</td>\n",
       "      <td>male</td>\n",
       "      <td>22.0</td>\n",
       "      <td>A/5 21171</td>\n",
       "      <td>7.2500</td>\n",
       "      <td>S</td>\n",
       "      <td>C</td>\n",
       "      <td>1</td>\n",
       "    </tr>\n",
       "    <tr>\n",
       "      <th>1</th>\n",
       "      <td>2</td>\n",
       "      <td>1</td>\n",
       "      <td>1</td>\n",
       "      <td>Cumings, Mrs. John Bradley (Florence Briggs Th...</td>\n",
       "      <td>female</td>\n",
       "      <td>38.0</td>\n",
       "      <td>PC 17599</td>\n",
       "      <td>71.2833</td>\n",
       "      <td>C</td>\n",
       "      <td>C</td>\n",
       "      <td>1</td>\n",
       "    </tr>\n",
       "    <tr>\n",
       "      <th>2</th>\n",
       "      <td>3</td>\n",
       "      <td>1</td>\n",
       "      <td>3</td>\n",
       "      <td>Heikkinen, Miss. Laina</td>\n",
       "      <td>female</td>\n",
       "      <td>26.0</td>\n",
       "      <td>STON/O2. 3101282</td>\n",
       "      <td>7.9250</td>\n",
       "      <td>S</td>\n",
       "      <td>C</td>\n",
       "      <td>0</td>\n",
       "    </tr>\n",
       "    <tr>\n",
       "      <th>3</th>\n",
       "      <td>4</td>\n",
       "      <td>1</td>\n",
       "      <td>1</td>\n",
       "      <td>Futrelle, Mrs. Jacques Heath (Lily May Peel)</td>\n",
       "      <td>female</td>\n",
       "      <td>35.0</td>\n",
       "      <td>113803</td>\n",
       "      <td>53.1000</td>\n",
       "      <td>S</td>\n",
       "      <td>C</td>\n",
       "      <td>1</td>\n",
       "    </tr>\n",
       "    <tr>\n",
       "      <th>4</th>\n",
       "      <td>5</td>\n",
       "      <td>0</td>\n",
       "      <td>3</td>\n",
       "      <td>Allen, Mr. William Henry</td>\n",
       "      <td>male</td>\n",
       "      <td>35.0</td>\n",
       "      <td>373450</td>\n",
       "      <td>8.0500</td>\n",
       "      <td>S</td>\n",
       "      <td>C</td>\n",
       "      <td>0</td>\n",
       "    </tr>\n",
       "  </tbody>\n",
       "</table>\n",
       "</div>"
      ],
      "text/plain": [
       "   PassengerId  Survived  Pclass  \\\n",
       "0            1         0       3   \n",
       "1            2         1       1   \n",
       "2            3         1       3   \n",
       "3            4         1       1   \n",
       "4            5         0       3   \n",
       "\n",
       "                                                Name     Sex   Age  \\\n",
       "0                            Braund, Mr. Owen Harris    male  22.0   \n",
       "1  Cumings, Mrs. John Bradley (Florence Briggs Th...  female  38.0   \n",
       "2                             Heikkinen, Miss. Laina  female  26.0   \n",
       "3       Futrelle, Mrs. Jacques Heath (Lily May Peel)  female  35.0   \n",
       "4                           Allen, Mr. William Henry    male  35.0   \n",
       "\n",
       "             Ticket     Fare Embarked Cabin_str  family  \n",
       "0         A/5 21171   7.2500        S         C       1  \n",
       "1          PC 17599  71.2833        C         C       1  \n",
       "2  STON/O2. 3101282   7.9250        S         C       0  \n",
       "3            113803  53.1000        S         C       1  \n",
       "4            373450   8.0500        S         C       0  "
      ]
     },
     "execution_count": 13,
     "metadata": {},
     "output_type": "execute_result"
    }
   ],
   "source": [
    "df.head()"
   ]
  },
  {
   "cell_type": "markdown",
   "id": "74cae846",
   "metadata": {},
   "source": [
    "#### SibSp변수와 Parch 변수가 성공적으로 삭제되었는지 확인하기 위하여 한번 더 head()를 통해 데이터를 확인하였습니다\n",
    "#### 변수 삭제와 같은 일을 하였을 때, 확인하지 않고 넘어간다면 추후에 삭제가 안됬거나 나의 생각대로 이뤄지지 않았을 때 문제가 발생할 수 있기 때문에 확인을 해주는 작업이 필요합니다"
   ]
  },
  {
   "cell_type": "markdown",
   "id": "db3f481c",
   "metadata": {},
   "source": [
    "# 나이에 대한 파생변수 생성"
   ]
  },
  {
   "cell_type": "code",
   "execution_count": 14,
   "id": "b4b4f888",
   "metadata": {},
   "outputs": [
    {
     "name": "stdout",
     "output_type": "stream",
     "text": [
      "80.0\n",
      "0.42\n"
     ]
    }
   ],
   "source": [
    "maxage=df[\"Age\"].max() \n",
    "print(maxage)\n",
    "minage=df[\"Age\"].min() \n",
    "print(minage)\n"
   ]
  },
  {
   "cell_type": "code",
   "execution_count": 15,
   "id": "bc26c824",
   "metadata": {},
   "outputs": [
    {
     "name": "stdout",
     "output_type": "stream",
     "text": [
      "      Age Age_group\n",
      "0    22.0     Young\n",
      "1    38.0    Middle\n",
      "2    26.0     Young\n",
      "3    35.0    Middle\n",
      "4    35.0    Middle\n",
      "..    ...       ...\n",
      "886  27.0     Young\n",
      "887  19.0     Young\n",
      "888  30.0    Middle\n",
      "889  26.0     Young\n",
      "890  32.0    Middle\n",
      "\n",
      "[891 rows x 2 columns]\n"
     ]
    }
   ],
   "source": [
    "age_gugan= [0, 14, 28, 45, 56, 81]\n",
    "age_guganname = ['Child', 'Young', 'Middle', 'Prime', 'Old']\n",
    "\n",
    "df['Age_group'] = pd.cut(df['Age'], bins=age_gugan, labels=age_guganname, right=False)\n",
    "\n",
    "print(df[['Age', 'Age_group']])"
   ]
  },
  {
   "cell_type": "markdown",
   "id": "7731a1a7",
   "metadata": {},
   "source": [
    "#### 구간별로 리스트 형태로 만들 때 기준이 되는 구간은 max보다 큰 값과 min보다 작은값을 넣어줘서 만들고 판다스에서 cut 함수를 통해 구간을 나눠주고, 비교해보았습니다. 범주형 변수로 바뀐 것을 알 수 있습니다. \n",
    "#### Age 변수는 마지막에 그래프 분석에서 나이와 생존에 관한 분석을 위해 삭제하지 않았습니다."
   ]
  },
  {
   "cell_type": "markdown",
   "id": "35f9e82d",
   "metadata": {},
   "source": [
    "# 요금 구간화 "
   ]
  },
  {
   "cell_type": "code",
   "execution_count": 16,
   "id": "b1894e66",
   "metadata": {},
   "outputs": [
    {
     "name": "stdout",
     "output_type": "stream",
     "text": [
      "512.3292\n",
      "0.0\n"
     ]
    }
   ],
   "source": [
    "maxfare=df['Fare'].max()\n",
    "print(maxfare)\n",
    "minfare=df['Fare'].min()\n",
    "print(minfare)"
   ]
  },
  {
   "cell_type": "code",
   "execution_count": 17,
   "id": "df0f44ab",
   "metadata": {},
   "outputs": [],
   "source": [
    "fare_gugan = [-0.1, 50, 100, 150, 200, 513]\n",
    "fare_guganname = [0, 1, 2, 3, 4]\n",
    "\n",
    "df['Fare_group'] = pd.cut(df['Fare'], bins=fare_gugan, labels=fare_guganname, right=False)\n"
   ]
  },
  {
   "cell_type": "code",
   "execution_count": 18,
   "id": "cceea325",
   "metadata": {},
   "outputs": [],
   "source": [
    "df= df.drop(['Name','Ticket','Fare'],axis=1) "
   ]
  },
  {
   "cell_type": "markdown",
   "id": "fe327c34",
   "metadata": {},
   "source": [
    "#### Fare에서 최대값과 최소값을 구해서 최소값보다 작은 -1과 최대값보다 큰 513를 적어주고, 구간별로 만들고, 대체 할 값으로 0~4까지 리스트 형태로 만들어서 pandas에 cut 함수를 통해 Fare에 대한 구간인 Fare_group을 만들어줍니다.  그리고 만드는데 사용한 Fare 변수는 제거합니다.\n",
    "\n",
    "#### 추가적으로 이름과 티켓 아이디 변수도 불필요하다고 판단하여 제거해주었습니다."
   ]
  },
  {
   "cell_type": "code",
   "execution_count": 19,
   "id": "9e19540e",
   "metadata": {},
   "outputs": [
    {
     "data": {
      "text/plain": [
       "(891, 10)"
      ]
     },
     "execution_count": 19,
     "metadata": {},
     "output_type": "execute_result"
    }
   ],
   "source": [
    "df.shape"
   ]
  },
  {
   "cell_type": "code",
   "execution_count": 20,
   "id": "ff940f4c",
   "metadata": {},
   "outputs": [
    {
     "data": {
      "text/html": [
       "<div>\n",
       "<style scoped>\n",
       "    .dataframe tbody tr th:only-of-type {\n",
       "        vertical-align: middle;\n",
       "    }\n",
       "\n",
       "    .dataframe tbody tr th {\n",
       "        vertical-align: top;\n",
       "    }\n",
       "\n",
       "    .dataframe thead th {\n",
       "        text-align: right;\n",
       "    }\n",
       "</style>\n",
       "<table border=\"1\" class=\"dataframe\">\n",
       "  <thead>\n",
       "    <tr style=\"text-align: right;\">\n",
       "      <th></th>\n",
       "      <th>PassengerId</th>\n",
       "      <th>Survived</th>\n",
       "      <th>Pclass</th>\n",
       "      <th>Sex</th>\n",
       "      <th>Age</th>\n",
       "      <th>Embarked</th>\n",
       "      <th>Cabin_str</th>\n",
       "      <th>family</th>\n",
       "      <th>Age_group</th>\n",
       "      <th>Fare_group</th>\n",
       "    </tr>\n",
       "  </thead>\n",
       "  <tbody>\n",
       "    <tr>\n",
       "      <th>0</th>\n",
       "      <td>1</td>\n",
       "      <td>0</td>\n",
       "      <td>3</td>\n",
       "      <td>male</td>\n",
       "      <td>22.0</td>\n",
       "      <td>S</td>\n",
       "      <td>C</td>\n",
       "      <td>1</td>\n",
       "      <td>Young</td>\n",
       "      <td>0</td>\n",
       "    </tr>\n",
       "    <tr>\n",
       "      <th>1</th>\n",
       "      <td>2</td>\n",
       "      <td>1</td>\n",
       "      <td>1</td>\n",
       "      <td>female</td>\n",
       "      <td>38.0</td>\n",
       "      <td>C</td>\n",
       "      <td>C</td>\n",
       "      <td>1</td>\n",
       "      <td>Middle</td>\n",
       "      <td>1</td>\n",
       "    </tr>\n",
       "    <tr>\n",
       "      <th>2</th>\n",
       "      <td>3</td>\n",
       "      <td>1</td>\n",
       "      <td>3</td>\n",
       "      <td>female</td>\n",
       "      <td>26.0</td>\n",
       "      <td>S</td>\n",
       "      <td>C</td>\n",
       "      <td>0</td>\n",
       "      <td>Young</td>\n",
       "      <td>0</td>\n",
       "    </tr>\n",
       "    <tr>\n",
       "      <th>3</th>\n",
       "      <td>4</td>\n",
       "      <td>1</td>\n",
       "      <td>1</td>\n",
       "      <td>female</td>\n",
       "      <td>35.0</td>\n",
       "      <td>S</td>\n",
       "      <td>C</td>\n",
       "      <td>1</td>\n",
       "      <td>Middle</td>\n",
       "      <td>1</td>\n",
       "    </tr>\n",
       "    <tr>\n",
       "      <th>4</th>\n",
       "      <td>5</td>\n",
       "      <td>0</td>\n",
       "      <td>3</td>\n",
       "      <td>male</td>\n",
       "      <td>35.0</td>\n",
       "      <td>S</td>\n",
       "      <td>C</td>\n",
       "      <td>0</td>\n",
       "      <td>Middle</td>\n",
       "      <td>0</td>\n",
       "    </tr>\n",
       "  </tbody>\n",
       "</table>\n",
       "</div>"
      ],
      "text/plain": [
       "   PassengerId  Survived  Pclass     Sex   Age Embarked Cabin_str  family  \\\n",
       "0            1         0       3    male  22.0        S         C       1   \n",
       "1            2         1       1  female  38.0        C         C       1   \n",
       "2            3         1       3  female  26.0        S         C       0   \n",
       "3            4         1       1  female  35.0        S         C       1   \n",
       "4            5         0       3    male  35.0        S         C       0   \n",
       "\n",
       "  Age_group Fare_group  \n",
       "0     Young          0  \n",
       "1    Middle          1  \n",
       "2     Young          0  \n",
       "3    Middle          1  \n",
       "4    Middle          0  "
      ]
     },
     "execution_count": 20,
     "metadata": {},
     "output_type": "execute_result"
    }
   ],
   "source": [
    "df.head()"
   ]
  },
  {
   "cell_type": "markdown",
   "id": "e49449a3",
   "metadata": {},
   "source": [
    "# 목표변수 Survived 빈도 수 : 막대그래프"
   ]
  },
  {
   "cell_type": "code",
   "execution_count": 21,
   "id": "26684246",
   "metadata": {},
   "outputs": [
    {
     "data": {
      "image/png": "[encoded data removed]",
      "text/plain": [
       "<Figure size 640x480 with 1 Axes>"
      ]
     },
     "metadata": {},
     "output_type": "display_data"
    }
   ],
   "source": [
    "df_count1=df[\"Survived\"].value_counts()\n",
    "df_count1.plot.bar()\n",
    "plt.title('Survived count')\n",
    "plt.show()"
   ]
  },
  {
   "cell_type": "markdown",
   "id": "3873c1fd",
   "metadata": {},
   "source": [
    "#### 0이 사망 , 1이 생존으로 사망자가 약 550명, 생존자가 약 350명으로 대략적으로 알 수 있다. 데이터가 불균형 데이터라고 판단하고, 머신러닝까지 진행한다면 데이터도 적기때문에 언더 샘플링보다  smote기법을 통해 오버샘플링 해줄 것입니다."
   ]
  },
  {
   "cell_type": "markdown",
   "id": "660555c0",
   "metadata": {},
   "source": [
    "# 목표변수 Survived 비율 : Pie 차트"
   ]
  },
  {
   "cell_type": "code",
   "execution_count": 29,
   "id": "ebff3a13",
   "metadata": {},
   "outputs": [
    {
     "data": {
      "image/png": "[encoded data removed]",
      "text/plain": [
       "<Figure size 640x480 with 1 Axes>"
      ]
     },
     "metadata": {},
     "output_type": "display_data"
    }
   ],
   "source": [
    "df_count2=df.groupby([\"Survived\"]).size()\n",
    "df_count2.plot.pie(autopct='%1.1f%%')\n",
    "plt.title('Survived ratio')\n",
    "plt.show()"
   ]
  },
  {
   "cell_type": "markdown",
   "id": "98ac0314",
   "metadata": {},
   "source": [
    "#### 비율을 보더라도 사망자가 생존자보다 많은 비율임을 알 수 있습니다. 오버샘플링 이후 pie차트를 한번 더 그려주면 50:50으로 되서 직관적으로 데이터 균형이 맞춰진 것을 볼 수 있을 것이라고 생각합니다."
   ]
  },
  {
   "cell_type": "markdown",
   "id": "8b7b2a5a",
   "metadata": {},
   "source": [
    "# 범주형 변수 Pclass : Pie 차트"
   ]
  },
  {
   "cell_type": "code",
   "execution_count": 30,
   "id": "38b8c59a",
   "metadata": {},
   "outputs": [
    {
     "data": {
      "text/plain": [
       "<Axes: title={'center': 'Pclass ratio'}>"
      ]
     },
     "execution_count": 30,
     "metadata": {},
     "output_type": "execute_result"
    },
    {
     "data": {
      "image/png": "[encoded data removed]",
      "text/plain": [
       "<Figure size 640x480 with 1 Axes>"
      ]
     },
     "metadata": {},
     "output_type": "display_data"
    }
   ],
   "source": [
    "df_count3=df.groupby([\"Pclass\"]).size()\n",
    "df_count3.plot.pie(autopct='%1.1f%%')\n",
    "plt.title('Pclass ratio')\n",
    "df_count3.plot.pie()"
   ]
  },
  {
   "cell_type": "markdown",
   "id": "f97467da",
   "metadata": {},
   "source": [
    "#### Pclass 변수의 3가지 클래스 중 3등석이 압도적으로 많은 것을 알 수 있습니다석 1등석과 2등석을 합쳐도 3등석이 매우 많습니다. 필요에 따라 3가지 클래스에 따라 생존과 사망 비율이 얼마나 다른지 분석해볼 수 있을 것 같다."
   ]
  },
  {
   "cell_type": "markdown",
   "id": "c87c998b",
   "metadata": {},
   "source": [
    "# 범주형 변수 Sex : Pie 차트"
   ]
  },
  {
   "cell_type": "code",
   "execution_count": 31,
   "id": "b8121c6e",
   "metadata": {},
   "outputs": [
    {
     "data": {
      "text/plain": [
       "<Axes: title={'center': 'Sex ratio'}>"
      ]
     },
     "execution_count": 31,
     "metadata": {},
     "output_type": "execute_result"
    },
    {
     "data": {
      "image/png": "[encoded data removed]",
      "text/plain": [
       "<Figure size 640x480 with 1 Axes>"
      ]
     },
     "metadata": {},
     "output_type": "display_data"
    }
   ],
   "source": [
    "df_count4=df.groupby([\"Sex\"]).size()\n",
    "df_count4.plot.pie(autopct='%1.1f%%')\n",
    "plt.title('Sex ratio')\n",
    "df_count4.plot.pie()"
   ]
  },
  {
   "cell_type": "markdown",
   "id": "9d531a64",
   "metadata": {},
   "source": [
    "#### 타이타닉 데이터에서 성별은 남성이 여성에 비해 훨씬 많은 비율을 차지하고 있는 것을 알 수 있습니다. "
   ]
  },
  {
   "cell_type": "markdown",
   "id": "2de8d747",
   "metadata": {},
   "source": [
    "# 범주형 변수 Embarked : Pie 차트"
   ]
  },
  {
   "cell_type": "code",
   "execution_count": 32,
   "id": "f6ca98ba",
   "metadata": {},
   "outputs": [
    {
     "data": {
      "text/plain": [
       "<Axes: title={'center': 'Embarked ratio'}>"
      ]
     },
     "execution_count": 32,
     "metadata": {},
     "output_type": "execute_result"
    },
    {
     "data": {
      "image/png": "[encoded data removed]",
      "text/plain": [
       "<Figure size 640x480 with 1 Axes>"
      ]
     },
     "metadata": {},
     "output_type": "display_data"
    }
   ],
   "source": [
    "df_count5=df.groupby([\"Embarked\"]).size()\n",
    "df_count5.plot.pie(autopct='%1.1f%%')\n",
    "plt.title('Embarked ratio')\n",
    "df_count5.plot.pie()"
   ]
  },
  {
   "cell_type": "markdown",
   "id": "dded681f",
   "metadata": {},
   "source": [
    "#### 승객이 탑승한 곳인 Embarked 변수에서는 약 75%의 사람이 Southampton에서 탑승한 사실을 알 수 있습니다."
   ]
  },
  {
   "cell_type": "markdown",
   "id": "290464f6",
   "metadata": {},
   "source": [
    "# 연속형 변수 Age와 survived  비교 : histogram "
   ]
  },
  {
   "cell_type": "code",
   "execution_count": 33,
   "id": "ed8e3368",
   "metadata": {},
   "outputs": [
    {
     "data": {
      "image/png": "[encoded data removed]",
      "text/plain": [
       "<Figure size 640x480 with 1 Axes>"
      ]
     },
     "metadata": {},
     "output_type": "display_data"
    }
   ],
   "source": [
    "plt.hist([df[df['Survived'] == 0]['Age'], df[df['Survived'] == 1]['Age']],\n",
    "         bins=20,label=['die', 'Survived'])\n",
    "\n",
    "plt.xlabel('Age')\n",
    "plt.ylabel('Frequency')\n",
    "plt.title('Survived , Age')\n",
    "plt.legend()\n",
    "plt.show()"
   ]
  },
  {
   "cell_type": "markdown",
   "id": "0c6be20d",
   "metadata": {},
   "source": [
    "#### 나이별로 생존과 사망을 비교해보니 어느정도 분포가 유사하다는 것을 알 수 있다. 30대가 가장 많이 죽기도 하고, 살기도 하였다 나이가 줄어들거나 나이가 많아짐에 따라 죽은 사람이 적다. 또한 0~10세전의 아이들은 비교적 많은 생존을 하였다.  많은 사람들이 사망했지만, 아이들을 많이 살리기 위한 노력을 했을 것 같다는 판단을 하였습니다."
   ]
  },
  {
   "cell_type": "markdown",
   "id": "5cb2d1d4",
   "metadata": {},
   "source": [
    "# 범주형 변수 Sex와 Survived 생존의 관계  : Pie 차트"
   ]
  },
  {
   "cell_type": "code",
   "execution_count": 34,
   "id": "e426d538",
   "metadata": {},
   "outputs": [
    {
     "data": {
      "text/plain": [
       "Text(0.5, 1.0, 'Survived, Sex')"
      ]
     },
     "execution_count": 34,
     "metadata": {},
     "output_type": "execute_result"
    },
    {
     "data": {
      "image/png": "[encoded data removed]",
      "text/plain": [
       "<Figure size 640x480 with 1 Axes>"
      ]
     },
     "metadata": {},
     "output_type": "display_data"
    }
   ],
   "source": [
    "sex_survived = df.groupby(['Sex', 'Survived']).size()\n",
    "sex_survived.plot.pie(autopct='%1.1f%%')\n",
    "plt.title('Survived, Sex')"
   ]
  },
  {
   "cell_type": "markdown",
   "id": "3d6b8fc9",
   "metadata": {},
   "source": [
    "#### 성별과 생존의 관계를 살펴보면 남성의 사망비율이 52.5%  여성의 사망 비율 9.1%입니다.  남성이 압도적으로 많이 사망한 사실을 알 수 있습니다. 하지만 생존은 여성이 남성에 비해 거의 3배 비율 가까이했다는 것을 알 수 있습니다. 성별은 생존에 영향을 미치는 변수로 판단할 수 있습니다."
   ]
  },
  {
   "cell_type": "markdown",
   "id": "b2f250c2",
   "metadata": {},
   "source": [
    "# 범주형 변수 Fare_group 과 Survived 생존관계"
   ]
  },
  {
   "cell_type": "code",
   "execution_count": 36,
   "id": "8743e365",
   "metadata": {},
   "outputs": [
    {
     "data": {
      "text/plain": [
       "<Axes: xlabel='Fare_group', ylabel='count'>"
      ]
     },
     "execution_count": 36,
     "metadata": {},
     "output_type": "execute_result"
    },
    {
     "data": {
      "image/png": "[encoded data removed]",
      "text/plain": [
       "<Figure size 640x480 with 1 Axes>"
      ]
     },
     "metadata": {},
     "output_type": "display_data"
    }
   ],
   "source": [
    "sns.countplot(x='Fare_group',hue='Survived', data=df)"
   ]
  },
  {
   "cell_type": "markdown",
   "id": "503d4e40",
   "metadata": {},
   "source": [
    "#### 각각 생존과 Fare_group에 대한 각각 데이터 수로 Fare가 낮은 사람이 약 500명가까이 사망했고, 약 230명정도 생존했습니다. 구간 0에 대부분의 사람이 존재하고 0은 죽은 사람이 산사람보다 압도적으로 많습니다. 하지만 1,2,3,4 구간 즉 요금을 많이 내고 탄 사람들은 죽은 사람보다 산 사람이 더 많은 것을 알 수 있습니다. 돈이 많은 사람이 살 확률이 더 높았다고 생각할 수 있습니다."
   ]
  },
  {
   "cell_type": "markdown",
   "id": "ec687cdc",
   "metadata": {},
   "source": [
    "# 자동차 연비에서 기술통계치 구하기"
   ]
  },
  {
   "cell_type": "code",
   "execution_count": 49,
   "id": "f5ad207e",
   "metadata": {},
   "outputs": [],
   "source": [
    "import pandas as pd\n",
    "import numpy as np\n",
    "import matplotlib\n",
    "import matplotlib.pyplot as plt\n",
    "from scipy import stats\n",
    "from statsmodels.stats.proportion import proportions_ztest\n",
    "%matplotlib inline"
   ]
  },
  {
   "cell_type": "code",
   "execution_count": 51,
   "id": "ea89ad79",
   "metadata": {},
   "outputs": [
    {
     "data": {
      "text/html": [
       "<div>\n",
       "<style scoped>\n",
       "    .dataframe tbody tr th:only-of-type {\n",
       "        vertical-align: middle;\n",
       "    }\n",
       "\n",
       "    .dataframe tbody tr th {\n",
       "        vertical-align: top;\n",
       "    }\n",
       "\n",
       "    .dataframe thead th {\n",
       "        text-align: right;\n",
       "    }\n",
       "</style>\n",
       "<table border=\"1\" class=\"dataframe\">\n",
       "  <thead>\n",
       "    <tr style=\"text-align: right;\">\n",
       "      <th></th>\n",
       "      <th>manufacturer</th>\n",
       "      <th>model</th>\n",
       "      <th>displacement</th>\n",
       "      <th>year</th>\n",
       "      <th>cylinder</th>\n",
       "      <th>automatic</th>\n",
       "      <th>driving</th>\n",
       "      <th>mpg</th>\n",
       "      <th>highway_mileage</th>\n",
       "      <th>fuel</th>\n",
       "      <th>class</th>\n",
       "    </tr>\n",
       "  </thead>\n",
       "  <tbody>\n",
       "    <tr>\n",
       "      <th>0</th>\n",
       "      <td>audi</td>\n",
       "      <td>a4</td>\n",
       "      <td>1.8</td>\n",
       "      <td>1999</td>\n",
       "      <td>4</td>\n",
       "      <td>auto</td>\n",
       "      <td>f</td>\n",
       "      <td>18</td>\n",
       "      <td>29</td>\n",
       "      <td>p</td>\n",
       "      <td>compact</td>\n",
       "    </tr>\n",
       "    <tr>\n",
       "      <th>1</th>\n",
       "      <td>audi</td>\n",
       "      <td>a4</td>\n",
       "      <td>1.8</td>\n",
       "      <td>1999</td>\n",
       "      <td>4</td>\n",
       "      <td>manual</td>\n",
       "      <td>f</td>\n",
       "      <td>21</td>\n",
       "      <td>29</td>\n",
       "      <td>p</td>\n",
       "      <td>compact</td>\n",
       "    </tr>\n",
       "    <tr>\n",
       "      <th>2</th>\n",
       "      <td>audi</td>\n",
       "      <td>a4</td>\n",
       "      <td>2.0</td>\n",
       "      <td>2008</td>\n",
       "      <td>4</td>\n",
       "      <td>manual</td>\n",
       "      <td>f</td>\n",
       "      <td>20</td>\n",
       "      <td>31</td>\n",
       "      <td>p</td>\n",
       "      <td>compact</td>\n",
       "    </tr>\n",
       "    <tr>\n",
       "      <th>3</th>\n",
       "      <td>audi</td>\n",
       "      <td>a4</td>\n",
       "      <td>2.0</td>\n",
       "      <td>2008</td>\n",
       "      <td>4</td>\n",
       "      <td>auto</td>\n",
       "      <td>f</td>\n",
       "      <td>21</td>\n",
       "      <td>30</td>\n",
       "      <td>p</td>\n",
       "      <td>compact</td>\n",
       "    </tr>\n",
       "    <tr>\n",
       "      <th>4</th>\n",
       "      <td>audi</td>\n",
       "      <td>a4</td>\n",
       "      <td>2.8</td>\n",
       "      <td>1999</td>\n",
       "      <td>6</td>\n",
       "      <td>auto</td>\n",
       "      <td>f</td>\n",
       "      <td>16</td>\n",
       "      <td>26</td>\n",
       "      <td>p</td>\n",
       "      <td>compact</td>\n",
       "    </tr>\n",
       "    <tr>\n",
       "      <th>5</th>\n",
       "      <td>audi</td>\n",
       "      <td>a4</td>\n",
       "      <td>2.8</td>\n",
       "      <td>1999</td>\n",
       "      <td>6</td>\n",
       "      <td>manual</td>\n",
       "      <td>f</td>\n",
       "      <td>18</td>\n",
       "      <td>26</td>\n",
       "      <td>p</td>\n",
       "      <td>compact</td>\n",
       "    </tr>\n",
       "    <tr>\n",
       "      <th>6</th>\n",
       "      <td>audi</td>\n",
       "      <td>a4</td>\n",
       "      <td>3.1</td>\n",
       "      <td>2008</td>\n",
       "      <td>6</td>\n",
       "      <td>auto</td>\n",
       "      <td>f</td>\n",
       "      <td>18</td>\n",
       "      <td>27</td>\n",
       "      <td>p</td>\n",
       "      <td>compact</td>\n",
       "    </tr>\n",
       "    <tr>\n",
       "      <th>7</th>\n",
       "      <td>audi</td>\n",
       "      <td>a4 quattro</td>\n",
       "      <td>1.8</td>\n",
       "      <td>1999</td>\n",
       "      <td>4</td>\n",
       "      <td>manual</td>\n",
       "      <td>4</td>\n",
       "      <td>18</td>\n",
       "      <td>26</td>\n",
       "      <td>p</td>\n",
       "      <td>compact</td>\n",
       "    </tr>\n",
       "    <tr>\n",
       "      <th>8</th>\n",
       "      <td>audi</td>\n",
       "      <td>a4 quattro</td>\n",
       "      <td>1.8</td>\n",
       "      <td>1999</td>\n",
       "      <td>4</td>\n",
       "      <td>auto</td>\n",
       "      <td>4</td>\n",
       "      <td>16</td>\n",
       "      <td>25</td>\n",
       "      <td>p</td>\n",
       "      <td>compact</td>\n",
       "    </tr>\n",
       "    <tr>\n",
       "      <th>9</th>\n",
       "      <td>audi</td>\n",
       "      <td>a4 quattro</td>\n",
       "      <td>2.0</td>\n",
       "      <td>2008</td>\n",
       "      <td>4</td>\n",
       "      <td>manual</td>\n",
       "      <td>4</td>\n",
       "      <td>20</td>\n",
       "      <td>28</td>\n",
       "      <td>p</td>\n",
       "      <td>compact</td>\n",
       "    </tr>\n",
       "  </tbody>\n",
       "</table>\n",
       "</div>"
      ],
      "text/plain": [
       "  manufacturer       model  displacement  year  cylinder automatic driving  \\\n",
       "0         audi          a4           1.8  1999         4      auto       f   \n",
       "1         audi          a4           1.8  1999         4    manual       f   \n",
       "2         audi          a4           2.0  2008         4    manual       f   \n",
       "3         audi          a4           2.0  2008         4      auto       f   \n",
       "4         audi          a4           2.8  1999         6      auto       f   \n",
       "5         audi          a4           2.8  1999         6    manual       f   \n",
       "6         audi          a4           3.1  2008         6      auto       f   \n",
       "7         audi  a4 quattro           1.8  1999         4    manual       4   \n",
       "8         audi  a4 quattro           1.8  1999         4      auto       4   \n",
       "9         audi  a4 quattro           2.0  2008         4    manual       4   \n",
       "\n",
       "   mpg  highway_mileage fuel    class  \n",
       "0   18               29    p  compact  \n",
       "1   21               29    p  compact  \n",
       "2   20               31    p  compact  \n",
       "3   21               30    p  compact  \n",
       "4   16               26    p  compact  \n",
       "5   18               26    p  compact  \n",
       "6   18               27    p  compact  \n",
       "7   18               26    p  compact  \n",
       "8   16               25    p  compact  \n",
       "9   20               28    p  compact  "
      ]
     },
     "execution_count": 51,
     "metadata": {},
     "output_type": "execute_result"
    }
   ],
   "source": [
    "mycars=pd.read_csv(\"/home/piai/바탕화면/1 Big Data 분석 기초/mycars.csv\", encoding='euc-kr')\n",
    "mycars.head(10)"
   ]
  },
  {
   "cell_type": "code",
   "execution_count": 52,
   "id": "b30476ff",
   "metadata": {},
   "outputs": [
    {
     "data": {
      "text/html": [
       "<div>\n",
       "<style scoped>\n",
       "    .dataframe tbody tr th:only-of-type {\n",
       "        vertical-align: middle;\n",
       "    }\n",
       "\n",
       "    .dataframe tbody tr th {\n",
       "        vertical-align: top;\n",
       "    }\n",
       "\n",
       "    .dataframe thead tr th {\n",
       "        text-align: left;\n",
       "    }\n",
       "\n",
       "    .dataframe thead tr:last-of-type th {\n",
       "        text-align: right;\n",
       "    }\n",
       "</style>\n",
       "<table border=\"1\" class=\"dataframe\">\n",
       "  <thead>\n",
       "    <tr>\n",
       "      <th></th>\n",
       "      <th colspan=\"8\" halign=\"left\">mpg</th>\n",
       "    </tr>\n",
       "    <tr>\n",
       "      <th></th>\n",
       "      <th>count</th>\n",
       "      <th>mean</th>\n",
       "      <th>std</th>\n",
       "      <th>min</th>\n",
       "      <th>25%</th>\n",
       "      <th>50%</th>\n",
       "      <th>75%</th>\n",
       "      <th>max</th>\n",
       "    </tr>\n",
       "    <tr>\n",
       "      <th>automatic</th>\n",
       "      <th></th>\n",
       "      <th></th>\n",
       "      <th></th>\n",
       "      <th></th>\n",
       "      <th></th>\n",
       "      <th></th>\n",
       "      <th></th>\n",
       "      <th></th>\n",
       "    </tr>\n",
       "  </thead>\n",
       "  <tbody>\n",
       "    <tr>\n",
       "      <th>auto</th>\n",
       "      <td>157.0</td>\n",
       "      <td>15.968153</td>\n",
       "      <td>3.848777</td>\n",
       "      <td>9.0</td>\n",
       "      <td>13.0</td>\n",
       "      <td>16.0</td>\n",
       "      <td>18.0</td>\n",
       "      <td>29.0</td>\n",
       "    </tr>\n",
       "    <tr>\n",
       "      <th>manual</th>\n",
       "      <td>77.0</td>\n",
       "      <td>18.675325</td>\n",
       "      <td>4.488118</td>\n",
       "      <td>9.0</td>\n",
       "      <td>15.0</td>\n",
       "      <td>18.0</td>\n",
       "      <td>21.0</td>\n",
       "      <td>35.0</td>\n",
       "    </tr>\n",
       "  </tbody>\n",
       "</table>\n",
       "</div>"
      ],
      "text/plain": [
       "             mpg                                                  \n",
       "           count       mean       std  min   25%   50%   75%   max\n",
       "automatic                                                         \n",
       "auto       157.0  15.968153  3.848777  9.0  13.0  16.0  18.0  29.0\n",
       "manual      77.0  18.675325  4.488118  9.0  15.0  18.0  21.0  35.0"
      ]
     },
     "execution_count": 52,
     "metadata": {},
     "output_type": "execute_result"
    }
   ],
   "source": [
    "df1=mycars[['automatic','mpg']]\n",
    "df1.groupby('automatic').describe()"
   ]
  },
  {
   "cell_type": "code",
   "execution_count": 53,
   "id": "394202b2",
   "metadata": {},
   "outputs": [
    {
     "data": {
      "text/html": [
       "<div>\n",
       "<style scoped>\n",
       "    .dataframe tbody tr th:only-of-type {\n",
       "        vertical-align: middle;\n",
       "    }\n",
       "\n",
       "    .dataframe tbody tr th {\n",
       "        vertical-align: top;\n",
       "    }\n",
       "\n",
       "    .dataframe thead tr th {\n",
       "        text-align: left;\n",
       "    }\n",
       "\n",
       "    .dataframe thead tr:last-of-type th {\n",
       "        text-align: right;\n",
       "    }\n",
       "</style>\n",
       "<table border=\"1\" class=\"dataframe\">\n",
       "  <thead>\n",
       "    <tr>\n",
       "      <th></th>\n",
       "      <th colspan=\"8\" halign=\"left\">highway_mileage</th>\n",
       "    </tr>\n",
       "    <tr>\n",
       "      <th></th>\n",
       "      <th>count</th>\n",
       "      <th>mean</th>\n",
       "      <th>std</th>\n",
       "      <th>min</th>\n",
       "      <th>25%</th>\n",
       "      <th>50%</th>\n",
       "      <th>75%</th>\n",
       "      <th>max</th>\n",
       "    </tr>\n",
       "    <tr>\n",
       "      <th>automatic</th>\n",
       "      <th></th>\n",
       "      <th></th>\n",
       "      <th></th>\n",
       "      <th></th>\n",
       "      <th></th>\n",
       "      <th></th>\n",
       "      <th></th>\n",
       "      <th></th>\n",
       "    </tr>\n",
       "  </thead>\n",
       "  <tbody>\n",
       "    <tr>\n",
       "      <th>auto</th>\n",
       "      <td>157.0</td>\n",
       "      <td>22.292994</td>\n",
       "      <td>5.623054</td>\n",
       "      <td>12.0</td>\n",
       "      <td>17.0</td>\n",
       "      <td>22.0</td>\n",
       "      <td>26.0</td>\n",
       "      <td>41.0</td>\n",
       "    </tr>\n",
       "    <tr>\n",
       "      <th>manual</th>\n",
       "      <td>77.0</td>\n",
       "      <td>25.779221</td>\n",
       "      <td>5.961772</td>\n",
       "      <td>12.0</td>\n",
       "      <td>23.0</td>\n",
       "      <td>26.0</td>\n",
       "      <td>29.0</td>\n",
       "      <td>44.0</td>\n",
       "    </tr>\n",
       "  </tbody>\n",
       "</table>\n",
       "</div>"
      ],
      "text/plain": [
       "          highway_mileage                                                   \n",
       "                    count       mean       std   min   25%   50%   75%   max\n",
       "automatic                                                                   \n",
       "auto                157.0  22.292994  5.623054  12.0  17.0  22.0  26.0  41.0\n",
       "manual               77.0  25.779221  5.961772  12.0  23.0  26.0  29.0  44.0"
      ]
     },
     "execution_count": 53,
     "metadata": {},
     "output_type": "execute_result"
    }
   ],
   "source": [
    "df2=mycars[['automatic','highway_mileage']]\n",
    "df2.groupby('automatic').describe()"
   ]
  },
  {
   "cell_type": "markdown",
   "id": "a4ab92b5",
   "metadata": {},
   "source": [
    "#### 시내에서의 연비와 고속도로에서의 연비의 두 통계치를 비교해보았습니다. 고속도로에서 운전할 때 연비가 자동,수동 모두 약 7정도  높게 나왔습니다.  시내에서의 연비와 고속도로에서의 연비의 표준편차를 비교해보면 고속도로에서의 연비가 더 높기 때문에 편차가 고속도로에서 더 심한 것을 알 수 있었습니다. "
   ]
  },
  {
   "cell_type": "markdown",
   "id": "2b2cd8d3",
   "metadata": {},
   "source": [
    "# 합,누적합, 퍼센트, 누적 퍼센트 "
   ]
  },
  {
   "cell_type": "code",
   "execution_count": 54,
   "id": "8cf766ac",
   "metadata": {
    "scrolled": true
   },
   "outputs": [
    {
     "data": {
      "text/html": [
       "<div>\n",
       "<style scoped>\n",
       "    .dataframe tbody tr th:only-of-type {\n",
       "        vertical-align: middle;\n",
       "    }\n",
       "\n",
       "    .dataframe tbody tr th {\n",
       "        vertical-align: top;\n",
       "    }\n",
       "\n",
       "    .dataframe thead th {\n",
       "        text-align: right;\n",
       "    }\n",
       "</style>\n",
       "<table border=\"1\" class=\"dataframe\">\n",
       "  <thead>\n",
       "    <tr style=\"text-align: right;\">\n",
       "      <th></th>\n",
       "      <th>model</th>\n",
       "      <th>automatic</th>\n",
       "    </tr>\n",
       "  </thead>\n",
       "  <tbody>\n",
       "    <tr>\n",
       "      <th>0</th>\n",
       "      <td>a4</td>\n",
       "      <td>auto</td>\n",
       "    </tr>\n",
       "    <tr>\n",
       "      <th>1</th>\n",
       "      <td>a4</td>\n",
       "      <td>manual</td>\n",
       "    </tr>\n",
       "    <tr>\n",
       "      <th>2</th>\n",
       "      <td>a4</td>\n",
       "      <td>manual</td>\n",
       "    </tr>\n",
       "    <tr>\n",
       "      <th>3</th>\n",
       "      <td>a4</td>\n",
       "      <td>auto</td>\n",
       "    </tr>\n",
       "    <tr>\n",
       "      <th>4</th>\n",
       "      <td>a4</td>\n",
       "      <td>auto</td>\n",
       "    </tr>\n",
       "    <tr>\n",
       "      <th>...</th>\n",
       "      <td>...</td>\n",
       "      <td>...</td>\n",
       "    </tr>\n",
       "    <tr>\n",
       "      <th>229</th>\n",
       "      <td>passat</td>\n",
       "      <td>auto</td>\n",
       "    </tr>\n",
       "    <tr>\n",
       "      <th>230</th>\n",
       "      <td>passat</td>\n",
       "      <td>manual</td>\n",
       "    </tr>\n",
       "    <tr>\n",
       "      <th>231</th>\n",
       "      <td>passat</td>\n",
       "      <td>auto</td>\n",
       "    </tr>\n",
       "    <tr>\n",
       "      <th>232</th>\n",
       "      <td>passat</td>\n",
       "      <td>manual</td>\n",
       "    </tr>\n",
       "    <tr>\n",
       "      <th>233</th>\n",
       "      <td>passat</td>\n",
       "      <td>auto</td>\n",
       "    </tr>\n",
       "  </tbody>\n",
       "</table>\n",
       "<p>234 rows × 2 columns</p>\n",
       "</div>"
      ],
      "text/plain": [
       "      model automatic\n",
       "0        a4      auto\n",
       "1        a4    manual\n",
       "2        a4    manual\n",
       "3        a4      auto\n",
       "4        a4      auto\n",
       "..      ...       ...\n",
       "229  passat      auto\n",
       "230  passat    manual\n",
       "231  passat      auto\n",
       "232  passat    manual\n",
       "233  passat      auto\n",
       "\n",
       "[234 rows x 2 columns]"
      ]
     },
     "execution_count": 54,
     "metadata": {},
     "output_type": "execute_result"
    }
   ],
   "source": [
    "mycars[['model','automatic']]"
   ]
  },
  {
   "cell_type": "code",
   "execution_count": 55,
   "id": "1775725c",
   "metadata": {
    "scrolled": true
   },
   "outputs": [
    {
     "name": "stdout",
     "output_type": "stream",
     "text": [
      "model                 \n",
      "4runner 4wd                6\n",
      "a4                         7\n",
      "a4 quattro                 8\n",
      "a6 quattro                 3\n",
      "altima                     6\n",
      "c1500 suburban 2wd         5\n",
      "camry                      7\n",
      "camry solara               7\n",
      "caravan 2wd               11\n",
      "civic                      9\n",
      "corolla                    5\n",
      "corvette                   5\n",
      "dakota pickup 4wd          9\n",
      "durango 4wd                7\n",
      "expedition 2wd             3\n",
      "explorer 4wd               6\n",
      "f150 pickup 4wd            7\n",
      "forester awd               6\n",
      "grand cherokee 4wd         8\n",
      "grand prix                 5\n",
      "gti                        5\n",
      "impreza awd                8\n",
      "jetta                      9\n",
      "k1500 tahoe 4wd            4\n",
      "land cruiser wagon 4wd     2\n",
      "malibu                     5\n",
      "maxima                     3\n",
      "mountaineer 4wd            4\n",
      "mustang                    9\n",
      "navigator 2wd              3\n",
      "new beetle                 6\n",
      "passat                     7\n",
      "pathfinder 4wd             4\n",
      "ram 1500 pickup 4wd       10\n",
      "range rover                4\n",
      "sonata                     7\n",
      "tiburon                    7\n",
      "toyota tacoma 4wd          7\n",
      "dtype: int64\n"
     ]
    }
   ],
   "source": [
    "count1=mycars[['model']].value_counts().sort_index()\n",
    "print(count1)"
   ]
  },
  {
   "cell_type": "code",
   "execution_count": 39,
   "id": "3be7b392",
   "metadata": {},
   "outputs": [],
   "source": [
    "percent1= count1/sum(count1)*100"
   ]
  },
  {
   "cell_type": "code",
   "execution_count": 40,
   "id": "425bcd3a",
   "metadata": {},
   "outputs": [
    {
     "name": "stdout",
     "output_type": "stream",
     "text": [
      "model                 \n",
      "4runner 4wd                 6\n",
      "a4                         13\n",
      "a4 quattro                 21\n",
      "a6 quattro                 24\n",
      "altima                     30\n",
      "c1500 suburban 2wd         35\n",
      "camry                      42\n",
      "camry solara               49\n",
      "caravan 2wd                60\n",
      "civic                      69\n",
      "corolla                    74\n",
      "corvette                   79\n",
      "dakota pickup 4wd          88\n",
      "durango 4wd                95\n",
      "expedition 2wd             98\n",
      "explorer 4wd              104\n",
      "f150 pickup 4wd           111\n",
      "forester awd              117\n",
      "grand cherokee 4wd        125\n",
      "grand prix                130\n",
      "gti                       135\n",
      "impreza awd               143\n",
      "jetta                     152\n",
      "k1500 tahoe 4wd           156\n",
      "land cruiser wagon 4wd    158\n",
      "malibu                    163\n",
      "maxima                    166\n",
      "mountaineer 4wd           170\n",
      "mustang                   179\n",
      "navigator 2wd             182\n",
      "new beetle                188\n",
      "passat                    195\n",
      "pathfinder 4wd            199\n",
      "ram 1500 pickup 4wd       209\n",
      "range rover               213\n",
      "sonata                    220\n",
      "tiburon                   227\n",
      "toyota tacoma 4wd         234\n",
      "dtype: int64\n"
     ]
    }
   ],
   "source": [
    "cumcnt1=np.cumsum(count1)\n",
    "print(cumcnt1)"
   ]
  },
  {
   "cell_type": "code",
   "execution_count": 41,
   "id": "eb1e5802",
   "metadata": {},
   "outputs": [],
   "source": [
    "cumpct1=np.cumsum(percent1)"
   ]
  },
  {
   "cell_type": "markdown",
   "id": "c5d04b19",
   "metadata": {},
   "source": [
    "#### 모델을 기준으로 개수를 카운트하고 , 순서대로 정렬하여 출력하였다. 퍼센트는 총 개수에서 각각의 정렬된 모델의 개수를 나누고 100을 곱하여 구해줍니다. 누적합은 numpy에서 제공하는 cumsum함수를 통해 구해주고, 퍼센트도 동일하게 누적합 해줍니다. "
   ]
  },
  {
   "cell_type": "code",
   "execution_count": 42,
   "id": "9afdfe13",
   "metadata": {},
   "outputs": [
    {
     "name": "stdout",
     "output_type": "stream",
     "text": [
      "model                   Count  CumCnt   Percent      CumPct\n",
      "model                                                      \n",
      "4runner 4wd                 6       6  2.564103    2.564103\n",
      "a4                          7      13  2.991453    5.555556\n",
      "a4 quattro                  8      21  3.418803    8.974359\n",
      "a6 quattro                  3      24  1.282051   10.256410\n",
      "altima                      6      30  2.564103   12.820513\n",
      "c1500 suburban 2wd          5      35  2.136752   14.957265\n",
      "camry                       7      42  2.991453   17.948718\n",
      "camry solara                7      49  2.991453   20.940171\n",
      "caravan 2wd                11      60  4.700855   25.641026\n",
      "civic                       9      69  3.846154   29.487179\n",
      "corolla                     5      74  2.136752   31.623932\n",
      "corvette                    5      79  2.136752   33.760684\n",
      "dakota pickup 4wd           9      88  3.846154   37.606838\n",
      "durango 4wd                 7      95  2.991453   40.598291\n",
      "expedition 2wd              3      98  1.282051   41.880342\n",
      "explorer 4wd                6     104  2.564103   44.444444\n",
      "f150 pickup 4wd             7     111  2.991453   47.435897\n",
      "forester awd                6     117  2.564103   50.000000\n",
      "grand cherokee 4wd          8     125  3.418803   53.418803\n",
      "grand prix                  5     130  2.136752   55.555556\n",
      "gti                         5     135  2.136752   57.692308\n",
      "impreza awd                 8     143  3.418803   61.111111\n",
      "jetta                       9     152  3.846154   64.957265\n",
      "k1500 tahoe 4wd             4     156  1.709402   66.666667\n",
      "land cruiser wagon 4wd      2     158  0.854701   67.521368\n",
      "malibu                      5     163  2.136752   69.658120\n",
      "maxima                      3     166  1.282051   70.940171\n",
      "mountaineer 4wd             4     170  1.709402   72.649573\n",
      "mustang                     9     179  3.846154   76.495726\n",
      "navigator 2wd               3     182  1.282051   77.777778\n",
      "new beetle                  6     188  2.564103   80.341880\n",
      "passat                      7     195  2.991453   83.333333\n",
      "pathfinder 4wd              4     199  1.709402   85.042735\n",
      "ram 1500 pickup 4wd        10     209  4.273504   89.316239\n",
      "range rover                 4     213  1.709402   91.025641\n",
      "sonata                      7     220  2.991453   94.017094\n",
      "tiburon                     7     227  2.991453   97.008547\n",
      "toyota tacoma 4wd           7     234  2.991453  100.000000\n"
     ]
    }
   ],
   "source": [
    "count_data1=pd.DataFrame({'Count':count1,'CumCnt':cumcnt1, 'Percent':percent1, 'CumPct':cumpct1})\n",
    "count_data1.columns.name='model'\n",
    "print(count_data1)\n"
   ]
  },
  {
   "cell_type": "markdown",
   "id": "9c29390d",
   "metadata": {},
   "source": [
    "#### 데이터 프레임으로 모델별 개수, 누적합, 퍼센트, 퍼센트 누적합으로 만들어주고 출력해주었습니다. 모델을 보았을 때, 총 234대의 차량이 있고, 11대로 caravan 2wd가 데이터에서 가장 많은 차량이다.  모델별로 차량의 수는 분포가 비슷하다고 볼 수 있다."
   ]
  },
  {
   "cell_type": "code",
   "execution_count": 56,
   "id": "2a0b6a14",
   "metadata": {},
   "outputs": [
    {
     "name": "stdout",
     "output_type": "stream",
     "text": [
      "automatic\n",
      "auto         157\n",
      "manual        77\n",
      "dtype: int64\n"
     ]
    }
   ],
   "source": [
    "count2=mycars[['automatic']].value_counts().sort_index()\n",
    "print(count2)"
   ]
  },
  {
   "cell_type": "code",
   "execution_count": 57,
   "id": "f474f7d9",
   "metadata": {},
   "outputs": [],
   "source": [
    "percent2= count2/sum(count2)*100"
   ]
  },
  {
   "cell_type": "code",
   "execution_count": 58,
   "id": "d5189136",
   "metadata": {},
   "outputs": [
    {
     "name": "stdout",
     "output_type": "stream",
     "text": [
      "automatic\n",
      "auto         157\n",
      "manual       234\n",
      "dtype: int64\n"
     ]
    }
   ],
   "source": [
    "cumcnt2=np.cumsum(count2)\n",
    "print(cumcnt2)"
   ]
  },
  {
   "cell_type": "code",
   "execution_count": 59,
   "id": "41496d6d",
   "metadata": {},
   "outputs": [],
   "source": [
    "cumpct2=np.cumsum(percent2)"
   ]
  },
  {
   "cell_type": "code",
   "execution_count": 60,
   "id": "1131580a",
   "metadata": {},
   "outputs": [
    {
     "name": "stdout",
     "output_type": "stream",
     "text": [
      "automatic  Count  CumCnt    Percent      CumPct\n",
      "automatic                                      \n",
      "auto         157     157  67.094017   67.094017\n",
      "manual        77     234  32.905983  100.000000\n"
     ]
    }
   ],
   "source": [
    "count_data2=pd.DataFrame({'Count':count2,'CumCnt':cumcnt2, 'Percent':percent2, 'CumPct':cumpct2})\n",
    "count_data2.columns.name='automatic'\n",
    "print(count_data2)"
   ]
  },
  {
   "cell_type": "markdown",
   "id": "13fadd47",
   "metadata": {},
   "source": [
    "#### 차량 구동방식에 따라 기준으로 개수를 카운트하고 , 순서대로 정렬하여 출력하였다. 퍼센트는 총 개수에서 각각의 정렬된 모델의 개수를 나누고 100을 곱하여 구해줍니다. 누적합은 numpy에서 제공하는 cumsum함수를 통해 구해주고, 퍼센트도 동일하게 누적합 해줍니다. \n",
    "#### 차량은 157개의 자동 차량과 77개의 수동차량으로 자동차량이 데이터내에서 약 2배 더 많이 존재한다. "
   ]
  }
 ],
 "metadata": {
  "kernelspec": {
   "display_name": "Python 3 (ipykernel)",
   "language": "python",
   "name": "python3"
  },
  "language_info": {
   "codemirror_mode": {
    "name": "ipython",
    "version": 3
   },
   "file_extension": ".py",
   "mimetype": "text/x-python",
   "name": "python",
   "nbconvert_exporter": "python",
   "pygments_lexer": "ipython3",
   "version": "3.10.9"
  }
 },
 "nbformat": 4,
 "nbformat_minor": 5
}
