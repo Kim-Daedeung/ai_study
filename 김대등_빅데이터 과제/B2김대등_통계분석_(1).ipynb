{
 "cells": [
  {
   "cell_type": "code",
   "execution_count": 27,
   "id": "6505c5af",
   "metadata": {},
   "outputs": [],
   "source": [
    "import pandas as pd\n",
    "import numpy as np\n",
    "import matplotlib\n",
    "import matplotlib.pyplot as plt\n",
    "from scipy import stats\n",
    "from statsmodels.stats.proportion import proportions_ztest\n",
    "%matplotlib inline\n",
    "\n",
    "import warnings\n",
    "warnings.filterwarnings(\"ignore\")"
   ]
  },
  {
   "cell_type": "markdown",
   "id": "cf88c30f",
   "metadata": {},
   "source": [
    "# 실습 1"
   ]
  },
  {
   "cell_type": "code",
   "execution_count": 87,
   "id": "958e1d45",
   "metadata": {},
   "outputs": [
    {
     "name": "stdout",
     "output_type": "stream",
     "text": [
      "나의 키의 범위는 : 15.865525%\n"
     ]
    }
   ],
   "source": [
    "mu=175\n",
    "sd= 5\n",
    "X=180\n",
    "prob=stats.norm.cdf(X,mu,sd)\n",
    "print(\"나의 키의 범위는 : {1:1f}%\".format(x,(1-prob)*100))"
   ]
  },
  {
   "cell_type": "markdown",
   "id": "7aec65ea",
   "metadata": {},
   "source": [
    "#### 정규분포를 따르는 키 180cm이상의 경우는 상위 15.865525%로 볼 수 있다. 정규분포에서 P(z>=1)= 1- P(Z<1) 로 구할 수 있다."
   ]
  },
  {
   "cell_type": "markdown",
   "id": "83419e46",
   "metadata": {},
   "source": [
    "# 실습 2"
   ]
  },
  {
   "cell_type": "code",
   "execution_count": 29,
   "id": "79535c77",
   "metadata": {},
   "outputs": [
    {
     "name": "stdout",
     "output_type": "stream",
     "text": [
      "9km 이상 15km 이하를 달릴 확률은 : 0.683%에 해당함\n"
     ]
    }
   ],
   "source": [
    "# 실습 2-1 p.234\n",
    "mu=12\n",
    "sigma=3\n",
    "x1=9\n",
    "x2=15\n",
    "prob1=stats.norm.cdf(x1,mu,sigma)\n",
    "prob2=stats.norm.cdf(x2,mu,sigma)\n",
    "\n",
    "print(\"{0}km 이상 {1}km 이하를 달릴 확률은 : {2:.3f}%에 해당함\".format(x1,x2,prob2-prob1))"
   ]
  },
  {
   "cell_type": "markdown",
   "id": "dfaba0fb",
   "metadata": {},
   "source": [
    "#### 9km 이상 15km이하를 달릴 확률을 보면 P(9<=x<=15) = P(-1<=z<=1) = P(z<=1)-P(z<-1)로 값을 구할 수 있다. 결론적으로 9km 이상 15km 이하를 달릴 확률은 68.3%에 해당한다. "
   ]
  },
  {
   "cell_type": "code",
   "execution_count": 167,
   "id": "12871a9d",
   "metadata": {},
   "outputs": [
    {
     "name": "stdout",
     "output_type": "stream",
     "text": [
      "35km 이상를 달릴 확률은 : 0.024%에 해당함\n"
     ]
    }
   ],
   "source": [
    "# 실습 2-2 \n",
    "mu=25.45\n",
    "sigma=4.82\n",
    "x1=35\n",
    "prob=stats.norm.cdf(x1,mu,sigma)\n",
    "\n",
    "print(\"{0}km 이상를 달릴 확률은 : {1:.3f}%에 해당함\".format(x1,1-prob))"
   ]
  },
  {
   "cell_type": "markdown",
   "id": "c6ab335b",
   "metadata": {},
   "source": [
    "#### 15km 이상를 달릴 확률은 표준정규화를 통해 구할 수 있다. P(X>=15) = P(Z>=1) = 1-P(Z<=1) 로 구할 수 있다. 결론적으로 15km 이상를 달릴 확률은 : 15.9%에 해당된다."
   ]
  },
  {
   "cell_type": "markdown",
   "id": "ad051663",
   "metadata": {},
   "source": [
    "# 실습 3"
   ]
  },
  {
   "cell_type": "code",
   "execution_count": 31,
   "id": "caa61eee",
   "metadata": {},
   "outputs": [
    {
     "name": "stdout",
     "output_type": "stream",
     "text": [
      "P(T<=t):0.976\n"
     ]
    }
   ],
   "source": [
    "# 실습 3 \n",
    "t=2\n",
    "df=100\n",
    "prob=stats.t.cdf(t,df)\n",
    "print(\"P(T<=t):{:.3f}\".format(prob))"
   ]
  },
  {
   "cell_type": "markdown",
   "id": "632bbabd",
   "metadata": {},
   "source": [
    "#### 자유도가 100이고 t 값이 2 인 t분포를 봤을 때, 확률분포를 보면 0.976이다."
   ]
  },
  {
   "cell_type": "markdown",
   "id": "663a0d85",
   "metadata": {},
   "source": [
    "# 실습 4"
   ]
  },
  {
   "cell_type": "code",
   "execution_count": 32,
   "id": "8aa1e049",
   "metadata": {},
   "outputs": [
    {
     "name": "stdout",
     "output_type": "stream",
     "text": [
      "P(X<3):0.0656\n"
     ]
    }
   ],
   "source": [
    "# 실습 4\n",
    "chisq=3\n",
    "df=8\n",
    "prob=stats.chi2.cdf(chisq,df)\n",
    "\n",
    "print(\"P(X<{0}):{1:.4f}\".format(chisq,prob))"
   ]
  },
  {
   "cell_type": "markdown",
   "id": "48a65b48",
   "metadata": {},
   "source": [
    "#### 자유도가 8이고 카이제곱값이 3 일때 카이제곱은 P(X<3)는 0.0656 이다. "
   ]
  },
  {
   "cell_type": "markdown",
   "id": "427b1794",
   "metadata": {},
   "source": [
    "# 실습 5"
   ]
  },
  {
   "cell_type": "code",
   "execution_count": 33,
   "id": "50778ed7",
   "metadata": {},
   "outputs": [
    {
     "name": "stdout",
     "output_type": "stream",
     "text": [
      "P(X<=F):0.850\n"
     ]
    }
   ],
   "source": [
    "# 실습 5 \n",
    "f=1.5\n",
    "dfnum=10\n",
    "dfden=100\n",
    "prob=stats.f.cdf(x=f,dfn=dfnum,dfd=dfden)\n",
    "print(\"P(X<=F):{:.3f}\".format(prob))"
   ]
  },
  {
   "cell_type": "markdown",
   "id": "ee59d030",
   "metadata": {},
   "source": [
    "####  자유도가 10, 자유도가 100인 F분포를 따르는 F값이 1.5일 때의 확률분포는 0.85이다."
   ]
  },
  {
   "cell_type": "markdown",
   "id": "7ecd7676",
   "metadata": {},
   "source": [
    "# 실습 6"
   ]
  },
  {
   "cell_type": "code",
   "execution_count": 104,
   "id": "8c3588c9",
   "metadata": {},
   "outputs": [
    {
     "name": "stdout",
     "output_type": "stream",
     "text": [
      "P=(X=0)=0.774\n",
      "P=(X=1)=0.204\n",
      "P=(X=2)=0.021\n",
      "P=(X=3)=0.001\n",
      "P=(X=4)=0.000\n",
      "P=(X=5)=0.000\n"
     ]
    }
   ],
   "source": [
    "# 실습 6\n",
    "n=5\n",
    "for i in range(n+1):\n",
    "    prob=stats.binom.pmf(k=i,n=n, p=0.05)\n",
    "    print(\"P=(X={0})={1:.3f}\".format(i,prob))"
   ]
  },
  {
   "cell_type": "markdown",
   "id": "7b2ca691",
   "metadata": {},
   "source": [
    "####  도장공정에서 광택도 불량이 30% 일 때 5대를 임의로 선택했을 때 불량대수가 0,1,2,3,4,5대가 나올 확률은 각각 0.168, 0.360,0.309,0.132,0.028,0.002이다."
   ]
  },
  {
   "cell_type": "markdown",
   "id": "9d382430",
   "metadata": {},
   "source": [
    "# 실습 7"
   ]
  },
  {
   "cell_type": "code",
   "execution_count": 35,
   "id": "c32f154b",
   "metadata": {},
   "outputs": [
    {
     "name": "stdout",
     "output_type": "stream",
     "text": [
      "Shapiro-Wilk Test : statistic=0.906264066696167, p-value=0.2563020884990692\n",
      "Shapiro-Wilk Test : statistic=0.9729753732681274, p-value=0.9169775247573853\n"
     ]
    }
   ],
   "source": [
    "# 실습 7\n",
    "\n",
    "df=pd.read_csv(\"/home/piai/바탕화면/1 Big Data 분석 기초/2sample_t_test.csv\", encoding='euc-kr')\n",
    "df.head()\n",
    "df=df.dropna()\n",
    "\n",
    "statistic1,p1= stats.shapiro(df['Mat_A'])\n",
    "statistic1,p1\n",
    "print(\"Shapiro-Wilk Test : statistic={}, p-value={}\".format(statistic1,p1))\n",
    "\n",
    "statistic2,p2= stats.shapiro(df['Mat_B'])\n",
    "statistic2,p2\n",
    "print(\"Shapiro-Wilk Test : statistic={}, p-value={}\".format(statistic2,p2))"
   ]
  },
  {
   "cell_type": "markdown",
   "id": "14450489",
   "metadata": {},
   "source": [
    "#### 2 sample - t test를 통해 정규성을 따른다를 귀무가설로 정규성을 따르지 않는다는 것을 대립가설로 두었습니다. Mat_A와 Mat_B  둘다 p-value가 0.05를 넘기 때문에 둘다 정규성을 따른다고 판단할 수 있습니다."
   ]
  },
  {
   "cell_type": "markdown",
   "id": "c3d5e162",
   "metadata": {},
   "source": [
    "# 실습 8"
   ]
  },
  {
   "cell_type": "code",
   "execution_count": 36,
   "id": "2c65fddb",
   "metadata": {},
   "outputs": [
    {
     "name": "stdout",
     "output_type": "stream",
     "text": [
      "신뢰구간:([17.83][21.17])\n"
     ]
    }
   ],
   "source": [
    "# 실습 8\n",
    "df=pd.DataFrame({\"sample\":[18,18,20,21,20,23,19,18,17,21,22,20,20,21,20,19,19,18,17,19]})\n",
    "lower,upper =stats.norm.interval(0.95,loc=np.mean(df),scale=3.8/np.sqrt(20))\n",
    "print(\"신뢰구간:({0}{1})\".format(lower.round(2),upper.round(2)))"
   ]
  },
  {
   "cell_type": "markdown",
   "id": "ace2f653",
   "metadata": {},
   "source": [
    "#### 데이터 샘플들에 대해 신뢰구간 95%를 구해주었습니다. df의 값들이 17.83과 21.17 사이에 있을 확률이 95% 입니다."
   ]
  },
  {
   "cell_type": "markdown",
   "id": "a76a5fe9",
   "metadata": {},
   "source": [
    "# 실습 9"
   ]
  },
  {
   "cell_type": "code",
   "execution_count": 37,
   "id": "416db13e",
   "metadata": {},
   "outputs": [
    {
     "name": "stdout",
     "output_type": "stream",
     "text": [
      "신뢰구간:([70.6][72.4])\n"
     ]
    }
   ],
   "source": [
    "# 실습 9 \n",
    "df=pd.DataFrame({\"sample\":[73,71,74,69,70,73,70,68,75,72,70,72,73,70,70,72,71,70,75,72]})\n",
    "lower,upper = stats.t.interval(0.95,len(df)-1, loc=np.mean(df),scale=stats.sem(df))\n",
    "print(\"신뢰구간:({0}{1})\".format(lower.round(2),upper.round(2)))"
   ]
  },
  {
   "cell_type": "markdown",
   "id": "cafb6937",
   "metadata": {},
   "source": [
    "#### 데이터 샘플들에 대해 신뢰구간 95%를 구해주었습니다. df의 값들이 70.6과 72.4 사이에 있을 확률이 95% 입니다."
   ]
  },
  {
   "cell_type": "markdown",
   "id": "babd3ef4",
   "metadata": {},
   "source": [
    "# 실습 10"
   ]
  },
  {
   "cell_type": "code",
   "execution_count": 38,
   "id": "ddc33295",
   "metadata": {},
   "outputs": [
    {
     "data": {
      "text/plain": [
       "<Axes: >"
      ]
     },
     "execution_count": 38,
     "metadata": {},
     "output_type": "execute_result"
    },
    {
     "data": {
      "image/png": "[encoded data removed]",
      "text/plain": [
       "<Figure size 640x480 with 1 Axes>"
      ]
     },
     "metadata": {},
     "output_type": "display_data"
    }
   ],
   "source": [
    "# 실습 10\n",
    "df = pd.DataFrame({'satisfaction':[85.0,79.0,79.1,79.9,81.6,78.6,85.4,83.4,78.1,79.2]})\n",
    "df.boxplot()"
   ]
  },
  {
   "cell_type": "code",
   "execution_count": 39,
   "id": "3a0dd19b",
   "metadata": {},
   "outputs": [
    {
     "name": "stdout",
     "output_type": "stream",
     "text": [
      "1-Sample t-test\n",
      "t 통계량 :[3.379]\n",
      "pvalue:[0.008]\n"
     ]
    }
   ],
   "source": [
    "t_result=stats.ttest_1samp(df,78.0)\n",
    "t,p= t_result.statistic.round(3),t_result.pvalue.round(3)\n",
    "print(\"1-Sample t-test\")\n",
    "print(\"t 통계량 :{}\".format(t))\n",
    "print(\"pvalue:{}\".format(p))"
   ]
  },
  {
   "cell_type": "markdown",
   "id": "e17375b0",
   "metadata": {},
   "source": [
    "#### 1-sample t-test 로 고객만족도 평균 78.0입니다 로 귀무가설을 , 고객만족도가 평균 78이 아니다를 대립가설로 설정하고 t -test를 진행하였습니다.  검정 통계량 t 의 값은 3.379이고 P-value 값은 0.008입니다. 결론적으로 P-value가 0.05보다 작기 때문에 고객만족도는 평균 78점이 아니며, 검정 통계량을 통해 고객만족도는 개선활동 후 상승하였다고 판단할 수 있습니다."
   ]
  },
  {
   "cell_type": "markdown",
   "id": "0777dae0",
   "metadata": {},
   "source": [
    "# 실습 11"
   ]
  },
  {
   "cell_type": "code",
   "execution_count": 40,
   "id": "13bd806d",
   "metadata": {},
   "outputs": [
    {
     "name": "stdout",
     "output_type": "stream",
     "text": [
      "2-Sample t-test\n",
      "t 통계량 :1.94\n",
      "pvalue:0.073\n"
     ]
    }
   ],
   "source": [
    "# 실습 11 \n",
    "df = pd.DataFrame({'A':[1.883,1.715,1.799,1.768,1.711,1.832,1.427,1.344],\n",
    "                   'B':[1.435,1.572,1.486,1.511,1.457,1.548,1.404,1.800]})\n",
    "t_result= stats.ttest_ind(df['A'], df['B'])\n",
    "t,p = t_result.statistic.round(3), t_result.pvalue.round(3)\n",
    "print(\"2-Sample t-test\")\n",
    "print(\"t 통계량 :{}\".format(t))\n",
    "print(\"pvalue:{}\".format(p))"
   ]
  },
  {
   "cell_type": "markdown",
   "id": "e3f66691",
   "metadata": {},
   "source": [
    "#### 2-sample t-test로 제품 A와 제품 B의  t 통계량과 pvalue를 확인해보았습니다.  P-vaule가 0.073 이므로 제품 A 와 제품 B는 차이가 없다고 판단할 수 있다. "
   ]
  },
  {
   "cell_type": "markdown",
   "id": "59232b7e",
   "metadata": {},
   "source": [
    "# 실습 12"
   ]
  },
  {
   "cell_type": "code",
   "execution_count": 41,
   "id": "439ef0fc",
   "metadata": {},
   "outputs": [
    {
     "name": "stdout",
     "output_type": "stream",
     "text": [
      "Paired t-test\n",
      "t:[-2.266]\n",
      "p:[0.05]\n"
     ]
    }
   ],
   "source": [
    "# 실습 12\n",
    "df1 = pd.DataFrame({'before':[720,589,780,648,720,589,780,648,780,648]})\n",
    "df2= pd.DataFrame({\"after\":[710, 580, 787, 712, 750, 600, 782, 670, 790, 680]})\n",
    "\n",
    "t_result= stats.ttest_rel(df1,df2)\n",
    "t,p= t_result.statistic.round(3), t_result.pvalue.round(3)\n",
    "print(\"Paired t-test\")\n",
    "print(\"t:{}\".format(t))\n",
    "print(\"p:{}\".format(p))"
   ]
  },
  {
   "cell_type": "markdown",
   "id": "f686876e",
   "metadata": {},
   "source": [
    "#### Paired t-test를 진행해주었습니다. 회사원 10명에 대해 영어점수가 학원 가기 전과 후가 같다고 귀무가설을 두고, 영어점수가 학원 가기 전과 후가 다르다고 대립가설을 두었습니다. p-value를 보았을 때 0.05로 입증하고자하는 가설에 힘을 실어 학원가기전과 후의 영어점수가 다르다고 결론 내렸습니다. 그리고 t 통계량을 통해 전보다 후에 성적이 조금 오른 것을 확인하였습니다."
   ]
  },
  {
   "cell_type": "markdown",
   "id": "d577c854",
   "metadata": {},
   "source": [
    "# 실습 13"
   ]
  },
  {
   "cell_type": "code",
   "execution_count": 42,
   "id": "ce31294e",
   "metadata": {},
   "outputs": [
    {
     "name": "stdout",
     "output_type": "stream",
     "text": [
      "1 Proportion test\n",
      "z:-2.041\n",
      "p:0.041\n"
     ]
    }
   ],
   "source": [
    "# 실습 12\n",
    "count=40\n",
    "n_obs=100\n",
    "value=0.5\n",
    "\n",
    "z,p=proportions_ztest(count,n_obs,value)\n",
    "print(\"1 Proportion test\")\n",
    "print('z:{0:0.3f}'.format(z))\n",
    "print('p:{0:0.3f}'.format(p))"
   ]
  },
  {
   "cell_type": "markdown",
   "id": "9a0d4053",
   "metadata": {},
   "source": [
    "#### 100번을 시행하였을 때 앞면이 40번이 발생하였습니다. 귀무가설은 p=0.5 대립가설은 p은 0.5가 아니다 이다. p-value는 0.041로 이 동전의 확률p는 0.5가 아니므로 이 동전은 정상적이지 않다고 판단할 수 있습니다."
   ]
  },
  {
   "cell_type": "markdown",
   "id": "35fcf211",
   "metadata": {},
   "source": [
    "# 실습 14"
   ]
  },
  {
   "cell_type": "code",
   "execution_count": 43,
   "id": "37587ce9",
   "metadata": {},
   "outputs": [
    {
     "name": "stdout",
     "output_type": "stream",
     "text": [
      "2 Proportion test\n",
      "z:2.073\n",
      "p:0.038\n"
     ]
    }
   ],
   "source": [
    "# 실습 14\n",
    "count=np.array([14,5])\n",
    "nobs=np.array([1200,1200])\n",
    "z,p= proportions_ztest(count,nobs)\n",
    "\n",
    "print(\"2 Proportion test\")\n",
    "print('z:{0:0.3f}'.format(z))\n",
    "print('p:{0:0.3f}'.format(p))"
   ]
  },
  {
   "cell_type": "markdown",
   "id": "f002c1bb",
   "metadata": {},
   "source": [
    "#### 공장 A와 공장 B의 공정의 불량률은 같다를 귀무가설로, 공장 A와 공장 B의 공정 불량률은 다르다를 대립가설로 두었습니다. p-value는 0.038로 공장 A와 공장 B의 공정 불량률은 다르다는 결론을 내렸습니다."
   ]
  },
  {
   "cell_type": "markdown",
   "id": "f9d0273e",
   "metadata": {},
   "source": [
    "# 실습 15"
   ]
  },
  {
   "cell_type": "code",
   "execution_count": 86,
   "id": "1182cde6",
   "metadata": {},
   "outputs": [
    {
     "name": "stdout",
     "output_type": "stream",
     "text": [
      "chi-square test\n",
      "chisq:98.274\n",
      "p:0.000\n",
      "degree pf freedom:30\n",
      "expected value:\n",
      "[[11.004  8.21   5.24   3.843  1.921  9.782]\n",
      " [ 8.528  6.362  4.061  2.978  1.489  7.581]\n",
      " [10.454  7.799  4.978  3.651  1.825  9.293]\n",
      " [ 8.253  6.157  3.93   2.882  1.441  7.336]\n",
      " [ 7.978  5.952  3.799  2.786  1.393  7.092]\n",
      " [ 8.803  6.568  4.192  3.074  1.537  7.825]\n",
      " [ 7.978  5.952  3.799  2.786  1.393  7.092]]\n"
     ]
    }
   ],
   "source": [
    "# 실습 15\n",
    "df = pd.DataFrame({'A':[18,1,8,7,10,9,10],'B':[8,2,14,5,5,9,4],'C':[4,1,3,4,9,5,4],\n",
    "                   'D':[4,1,2,3,2,7,3],'E':[3,1,3,1,1,1,1],'F':[3,25,8,10,2,1,7]})\n",
    "chi, pval, dof, expected = stats.chi2_contingency(df)\n",
    "print('chi-square test')\n",
    "print('chisq:{0:0.3f}'.format(chi))\n",
    "print('p:{0:0.3f}'.format(pval))\n",
    "print('degree pf freedom:{}'.format(dof))\n",
    "print('expected value:\\n{}'.format(expected.round(3)))"
   ]
  },
  {
   "cell_type": "markdown",
   "id": "8588e76b",
   "metadata": {},
   "source": [
    "#### A,B,C,D,E,F 6가지 제품에 대해서 각 이미지에 대해 차이가 없다는 귀무가설, 6가지 제품에 대해 차이가 있다는 대립가설을 두었습니다. P-value는 0으로 6가지 제품은 확실하게 차이가 있다는 판단을 내렸습니다. 어떤 제품이 다른지에 대해서는 실제값과 기대값을 통해 차이가 큰 제품이 차이가 있다고 판단할 수 있습니다."
   ]
  },
  {
   "cell_type": "markdown",
   "id": "afbe25ea",
   "metadata": {},
   "source": [
    "# 실습 16"
   ]
  },
  {
   "cell_type": "code",
   "execution_count": 55,
   "id": "520f83be",
   "metadata": {},
   "outputs": [],
   "source": [
    "# 실습 16-1 : 강종별로 2차 정렬시간의 차이가 있는가 검정\n",
    "df=pd.read_csv(\"/home/piai/바탕화면/1 Big Data 분석 기초/ANOVA.csv\", encoding='euc-kr')\n",
    "df[[\"time\",\"gangjong\"]]\n",
    "\n",
    "df= pd.DataFrame({'a':[32.2,30.4,33.6,36.4,33.9,34.9],\n",
    "                   'b':[33.1,29.9,31.7,27.5,34.0,30.7],\n",
    "                   'c':[32.6,32.7,29.3,25.9,31.1,23.8],\n",
    "                   'd':[26.7,28.5,30.9,26.2,32.3,23.7]})"
   ]
  },
  {
   "cell_type": "code",
   "execution_count": 56,
   "id": "a18c64df",
   "metadata": {},
   "outputs": [
    {
     "data": {
      "text/plain": [
       "<Axes: >"
      ]
     },
     "execution_count": 56,
     "metadata": {},
     "output_type": "execute_result"
    },
    {
     "data": {
      "image/png": "[encoded data removed]",
      "text/plain": [
       "<Figure size 640x480 with 1 Axes>"
      ]
     },
     "metadata": {},
     "output_type": "display_data"
    }
   ],
   "source": [
    "df.boxplot()"
   ]
  },
  {
   "cell_type": "code",
   "execution_count": 57,
   "id": "21e28267",
   "metadata": {},
   "outputs": [
    {
     "name": "stdout",
     "output_type": "stream",
     "text": [
      "statistic=0.9879403114318848, p-value=0.983557939529419\n"
     ]
    }
   ],
   "source": [
    "statistic,p= stats.shapiro(df['a'])\n",
    "print(\"statistic={}, p-value={}\".format(statistic,p))"
   ]
  },
  {
   "cell_type": "code",
   "execution_count": 58,
   "id": "03ebcb2f",
   "metadata": {},
   "outputs": [
    {
     "name": "stdout",
     "output_type": "stream",
     "text": [
      "statistic=0.9769707918167114, p-value=0.9355478286743164\n"
     ]
    }
   ],
   "source": [
    "statistic,p= stats.shapiro(df['b'])\n",
    "print(\"statistic={}, p-value={}\".format(statistic,p))"
   ]
  },
  {
   "cell_type": "code",
   "execution_count": 59,
   "id": "3578440d",
   "metadata": {},
   "outputs": [
    {
     "name": "stdout",
     "output_type": "stream",
     "text": [
      "statistic=0.8929420113563538, p-value=0.3338908553123474\n"
     ]
    }
   ],
   "source": [
    "statistic,p= stats.shapiro(df['c'])\n",
    "print(\"statistic={}, p-value={}\".format(statistic,p))"
   ]
  },
  {
   "cell_type": "code",
   "execution_count": 60,
   "id": "807196be",
   "metadata": {},
   "outputs": [
    {
     "name": "stdout",
     "output_type": "stream",
     "text": [
      "statistic=0.9713904857635498, p-value=0.901641845703125\n"
     ]
    }
   ],
   "source": [
    "statistic,p= stats.shapiro(df['d'])\n",
    "print(\"statistic={}, p-value={}\".format(statistic,p))"
   ]
  },
  {
   "cell_type": "code",
   "execution_count": 61,
   "id": "4e52c849",
   "metadata": {},
   "outputs": [
    {
     "data": {
      "text/plain": [
       "BartlettResult(statistic=1.8729084232387967, pvalue=0.5991991808067023)"
      ]
     },
     "execution_count": 61,
     "metadata": {},
     "output_type": "execute_result"
    }
   ],
   "source": [
    "stats.bartlett(df['a'],df['b'],df['c'],df['d'])"
   ]
  },
  {
   "cell_type": "code",
   "execution_count": 62,
   "id": "35804678",
   "metadata": {},
   "outputs": [
    {
     "name": "stdout",
     "output_type": "stream",
     "text": [
      "One-way ANOVA\n",
      "F 통계량:4.172\n",
      "p-value:0.019\n"
     ]
    }
   ],
   "source": [
    "f_result=stats.f_oneway(df['a'],df['b'],df['c'],df['d'])\n",
    "f,p = f_result.statistic.round(3), f_result.pvalue.round(3)\n",
    "\n",
    "print(\"One-way ANOVA\")\n",
    "print(\"F 통계량:{}\".format(f))\n",
    "print(\"p-value:{}\".format(p))"
   ]
  },
  {
   "cell_type": "markdown",
   "id": "f6b34eee",
   "metadata": {},
   "source": [
    "#### ANOVA를 통해 철강의 강종별로 정렬시간의 차이가 있는지 분석하였습니다. 귀무가설로 철강의 강종별로 정렬시간이 모두 같습니다. 대립가설로 적어도 하나의 강종이라도 다른 것이 존재한다고 두었습니다.  p-value가 0.019로 적어도 하나의 강종은 다른 것으로  판단할 수 있습니다."
   ]
  },
  {
   "cell_type": "code",
   "execution_count": 70,
   "id": "5951b8f7",
   "metadata": {},
   "outputs": [],
   "source": [
    "# 실습 16-1 : 강종별로 2차 정렬시간의 차이가 있는가 검정\n",
    "df=pd.read_csv(\"/home/piai/바탕화면/1 Big Data 분석 기초/ANOVA.csv\", encoding='euc-kr')\n",
    "df[[\"time\",\"type\"]]\n",
    "\n",
    "dfa=df[df['type']=='a']\n",
    "dfb=df[df['type']=='b']"
   ]
  },
  {
   "cell_type": "code",
   "execution_count": 85,
   "id": "9431514e",
   "metadata": {},
   "outputs": [
    {
     "data": {
      "image/png": "[encoded data removed]",
      "text/plain": [
       "<Figure size 640x480 with 1 Axes>"
      ]
     },
     "metadata": {},
     "output_type": "display_data"
    }
   ],
   "source": [
    "plt.boxplot([dfa['time'], dfb['time']])\n",
    "plt.show()"
   ]
  },
  {
   "cell_type": "code",
   "execution_count": 76,
   "id": "c3395b43",
   "metadata": {},
   "outputs": [
    {
     "name": "stdout",
     "output_type": "stream",
     "text": [
      "statistic=0.982139527797699, p-value=0.9907686114311218\n"
     ]
    }
   ],
   "source": [
    "statistic,p= stats.shapiro(dfa['time'])\n",
    "print(\"statistic={}, p-value={}\".format(statistic,p))"
   ]
  },
  {
   "cell_type": "code",
   "execution_count": 77,
   "id": "4a04dd98",
   "metadata": {},
   "outputs": [
    {
     "name": "stdout",
     "output_type": "stream",
     "text": [
      "statistic=0.9098271131515503, p-value=0.2122616022825241\n"
     ]
    }
   ],
   "source": [
    "statistic,p= stats.shapiro(dfb['time'])\n",
    "print(\"statistic={}, p-value={}\".format(statistic,p))"
   ]
  },
  {
   "cell_type": "code",
   "execution_count": 78,
   "id": "e2134e5d",
   "metadata": {},
   "outputs": [
    {
     "data": {
      "text/plain": [
       "BartlettResult(statistic=0.9529700642151171, pvalue=0.3289644435379069)"
      ]
     },
     "execution_count": 78,
     "metadata": {},
     "output_type": "execute_result"
    }
   ],
   "source": [
    "stats.bartlett(dfa['time'],dfb[\"time\"])"
   ]
  },
  {
   "cell_type": "code",
   "execution_count": 79,
   "id": "95860cfa",
   "metadata": {},
   "outputs": [
    {
     "name": "stdout",
     "output_type": "stream",
     "text": [
      "One-way ANOVA\n",
      "F 통계량:9.654\n",
      "p-value:0.005\n"
     ]
    }
   ],
   "source": [
    "f_result=stats.f_oneway(dfa['time'],dfb['time'])\n",
    "f,p = f_result.statistic.round(3), f_result.pvalue.round(3)\n",
    "\n",
    "print(\"One-way ANOVA\")\n",
    "print(\"F 통계량:{}\".format(f))\n",
    "print(\"p-value:{}\".format(p))"
   ]
  },
  {
   "cell_type": "markdown",
   "id": "3d6bb633",
   "metadata": {},
   "source": [
    "#### ANOVA를 통해 type별로 정렬시간의 차이가 있는지 분석하였습니다. 귀무가설로 철강의 type별로 정렬시간이 모두 같습니다. 대립가설로 적어도 하나의 강종이라도 다른 것이 존재한다고 두었습니다.  p-value가 0.005로 적어도 하나의 강종은 다른 것으로  판단할 수 있습니다."
   ]
  },
  {
   "cell_type": "markdown",
   "id": "81323a16",
   "metadata": {},
   "source": [
    "# 실습 17"
   ]
  },
  {
   "cell_type": "code",
   "execution_count": 138,
   "id": "6bb7d049",
   "metadata": {},
   "outputs": [
    {
     "name": "stdout",
     "output_type": "stream",
     "text": [
      "Correlation Analysis\n",
      "corr:-0.723\n",
      "p-value:0.000\n"
     ]
    }
   ],
   "source": [
    "# 실습 17\n",
    "df1= [37.6,38.6,37.2,36.4,38.6,39.0,37.2,36.1,35.9,37.1,36.9,37.5,36.3,38.1,39.0,36.9,36.8,37.6,33.0,33.5]\n",
    "df2= [14,15,14,16,17,14,17,16,15,16,14,16,18,13,15,17,14,16,20,21]\n",
    "corr,pval=stats.pearsonr(df1,df2)\n",
    "\n",
    "print(\"Correlation Analysis\")\n",
    "print('corr:{0:0.3f}'.format(corr))\n",
    "print('p-value:{0:0.3f}'.format(pval))"
   ]
  },
  {
   "cell_type": "code",
   "execution_count": 123,
   "id": "e61a0a29",
   "metadata": {},
   "outputs": [
    {
     "data": {
      "text/html": [
       "<div>\n",
       "<style scoped>\n",
       "    .dataframe tbody tr th:only-of-type {\n",
       "        vertical-align: middle;\n",
       "    }\n",
       "\n",
       "    .dataframe tbody tr th {\n",
       "        vertical-align: top;\n",
       "    }\n",
       "\n",
       "    .dataframe thead th {\n",
       "        text-align: right;\n",
       "    }\n",
       "</style>\n",
       "<table border=\"1\" class=\"dataframe\">\n",
       "  <thead>\n",
       "    <tr style=\"text-align: right;\">\n",
       "      <th></th>\n",
       "      <th>Pulse</th>\n",
       "      <th>Smokes</th>\n",
       "      <th>Sex</th>\n",
       "      <th>Height</th>\n",
       "      <th>Weight</th>\n",
       "    </tr>\n",
       "  </thead>\n",
       "  <tbody>\n",
       "    <tr>\n",
       "      <th>0</th>\n",
       "      <td>64</td>\n",
       "      <td>2</td>\n",
       "      <td>1</td>\n",
       "      <td>165.0</td>\n",
       "      <td>63.0</td>\n",
       "    </tr>\n",
       "    <tr>\n",
       "      <th>1</th>\n",
       "      <td>58</td>\n",
       "      <td>2</td>\n",
       "      <td>1</td>\n",
       "      <td>180.0</td>\n",
       "      <td>65.3</td>\n",
       "    </tr>\n",
       "    <tr>\n",
       "      <th>2</th>\n",
       "      <td>62</td>\n",
       "      <td>1</td>\n",
       "      <td>1</td>\n",
       "      <td>183.8</td>\n",
       "      <td>72.0</td>\n",
       "    </tr>\n",
       "    <tr>\n",
       "      <th>3</th>\n",
       "      <td>66</td>\n",
       "      <td>1</td>\n",
       "      <td>1</td>\n",
       "      <td>182.5</td>\n",
       "      <td>85.5</td>\n",
       "    </tr>\n",
       "    <tr>\n",
       "      <th>4</th>\n",
       "      <td>64</td>\n",
       "      <td>2</td>\n",
       "      <td>1</td>\n",
       "      <td>172.5</td>\n",
       "      <td>69.8</td>\n",
       "    </tr>\n",
       "    <tr>\n",
       "      <th>...</th>\n",
       "      <td>...</td>\n",
       "      <td>...</td>\n",
       "      <td>...</td>\n",
       "      <td>...</td>\n",
       "      <td>...</td>\n",
       "    </tr>\n",
       "    <tr>\n",
       "      <th>87</th>\n",
       "      <td>90</td>\n",
       "      <td>1</td>\n",
       "      <td>2</td>\n",
       "      <td>160.0</td>\n",
       "      <td>56.3</td>\n",
       "    </tr>\n",
       "    <tr>\n",
       "      <th>88</th>\n",
       "      <td>78</td>\n",
       "      <td>2</td>\n",
       "      <td>2</td>\n",
       "      <td>170.0</td>\n",
       "      <td>59.9</td>\n",
       "    </tr>\n",
       "    <tr>\n",
       "      <th>89</th>\n",
       "      <td>68</td>\n",
       "      <td>2</td>\n",
       "      <td>2</td>\n",
       "      <td>155.0</td>\n",
       "      <td>49.5</td>\n",
       "    </tr>\n",
       "    <tr>\n",
       "      <th>90</th>\n",
       "      <td>86</td>\n",
       "      <td>2</td>\n",
       "      <td>2</td>\n",
       "      <td>167.5</td>\n",
       "      <td>67.5</td>\n",
       "    </tr>\n",
       "    <tr>\n",
       "      <th>91</th>\n",
       "      <td>76</td>\n",
       "      <td>2</td>\n",
       "      <td>2</td>\n",
       "      <td>154.4</td>\n",
       "      <td>48.6</td>\n",
       "    </tr>\n",
       "  </tbody>\n",
       "</table>\n",
       "<p>92 rows × 5 columns</p>\n",
       "</div>"
      ],
      "text/plain": [
       "    Pulse  Smokes  Sex  Height  Weight\n",
       "0      64       2    1   165.0    63.0\n",
       "1      58       2    1   180.0    65.3\n",
       "2      62       1    1   183.8    72.0\n",
       "3      66       1    1   182.5    85.5\n",
       "4      64       2    1   172.5    69.8\n",
       "..    ...     ...  ...     ...     ...\n",
       "87     90       1    2   160.0    56.3\n",
       "88     78       2    2   170.0    59.9\n",
       "89     68       2    2   155.0    49.5\n",
       "90     86       2    2   167.5    67.5\n",
       "91     76       2    2   154.4    48.6\n",
       "\n",
       "[92 rows x 5 columns]"
      ]
     },
     "execution_count": 123,
     "metadata": {},
     "output_type": "execute_result"
    }
   ],
   "source": [
    "df=pd.read_csv(\"/home/piai/바탕화면/1 Big Data 분석 기초111/pulse.csv\")\n",
    "df"
   ]
  },
  {
   "cell_type": "markdown",
   "id": "8541b074",
   "metadata": {},
   "source": [
    "#### 초코칩의 강도와 재료반죽 온도간에 상관관계를 분석하였을 때 p-value가 0이고 corr이 -0.723이 나왔습니다. 결론적으로 초코칩의 강도와 재료반죽 온도간에 매우 강한 음의 상관관계가 있다고 판단하였습니다."
   ]
  },
  {
   "cell_type": "code",
   "execution_count": 176,
   "id": "88d00dbb",
   "metadata": {},
   "outputs": [
    {
     "name": "stdout",
     "output_type": "stream",
     "text": [
      "Correlation Analysis\n",
      "corr:-0.212\n",
      "p-value:0.043\n"
     ]
    }
   ],
   "source": [
    "df=pd.read_csv(\"/home/piai/바탕화면/1 Big Data 분석 기초111/pulse.csv\")\n",
    "df1=df[[\"Pulse\"]]\n",
    "df2=df[[\"Height\"]]\n",
    "\n",
    "corr,pval=stats.pearsonr(df1[\"Pulse\"],df[\"Height\"])\n",
    "print(\"Correlation Analysis\")\n",
    "print('corr:{0:0.3f}'.format(corr))\n",
    "print('p-value:{0:0.3f}'.format(pval))"
   ]
  },
  {
   "cell_type": "code",
   "execution_count": 140,
   "id": "9f20cb1b",
   "metadata": {},
   "outputs": [
    {
     "data": {
      "text/html": [
       "<div>\n",
       "<style scoped>\n",
       "    .dataframe tbody tr th:only-of-type {\n",
       "        vertical-align: middle;\n",
       "    }\n",
       "\n",
       "    .dataframe tbody tr th {\n",
       "        vertical-align: top;\n",
       "    }\n",
       "\n",
       "    .dataframe thead th {\n",
       "        text-align: right;\n",
       "    }\n",
       "</style>\n",
       "<table border=\"1\" class=\"dataframe\">\n",
       "  <thead>\n",
       "    <tr style=\"text-align: right;\">\n",
       "      <th></th>\n",
       "      <th>Pulse</th>\n",
       "      <th>Smokes</th>\n",
       "      <th>Sex</th>\n",
       "      <th>Height</th>\n",
       "      <th>Weight</th>\n",
       "    </tr>\n",
       "  </thead>\n",
       "  <tbody>\n",
       "  </tbody>\n",
       "</table>\n",
       "</div>"
      ],
      "text/plain": [
       "Empty DataFrame\n",
       "Columns: [Pulse, Smokes, Sex, Height, Weight]\n",
       "Index: []"
      ]
     },
     "execution_count": 140,
     "metadata": {},
     "output_type": "execute_result"
    }
   ],
   "source": [
    "df[1:1]"
   ]
  },
  {
   "cell_type": "code",
   "execution_count": 171,
   "id": "5e0fc9d4",
   "metadata": {},
   "outputs": [
    {
     "data": {
      "text/html": [
       "<div>\n",
       "<style scoped>\n",
       "    .dataframe tbody tr th:only-of-type {\n",
       "        vertical-align: middle;\n",
       "    }\n",
       "\n",
       "    .dataframe tbody tr th {\n",
       "        vertical-align: top;\n",
       "    }\n",
       "\n",
       "    .dataframe thead th {\n",
       "        text-align: right;\n",
       "    }\n",
       "</style>\n",
       "<table border=\"1\" class=\"dataframe\">\n",
       "  <thead>\n",
       "    <tr style=\"text-align: right;\">\n",
       "      <th></th>\n",
       "      <th>개선전</th>\n",
       "      <th>개선후</th>\n",
       "    </tr>\n",
       "  </thead>\n",
       "  <tbody>\n",
       "    <tr>\n",
       "      <th>0</th>\n",
       "      <td>68.7</td>\n",
       "      <td>73.4</td>\n",
       "    </tr>\n",
       "    <tr>\n",
       "      <th>1</th>\n",
       "      <td>71.4</td>\n",
       "      <td>77.0</td>\n",
       "    </tr>\n",
       "    <tr>\n",
       "      <th>2</th>\n",
       "      <td>69.8</td>\n",
       "      <td>73.7</td>\n",
       "    </tr>\n",
       "    <tr>\n",
       "      <th>3</th>\n",
       "      <td>75.3</td>\n",
       "      <td>73.3</td>\n",
       "    </tr>\n",
       "    <tr>\n",
       "      <th>4</th>\n",
       "      <td>71.3</td>\n",
       "      <td>73.1</td>\n",
       "    </tr>\n",
       "    <tr>\n",
       "      <th>5</th>\n",
       "      <td>72.7</td>\n",
       "      <td>74.5</td>\n",
       "    </tr>\n",
       "    <tr>\n",
       "      <th>6</th>\n",
       "      <td>66.9</td>\n",
       "      <td>77.5</td>\n",
       "    </tr>\n",
       "    <tr>\n",
       "      <th>7</th>\n",
       "      <td>70.2</td>\n",
       "      <td>76.4</td>\n",
       "    </tr>\n",
       "    <tr>\n",
       "      <th>8</th>\n",
       "      <td>74.4</td>\n",
       "      <td>75.7</td>\n",
       "    </tr>\n",
       "    <tr>\n",
       "      <th>9</th>\n",
       "      <td>70.1</td>\n",
       "      <td>NaN</td>\n",
       "    </tr>\n",
       "  </tbody>\n",
       "</table>\n",
       "</div>"
      ],
      "text/plain": [
       "    개선전   개선후\n",
       "0  68.7  73.4\n",
       "1  71.4  77.0\n",
       "2  69.8  73.7\n",
       "3  75.3  73.3\n",
       "4  71.3  73.1\n",
       "5  72.7  74.5\n",
       "6  66.9  77.5\n",
       "7  70.2  76.4\n",
       "8  74.4  75.7\n",
       "9  70.1   NaN"
      ]
     },
     "execution_count": 171,
     "metadata": {},
     "output_type": "execute_result"
    }
   ],
   "source": [
    "df=pd.read_csv(\"/home/piai/바탕화면/1 Big Data 분석 기초111/강판강도.csv\",encoding='euc-kr')\n",
    "df"
   ]
  },
  {
   "cell_type": "code",
   "execution_count": 170,
   "id": "e00d2577",
   "metadata": {},
   "outputs": [
    {
     "name": "stdout",
     "output_type": "stream",
     "text": [
      "Paired t-test\n",
      "t:[-3.135]\n",
      "p:[0.014]\n"
     ]
    }
   ],
   "source": [
    "# 실습 12\n",
    "df1 = pd.DataFrame({'before':[68.7,71.4,69.8,75.3,71.3,72.7,66.9,70.2,74.4]})\n",
    "df2= pd.DataFrame({\"after\":[73.4,77.0,73.7,73.3,73.1,74.5,77.5,76.4,75.7]})\n",
    "\n",
    "t_result= stats.ttest_rel(df1,df2)\n",
    "t,p= t_result.statistic.round(3), t_result.pvalue.round(3)\n",
    "print(\"Paired t-test\")\n",
    "print(\"t:{}\".format(t))\n",
    "print(\"p:{}\".format(p))"
   ]
  },
  {
   "cell_type": "code",
   "execution_count": null,
   "id": "9431235d",
   "metadata": {},
   "outputs": [],
   "source": [
    "# 실습 7\n",
    "\n",
    "df=pd.read_csv(\"/home/piai/바탕화면/1 Big Data 분석 기초/2sample_t_test.csv\", encoding='euc-kr')\n",
    "df.head()\n",
    "df=df.dropna()\n",
    "\n",
    "statistic1,p1= stats.shapiro(df['Mat_A'])\n",
    "statistic1,p1\n",
    "print(\"Shapiro-Wilk Test : statistic={}, p-value={}\".format(statistic1,p1))\n",
    "\n",
    "statistic2,p2= stats.shapiro(df['Mat_B'])\n",
    "statistic2,p2\n",
    "print(\"Shapiro-Wilk Test : statistic={}, p-value={}\".format(statistic2,p2))"
   ]
  },
  {
   "cell_type": "code",
   "execution_count": 102,
   "id": "9d890e07",
   "metadata": {},
   "outputs": [
    {
     "name": "stdout",
     "output_type": "stream",
     "text": [
      "chi-square test\n",
      "chisq:7.878\n",
      "p:0.019\n",
      "degree pf freedom:2\n",
      "expected value:\n",
      "[[200.928 209.898 187.174]\n",
      " [135.072 141.102 125.826]]\n"
     ]
    }
   ],
   "source": [
    "# 연습 15\n",
    "df = pd.DataFrame({'Work_저':[182,154],'Work_중':[213,138],'Work_고':[203,110]})\n",
    "chi, pval, dof, expected = stats.chi2_contingency(df)\n",
    "print('chi-square test')\n",
    "print('chisq:{0:0.3f}'.format(chi))\n",
    "print('p:{0:0.3f}'.format(pval))\n",
    "print('degree pf freedom:{}'.format(dof))\n",
    "print('expected value:\\n{}'.format(expected.round(3)))"
   ]
  },
  {
   "cell_type": "code",
   "execution_count": null,
   "id": "c3f97d1b",
   "metadata": {},
   "outputs": [],
   "source": [
    "df = pd.DataFrame({'Work_저':[182,154],'Work_중':[213,138],'Work_고':[203,110]})"
   ]
  },
  {
   "cell_type": "code",
   "execution_count": 165,
   "id": "408129ab",
   "metadata": {},
   "outputs": [
    {
     "data": {
      "text/html": [
       "<div>\n",
       "<style scoped>\n",
       "    .dataframe tbody tr th:only-of-type {\n",
       "        vertical-align: middle;\n",
       "    }\n",
       "\n",
       "    .dataframe tbody tr th {\n",
       "        vertical-align: top;\n",
       "    }\n",
       "\n",
       "    .dataframe thead th {\n",
       "        text-align: right;\n",
       "    }\n",
       "</style>\n",
       "<table border=\"1\" class=\"dataframe\">\n",
       "  <thead>\n",
       "    <tr style=\"text-align: right;\">\n",
       "      <th></th>\n",
       "      <th>A</th>\n",
       "    </tr>\n",
       "  </thead>\n",
       "  <tbody>\n",
       "    <tr>\n",
       "      <th>count</th>\n",
       "      <td>40.000000</td>\n",
       "    </tr>\n",
       "    <tr>\n",
       "      <th>mean</th>\n",
       "      <td>25.450000</td>\n",
       "    </tr>\n",
       "    <tr>\n",
       "      <th>std</th>\n",
       "      <td>4.824882</td>\n",
       "    </tr>\n",
       "    <tr>\n",
       "      <th>min</th>\n",
       "      <td>16.000000</td>\n",
       "    </tr>\n",
       "    <tr>\n",
       "      <th>25%</th>\n",
       "      <td>21.750000</td>\n",
       "    </tr>\n",
       "    <tr>\n",
       "      <th>50%</th>\n",
       "      <td>25.000000</td>\n",
       "    </tr>\n",
       "    <tr>\n",
       "      <th>75%</th>\n",
       "      <td>30.000000</td>\n",
       "    </tr>\n",
       "    <tr>\n",
       "      <th>max</th>\n",
       "      <td>34.000000</td>\n",
       "    </tr>\n",
       "  </tbody>\n",
       "</table>\n",
       "</div>"
      ],
      "text/plain": [
       "               A\n",
       "count  40.000000\n",
       "mean   25.450000\n",
       "std     4.824882\n",
       "min    16.000000\n",
       "25%    21.750000\n",
       "50%    25.000000\n",
       "75%    30.000000\n",
       "max    34.000000"
      ]
     },
     "execution_count": 165,
     "metadata": {},
     "output_type": "execute_result"
    }
   ],
   "source": [
    "df1= pd.DataFrame({\"A\":[25,30,20,23,27,33,23,20,25,24,31,30,34,30,28,31,30,31,32,30,19,21,27,25,25,30,26,29,30,24,18,25,16,19,20,20,25,22,23,17]})\n",
    "df1.describe()\n"
   ]
  },
  {
   "cell_type": "code",
   "execution_count": 166,
   "id": "0401df36",
   "metadata": {},
   "outputs": [
    {
     "data": {
      "text/plain": [
       "1.9813278008298756"
      ]
     },
     "execution_count": 166,
     "metadata": {},
     "output_type": "execute_result"
    }
   ],
   "source": [
    "(35-25.45)/4.82"
   ]
  },
  {
   "cell_type": "code",
   "execution_count": null,
   "id": "8cc42b6e",
   "metadata": {},
   "outputs": [],
   "source": []
  },
  {
   "cell_type": "code",
   "execution_count": null,
   "id": "1e277568",
   "metadata": {},
   "outputs": [],
   "source": []
  },
  {
   "cell_type": "code",
   "execution_count": null,
   "id": "2fe5f129",
   "metadata": {},
   "outputs": [],
   "source": []
  }
 ],
 "metadata": {
  "kernelspec": {
   "display_name": "Python 3 (ipykernel)",
   "language": "python",
   "name": "python3"
  },
  "language_info": {
   "codemirror_mode": {
    "name": "ipython",
    "version": 3
   },
   "file_extension": ".py",
   "mimetype": "text/x-python",
   "name": "python",
   "nbconvert_exporter": "python",
   "pygments_lexer": "ipython3",
   "version": "3.10.9"
  }
 },
 "nbformat": 4,
 "nbformat_minor": 5
}
