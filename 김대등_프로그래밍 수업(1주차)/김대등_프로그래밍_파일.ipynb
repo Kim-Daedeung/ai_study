{
 "cells": [
  {
   "cell_type": "code",
   "execution_count": null,
   "id": "4c598fc4",
   "metadata": {},
   "outputs": [],
   "source": [
    "import os \n",
    "\n",
    "filename = input(\"Enter a file name: \")\n",
    "if os.path.isfile(filename)==True:\n",
    "    fr= open(filename, \"r\")\n",
    "    print(fr.read().upper())    \n",
    "    fr.close()\n",
    "else : \n",
    "    print(\"파일이 존재하지 않는다\")\n",
    "    "
   ]
  },
  {
   "cell_type": "code",
   "execution_count": null,
   "id": "22a820b1",
   "metadata": {},
   "outputs": [],
   "source": [
    "fr= open(\"score.txt\",\"r\")\n",
    "fw = open(\"report.txt\",\"w\")\n",
    "for line in fr :\n",
    "    sid, mid, fin = [int(x) for x in line.split()]\n",
    "    avg= (mid+fin)/2\n",
    "    if avg >= 90 : \n",
    "        grade= 'A'\n",
    "    elif avg >=80 :\n",
    "        grade= 'B'\n",
    "    elif avg >=70 :\n",
    "        grade= 'C'\n",
    "    elif avg >=60 :\n",
    "        grade= 'D'\n",
    "    else : \n",
    "        grade= 'F'\n",
    "    print(sid,avg,grade)\n",
    "    data= f\"{sid} {avg}({grade})\\n\"\n",
    "    fw.write(data)\n",
    "fw.close()"
   ]
  }
 ],
 "metadata": {
  "kernelspec": {
   "display_name": "Python 3 (ipykernel)",
   "language": "python",
   "name": "python3"
  },
  "language_info": {
   "codemirror_mode": {
    "name": "ipython",
    "version": 3
   },
   "file_extension": ".py",
   "mimetype": "text/x-python",
   "name": "python",
   "nbconvert_exporter": "python",
   "pygments_lexer": "ipython3",
   "version": "3.10.9"
  }
 },
 "nbformat": 4,
 "nbformat_minor": 5
}
