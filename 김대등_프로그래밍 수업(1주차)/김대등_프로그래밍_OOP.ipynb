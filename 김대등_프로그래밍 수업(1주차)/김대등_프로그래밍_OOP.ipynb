{
 "cells": [
  {
   "cell_type": "markdown",
   "id": "aedc2406",
   "metadata": {},
   "source": [
    "### 단일 은행 계좌 모델링\n",
    "#### balance: 잔액을 나타내는 변수\n",
    "#### deposit(amount): amount를 받아 잔액에 입금하는 함수\n",
    "#### withdraw(amount): amount를 받아 잔액에 출금하는 함수"
   ]
  },
  {
   "cell_type": "code",
   "execution_count": 5,
   "id": "9ce9e17a",
   "metadata": {},
   "outputs": [
    {
     "name": "stdout",
     "output_type": "stream",
     "text": [
      "0\n",
      "500\n",
      "500\n",
      "200\n",
      "200\n"
     ]
    }
   ],
   "source": [
    "# 단일 은행 계좌 모델링 (정답)\n",
    "\n",
    "balance=0\n",
    "\n",
    "def deposit(amount):\n",
    "    global balance\n",
    "    balance += amount\n",
    "    return balance\n",
    "\n",
    "def withdraw(amount):\n",
    "    global balance\n",
    "    balance -= amount\n",
    "    return balance\n",
    "\n",
    "print(balance)\n",
    "print(deposit(500))\n",
    "print(balance)\n",
    "print(withdraw(300))\n",
    "print(balance)"
   ]
  },
  {
   "cell_type": "code",
   "execution_count": 7,
   "id": "27a0fe93",
   "metadata": {},
   "outputs": [
    {
     "name": "stdout",
     "output_type": "stream",
     "text": [
      "0\n",
      "0\n",
      "1000\n",
      "2000\n",
      "700\n",
      "1800\n"
     ]
    }
   ],
   "source": [
    "# 여러 은행 계좌 모델링 (정답)\n",
    "\n",
    "def make_account() :\n",
    "    return {'balance' : 0}\n",
    "\n",
    "def deposit(account, amount) :\n",
    "    account['balance']+= amount\n",
    "    return account['balance']\n",
    "\n",
    "def withdraw(account, amount) :\n",
    "    account['balance']-= amount\n",
    "    return account['balance']\n",
    "\n",
    "a= make_account()\n",
    "b= make_account()\n",
    "print(a['balance'])\n",
    "print(b['balance'])\n",
    "print(deposit(a,1000))\n",
    "print(deposit(b,2000))\n",
    "print(withdraw(a,300))\n",
    "print(withdraw(b,200))"
   ]
  },
  {
   "cell_type": "markdown",
   "id": "9c7e7330",
   "metadata": {},
   "source": [
    "### 객체 지향 프로그래밍\n",
    "\n",
    "#### 프로그래밍 패러다임(paradigm) 중 하나\n",
    "#### 객체란? 모종의 변수와 메서드를 담는 추상적 개념\n",
    "#### 프로그램을 객체 간의 상호작용으로 서술\n",
    "\n",
    "##### 리스트라는 클래스에서 지원하는 객체 (append, clear, copy, count, extend, pop 등)\n",
    "##### 파이썬은  객체 지향 프로그램, 객체는 모종의 변수와 함수를 담는 추상적 개념\n"
   ]
  },
  {
   "cell_type": "code",
   "execution_count": 22,
   "id": "37935296",
   "metadata": {},
   "outputs": [
    {
     "data": {
      "text/plain": [
       "'wal wal'"
      ]
     },
     "execution_count": 22,
     "metadata": {},
     "output_type": "execute_result"
    }
   ],
   "source": [
    "# 클래스를 만들어서 Dog. 후 tab 누르면  객체 생기는 거 알 수 있음\n",
    "# 클래스 틀로 만들어진게 인스턴스 \n",
    "class Dog :\n",
    "    name='MongJa'\n",
    "    def bark(self):\n",
    "        return 'wal wal'\n",
    "\n",
    "Dog1= Dog()\n",
    "Dog1.bark()\n"
   ]
  },
  {
   "cell_type": "code",
   "execution_count": 25,
   "id": "668cd556",
   "metadata": {},
   "outputs": [
    {
     "name": "stdout",
     "output_type": "stream",
     "text": [
      "init함수가 호출되었네요!\n",
      "puppy\n"
     ]
    }
   ],
   "source": [
    "# 특수 메서드 : 인스턴스 생성시 자동으로 호출되는 메서드 / 인스턴스가 갖게 될 여러 어트리뷰트를 정해 주는 역할\n",
    "# 가장 대표적인 특수 메서드 __init__  /  인스턴스 생성시 자동으로 호출되는 메서드 / 인스턴스가 갖게 될 여러 어트리뷰트를 정해 주는 역할\n",
    "\n",
    "class Sample:\n",
    "    def __init__(self) : \n",
    "        print(\"init함수가 호출되었네요!\")\n",
    "        \n",
    "a= Sample()\n",
    "\n",
    "class Dog :\n",
    "    \n",
    "    name='MongJa'\n",
    "    \n",
    "    def __init__(self, _name):\n",
    "        self.name = _name\n",
    "        \n",
    "    def bark(self):\n",
    "        return 'wal wal'\n",
    "\n",
    "    \n",
    "dog1= Dog(\"puppy\")\n",
    "print(dog1.name)"
   ]
  },
  {
   "cell_type": "code",
   "execution_count": 26,
   "id": "87daa4f0",
   "metadata": {},
   "outputs": [
    {
     "name": "stdout",
     "output_type": "stream",
     "text": [
      "asdf\n"
     ]
    }
   ],
   "source": [
    "class Dog :\n",
    "    \n",
    "    name='MongJa'\n",
    "    \n",
    "    def __init__(self, _name=\"asdf\"):\n",
    "        self.name = _name\n",
    "        \n",
    "    def bark(self):\n",
    "        return 'wal wal'\n",
    "\n",
    "dog1= Dog()\n",
    "print(dog1.name)"
   ]
  },
  {
   "cell_type": "code",
   "execution_count": 45,
   "id": "12f704bc",
   "metadata": {},
   "outputs": [
    {
     "name": "stdout",
     "output_type": "stream",
     "text": [
      "이름:홍길동\n",
      "나이:20\n",
      "키:170\n",
      "몸무게:60\n",
      "이름:홍길동\n",
      "나이:20\n",
      "키:180\n",
      "몸무게:69\n"
     ]
    }
   ],
   "source": [
    "class Person: \n",
    "    def __init__(self, name, age, height, weight) :\n",
    "        self.name= name\n",
    "        self.age = age\n",
    "        self.height= height\n",
    "        self.weight= weight\n",
    "        \n",
    "    def addAge(self):\n",
    "        self.age += 1\n",
    "    \n",
    "    def changeHeight(self, height):\n",
    "        self.height = height\n",
    "    \n",
    "    def changeWeight(self, weight):\n",
    "        self.weight = weight\n",
    "    \n",
    "    def printinfo(self) :\n",
    "        print(f\"이름:{self.name}\")\n",
    "        print(f\"나이:{self.age}\")\n",
    "        print(f\"키:{self.height}\")\n",
    "        print(f\"몸무게:{self.weight}\")\n",
    "                    \n",
    "\n",
    "a= Person(\"홍길동\",20,170,60)\n",
    "a.changeHeight(180)\n",
    "a.changeWeight(69)\n",
    "a.printinfo()\n",
    "\n"
   ]
  },
  {
   "cell_type": "code",
   "execution_count": 48,
   "id": "3792e431",
   "metadata": {},
   "outputs": [
    {
     "data": {
      "text/plain": [
       "[1, 2, 3, 5, 5]"
      ]
     },
     "execution_count": 48,
     "metadata": {},
     "output_type": "execute_result"
    }
   ],
   "source": [
    "a=[1,2,3]\n",
    "\n",
    "list.append(a,5) # 둘다 같음\n",
    "a.append(5)\n",
    "\n",
    "a"
   ]
  },
  {
   "cell_type": "code",
   "execution_count": 50,
   "id": "391d19a3",
   "metadata": {},
   "outputs": [
    {
     "name": "stdout",
     "output_type": "stream",
     "text": [
      "canine\n",
      "canine\n",
      "puppy\n",
      "canine\n"
     ]
    }
   ],
   "source": [
    "class Dog : \n",
    "    kind ='canine'\n",
    "\n",
    "d= Dog()\n",
    "e= Dog()\n",
    "\n",
    "print(d.kind)\n",
    "print(e.kind)\n",
    "d.kind='puppy'\n",
    "print(d.kind)\n",
    "print(e.kind)"
   ]
  },
  {
   "cell_type": "code",
   "execution_count": 55,
   "id": "887229b2",
   "metadata": {},
   "outputs": [
    {
     "name": "stdout",
     "output_type": "stream",
     "text": [
      "['Puppy']\n",
      "['Puppy']\n",
      "['Puppy', 'Dog']\n",
      "['Puppy', 'Dog']\n"
     ]
    }
   ],
   "source": [
    "class Dog : \n",
    "    kind =['Puppy']\n",
    "    \n",
    "d= Dog()\n",
    "e= Dog()\n",
    "print(d.kind)\n",
    "print(e.kind)\n",
    "d.kind.append('Dog')\n",
    "print(d.kind)\n",
    "print(e.kind)"
   ]
  },
  {
   "cell_type": "code",
   "execution_count": 82,
   "id": "67b42fd8",
   "metadata": {},
   "outputs": [
    {
     "name": "stdout",
     "output_type": "stream",
     "text": [
      "이름:Gildong Hong\n",
      "잔고:100\n",
      "이름:Gildong Hong\n",
      "잔고:500\n",
      "잔액 부족\n"
     ]
    }
   ],
   "source": [
    "# 실습1 : 은행 계좌 클래스 만들기\n",
    "\n",
    "# 계좌 클래스의 __init__ 인자는 balance와 name을 지님\n",
    "# 계좌 생성시 초기값으로 balance와 name을 지정 가능\n",
    "# 지정 안할 시 각 초기값은 0과 “none”을 가질 것\n",
    "# 계좌의 기능은 입금, 출금, 계좌정보출력\n",
    "# 출금은 출금하고자하는 금액이 잔고에 있을 때 출금할 것\n",
    "\n",
    "\n",
    "# 실행 시나리오\n",
    "# 계좌에 400원 입금 후 600원 출금하여 “잔액 부족” 출력하기\n",
    "# 계좌에 1000원 입금 900원 출금하여 잔고 100으로 만들기\n",
    "\n",
    "\n",
    "\n",
    "class BankAccount : \n",
    "    def __init__(self, balance=0, name=\"none\"): \n",
    "        self.name= name\n",
    "        self.balance = balance\n",
    "        \n",
    "    def deposit(self,amount):\n",
    "        self.balance += amount\n",
    "    \n",
    "    def withdraw(self, amount):\n",
    "        if self.balance < amount :\n",
    "            print(\"잔액 부족\")\n",
    "        else:\n",
    "            self.balance-= amount\n",
    "    \n",
    "    def get_info(self):\n",
    "        print(f\"이름:{self.name}\")\n",
    "        print(f\"잔고:{self.balance}\")\n",
    "        \n",
    "BankAccount.\n",
    "a= BankAccount(100,\"Gildong Hong\")\n",
    "a.get_info()\n",
    "\n",
    "a.deposit(400)\n",
    "a.get_info()\n",
    "\n",
    "a.withdraw(600)"
   ]
  },
  {
   "cell_type": "code",
   "execution_count": 78,
   "id": "29c2946a",
   "metadata": {},
   "outputs": [
    {
     "name": "stdout",
     "output_type": "stream",
     "text": [
      "이름:고길동\n",
      "잔고:700\n",
      "이름:고영희\n",
      "잔고:500\n"
     ]
    }
   ],
   "source": [
    "# 실습2 : BankAccount 클래스에 계좌이체 메서드 추가 구현\n",
    "\n",
    "class BankAccount : \n",
    "    def __init__(self,balance=0, name=\"none\"): \n",
    "        self.name= name\n",
    "        self.balance = balance\n",
    "        \n",
    "    def deposit(self,amount):\n",
    "        self.balance += amount\n",
    "    \n",
    "    def withdraw(self, amount):\n",
    "        if self.balance < amount :\n",
    "            print(\"잔액 부족\")\n",
    "            return False\n",
    "        else:\n",
    "            self.balance -= amount\n",
    "            return True\n",
    "        \n",
    "    def transfer(self, other,amount):\n",
    "        if self.withdraw(amount):\n",
    "            other.deposit(amount)\n",
    "            \n",
    "    def get_info(self):\n",
    "        print(f\"이름:{self.name}\")\n",
    "        print(f\"잔고:{self.balance}\")\n",
    "        \n",
    "\n",
    "acc1 = BankAccount(1000,\"고길동\")\n",
    "acc2 = BankAccount(200,\"고영희\")\n",
    "acc1.transfer(acc2, 300)\n",
    "acc1.get_info()\n",
    "acc2.get_info()"
   ]
  },
  {
   "cell_type": "code",
   "execution_count": 59,
   "id": "ea21c33d",
   "metadata": {},
   "outputs": [
    {
     "data": {
      "text/plain": [
       "[__main__.D, __main__.C, __main__.A, __main__.B, object]"
      ]
     },
     "execution_count": 59,
     "metadata": {},
     "output_type": "execute_result"
    }
   ],
   "source": [
    "# 상속(Inheritance) : 기존 클래스의 속성을 물려 받아 새로운 클래스를 만드는 것 \n",
    "\n",
    "class A:\n",
    "    a=1\n",
    "    def print_a(self):\n",
    "        print(\"A class\")\n",
    "        \n",
    "class B:\n",
    "    b=1\n",
    "    def print_b(self):\n",
    "        print(\"B class\")\n",
    "        \n",
    "class C(A):\n",
    "    c=1\n",
    "    def print_c(self):\n",
    "        print(\"C class\")\n",
    "        \n",
    "class D(C,B):\n",
    "    d=1\n",
    "    def print_d(self):\n",
    "        print(\"D class\")\n",
    "\n",
    "D.mro()"
   ]
  },
  {
   "cell_type": "code",
   "execution_count": 56,
   "id": "afe25fef",
   "metadata": {},
   "outputs": [
    {
     "data": {
      "text/plain": [
       "[__main__.D, __main__.C, __main__.A, __main__.E, __main__.B, object]"
      ]
     },
     "execution_count": 56,
     "metadata": {},
     "output_type": "execute_result"
    }
   ],
   "source": [
    "class A :\n",
    "    a=1\n",
    "    \n",
    "class B :\n",
    "    b=1\n",
    "\n",
    "\n",
    "class C(A) :\n",
    "    c=1\n",
    "\n",
    "    \n",
    "class E(B) :\n",
    "    e=1\n",
    "    \n",
    "class D(C,E) :\n",
    "    d=1\n",
    "    \n",
    "D.mro()"
   ]
  },
  {
   "cell_type": "code",
   "execution_count": 62,
   "id": "0dab0b35",
   "metadata": {},
   "outputs": [
    {
     "name": "stdout",
     "output_type": "stream",
     "text": [
      "AAAAA\n",
      "BBBBB\n"
     ]
    }
   ],
   "source": [
    "class A():\n",
    "    def __init__(self):\n",
    "        print(\"AAAAA\")\n",
    "        self.var1=0\n",
    "        \n",
    "class B(A):\n",
    "    def __init__(self):\n",
    "        super().__init__()\n",
    "        print(\"BBBBB\")\n",
    "        self.var3=0\n",
    "        \n",
    "b=B()"
   ]
  },
  {
   "cell_type": "code",
   "execution_count": 83,
   "id": "799896c4",
   "metadata": {},
   "outputs": [
    {
     "name": "stdout",
     "output_type": "stream",
     "text": [
      "이름:Kim\n",
      "잔고:1500\n",
      "최소 잔고: 1000\n"
     ]
    },
    {
     "data": {
      "text/plain": [
       "True"
      ]
     },
     "execution_count": 83,
     "metadata": {},
     "output_type": "execute_result"
    }
   ],
   "source": [
    "# 실습 3 : 최소 잔액을 유지해야 하는 계좌 클래스를 만드세요\n",
    "# 기본적으로 기존 실습 문제1의 계좌와 기능 동일함\n",
    "# 하지만 출금시 잔액이 최소 잔액 미만이 되면 출금 못함 그리고 “최소 잔액을 유지해야 합니다” 메세지 출력\n",
    "\n",
    "class MinimumBalanceAccount(BankAccount):\n",
    "    def __init__(self, balance=0, name=\"none\", min_bal=0):\n",
    "        super().__init__(balance,name)\n",
    "        self.min_bal= min_bal\n",
    "\n",
    "    def withdraw (self, amount):\n",
    "        if self.balance-self.min_bal < amount :\n",
    "            print(\"최소 잔액을 유지해야 합니다.\")\n",
    "            return False\n",
    "        else :\n",
    "            self.balance -= amount\n",
    "            return True\n",
    "    def get_info(self):\n",
    "        super().get_info()\n",
    "        print(\"최소 잔고:\",self.min_bal)\n",
    "    \n",
    "        \n",
    "acc=MinimumBalanceAccount(500,\"Kim\", 1000)\n",
    "acc.deposit(1000)\n",
    "acc.get_info()\n",
    "acc.withdraw(500)"
   ]
  },
  {
   "cell_type": "code",
   "execution_count": 138,
   "id": "060e8aa0",
   "metadata": {},
   "outputs": [
    {
     "name": "stdout",
     "output_type": "stream",
     "text": [
      "이름:none\n",
      "잔고:0\n",
      "add\n",
      "이름:none\n",
      "잔고:1000\n"
     ]
    }
   ],
   "source": [
    "# 실습 3 : 최소 잔액을 유지해야 하는 계좌 클래스를 만드세요\n",
    "# 기본적으로 기존 실습 문제1의 계좌와 기능 동일함\n",
    "# 하지만 출금시 잔액이 최소 잔액 미만이 되면 출금 못함 그리고 “최소 잔액을 유지해야 합니다” 메세지 출력\n",
    "\n",
    "class BankAccount : \n",
    "    def __init__(self,balance=0, name=\"none\"): \n",
    "        self.name= name\n",
    "        self.balance = balance\n",
    "        \n",
    "    def deposit(self,amount):\n",
    "        self.balance += amount\n",
    "    \n",
    "    def withdraw(self, amount):\n",
    "        if self.balance < amount :\n",
    "            print(\"잔액 부족\")\n",
    "            return False\n",
    "        else:\n",
    "            self.balance -= amount\n",
    "            return True\n",
    "        \n",
    "    def transfer(self, other,amount):\n",
    "        if self.withdraw(amount):\n",
    "            other.deposit(amount)\n",
    "            \n",
    "    def get_info(self):\n",
    "        print(f\"이름:{self.name}\")\n",
    "        print(f\"잔고:{self.balance}\")\n",
    "        \n",
    "    def __add__(self, amount):\n",
    "        print(\"add\")\n",
    "        self.deposit(amount)\n",
    "        \n",
    "    def __iadd__(self, amount):\n",
    "        print(\"iadd\")\n",
    "        self.deposit(amount)\n",
    "        return self\n",
    "        \n",
    "a= BankAccount()\n",
    "a\n",
    "a.get_info()\n",
    "a+ 1000\n",
    "a.get_info()\n",
    "\n"
   ]
  },
  {
   "cell_type": "code",
   "execution_count": 141,
   "id": "808df2ef",
   "metadata": {},
   "outputs": [
    {
     "data": {
      "text/plain": [
       "[1, 2, 3, 4, 5, 6]"
      ]
     },
     "execution_count": 141,
     "metadata": {},
     "output_type": "execute_result"
    }
   ],
   "source": [
    "# 과제 1 : Set 만들기 \n",
    "\n",
    "class SET : \n",
    "    \n",
    "    def __init__(self, _list=[]): \n",
    "        self.list=[]\n",
    "        for i in _list :\n",
    "            if not i in self.list :\n",
    "                self.list.append(i)\n",
    "                \n",
    "# Set에 elem이 존재하지 않으면 추가  \n",
    "\n",
    "    def ADD(self,elem):\n",
    "        if \n",
    "\n",
    "    def DISCARD (self, elem):\n",
    "\n",
    "    def CLEAR(self, elem):\n",
    "        self.elem=[]\n",
    "        \n",
    "        \n",
    "a=SET([1,2,3,3,4,4,5,6])\n",
    "a.list"
   ]
  },
  {
   "cell_type": "code",
   "execution_count": 133,
   "id": "e49ec27c",
   "metadata": {},
   "outputs": [
    {
     "data": {
      "text/plain": [
       "[1, 2, 3, 4, 5]"
      ]
     },
     "execution_count": 133,
     "metadata": {},
     "output_type": "execute_result"
    }
   ],
   "source": [
    "# 실습2 : BankAccount 클래스에 계좌이체 메서드 추가 구현\n",
    "\n",
    "class SET : \n",
    "    def __init__(self, _l=[]): \n",
    "        self.list= _l\n",
    "        \n",
    "    def ADD(self,num):\n",
    "        if self\n",
    "    \n",
    "    def DISCARD (self, elem):\n",
    "\n",
    "    def CLEAR(self, elem):\n",
    "        self.elem=[]\n"
   ]
  },
  {
   "cell_type": "code",
   "execution_count": null,
   "id": "cffb700e",
   "metadata": {},
   "outputs": [],
   "source": []
  },
  {
   "cell_type": "code",
   "execution_count": null,
   "id": "5de7fc07",
   "metadata": {},
   "outputs": [],
   "source": []
  },
  {
   "cell_type": "code",
   "execution_count": null,
   "id": "f78d2670",
   "metadata": {},
   "outputs": [],
   "source": []
  },
  {
   "cell_type": "code",
   "execution_count": null,
   "id": "041f47b6",
   "metadata": {},
   "outputs": [],
   "source": []
  }
 ],
 "metadata": {
  "kernelspec": {
   "display_name": "Python 3 (ipykernel)",
   "language": "python",
   "name": "python3"
  },
  "language_info": {
   "codemirror_mode": {
    "name": "ipython",
    "version": 3
   },
   "file_extension": ".py",
   "mimetype": "text/x-python",
   "name": "python",
   "nbconvert_exporter": "python",
   "pygments_lexer": "ipython3",
   "version": "3.10.9"
  }
 },
 "nbformat": 4,
 "nbformat_minor": 5
}
