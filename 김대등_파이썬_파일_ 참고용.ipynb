{
 "cells": [
  {
   "cell_type": "code",
   "execution_count": 38,
   "id": "114d942d",
   "metadata": {},
   "outputs": [
    {
     "name": "stdout",
     "output_type": "stream",
     "text": [
      "Enter a file name: test.txt\n",
      "FIRST LINE\n",
      "SECOND LINE\n",
      "THIRD LINE\n"
     ]
    }
   ],
   "source": [
    "import os \n",
    "\n",
    "filename = input(\"Enter a file name: \")\n",
    "if os.path.isfile(filename)==True:\n",
    "    fr= open(filename, \"r\")\n",
    "    print(fr.read().upper())    \n",
    "    fr.close()\n",
    "else : \n",
    "    print(\"파일이 존재하지 않는다\")\n",
    "    "
   ]
  },
  {
   "cell_type": "code",
   "execution_count": 10,
   "id": "22ba7746",
   "metadata": {},
   "outputs": [
    {
     "data": {
      "text/plain": [
       "<_io.TextIOWrapper name='score.txt' mode='r' encoding='UTF-8'>"
      ]
     },
     "execution_count": 10,
     "metadata": {},
     "output_type": "execute_result"
    }
   ],
   "source": [
    "fr= open(\"score.txt\",\"r\")\n",
    "fw = open(\"report.txt\",\"w\")\n",
    "\n",
    "for line in fr :\n",
    "    sid, mid, fin = [x for x in line.split()]\n",
    "\n",
    "    fw.write(data)\n",
    "fw.close()\n"
   ]
  }
 ],
 "metadata": {
  "kernelspec": {
   "display_name": "Python 3 (ipykernel)",
   "language": "python",
   "name": "python3"
  },
  "language_info": {
   "codemirror_mode": {
    "name": "ipython",
    "version": 3
   },
   "file_extension": ".py",
   "mimetype": "text/x-python",
   "name": "python",
   "nbconvert_exporter": "python",
   "pygments_lexer": "ipython3",
   "version": "3.10.9"
  }
 },
 "nbformat": 4,
 "nbformat_minor": 5
}
