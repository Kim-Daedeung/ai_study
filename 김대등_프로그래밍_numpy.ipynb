{
 "cells": [
  {
   "cell_type": "code",
   "execution_count": 13,
   "id": "efb1480a",
   "metadata": {},
   "outputs": [
    {
     "name": "stdout",
     "output_type": "stream",
     "text": [
      "2\n",
      "(2, 3)\n",
      "6\n",
      "int64\n",
      "8\n",
      "<memory at 0x7f1b941caa80>\n"
     ]
    }
   ],
   "source": [
    "import numpy as np\n",
    "\n",
    "a= np.array([[1,2,3,],[4,5,6]])\n",
    "print(a.ndim)\n",
    "print(a.shape)\n",
    "print(a.size)\n",
    "print(a.dtype)\n",
    "print(a.itemsize)\n",
    "print(a.data)"
   ]
  },
  {
   "cell_type": "code",
   "execution_count": 86,
   "id": "39607bee",
   "metadata": {},
   "outputs": [
    {
     "name": "stdout",
     "output_type": "stream",
     "text": [
      "[[4.9e-324 4.4e-323]\n",
      " [4.9e-324 2.5e-323]]\n",
      "[1.2 3.5 5.1]\n"
     ]
    }
   ],
   "source": [
    "a=np.ndarray((2,2))\n",
    "b=np.array([1.2,3.5,5.1])\n",
    "print(a)\n",
    "print(b)"
   ]
  },
  {
   "cell_type": "code",
   "execution_count": 20,
   "id": "8a15ac73",
   "metadata": {},
   "outputs": [
    {
     "name": "stdout",
     "output_type": "stream",
     "text": [
      "[[1.+0.j 2.+0.j]\n",
      " [3.+0.j 4.+0.j]]\n"
     ]
    }
   ],
   "source": [
    "c= np.array([[1,2],[3,4]], dtype=complex) \n",
    "print(c)"
   ]
  },
  {
   "cell_type": "code",
   "execution_count": 34,
   "id": "a31d2c3a",
   "metadata": {},
   "outputs": [
    {
     "name": "stdout",
     "output_type": "stream",
     "text": [
      "[[0. 0. 0. 0.]\n",
      " [0. 0. 0. 0.]\n",
      " [0. 0. 0. 0.]]\n",
      "\n",
      "[[[1 1 1 1]\n",
      "  [1 1 1 1]\n",
      "  [1 1 1 1]]\n",
      "\n",
      " [[1 1 1 1]\n",
      "  [1 1 1 1]\n",
      "  [1 1 1 1]]]\n",
      "[[1.39069238e-309 1.39069238e-309 1.39069238e-309]\n",
      " [1.39069238e-309 1.39069238e-309 1.39069238e-309]]\n"
     ]
    }
   ],
   "source": [
    "print(np.zeros((3,4))\n",
    "b= np.ones((2,3,4), dtype=np.int16)\n",
    "print(b)\n",
    "\n"
   ]
  },
  {
   "cell_type": "code",
   "execution_count": 37,
   "id": "74cfd3a0",
   "metadata": {},
   "outputs": [
    {
     "ename": "SyntaxError",
     "evalue": "unexpected character after line continuation character (1697398507.py, line 1)",
     "output_type": "error",
     "traceback": [
      "\u001b[0;36m  Cell \u001b[0;32mIn[37], line 1\u001b[0;36m\u001b[0m\n\u001b[0;31m    np.empty((2,3),end=\"\"\\n\")\u001b[0m\n\u001b[0m                          ^\u001b[0m\n\u001b[0;31mSyntaxError\u001b[0m\u001b[0;31m:\u001b[0m unexpected character after line continuation character\n"
     ]
    }
   ],
   "source": [
    "np.empty((2,3),end=\"\")"
   ]
  },
  {
   "cell_type": "code",
   "execution_count": 39,
   "id": "62c36a22",
   "metadata": {},
   "outputs": [
    {
     "data": {
      "text/plain": [
       "array([10, 15, 20, 25])"
      ]
     },
     "execution_count": 39,
     "metadata": {},
     "output_type": "execute_result"
    }
   ],
   "source": [
    "np.arange(10,30,5)"
   ]
  },
  {
   "cell_type": "code",
   "execution_count": 41,
   "id": "cd39acb0",
   "metadata": {},
   "outputs": [
    {
     "data": {
      "text/plain": [
       "array([0. , 0.3, 0.6, 0.9, 1.2, 1.5, 1.8])"
      ]
     },
     "execution_count": 41,
     "metadata": {},
     "output_type": "execute_result"
    }
   ],
   "source": [
    "np.arange(0,2,0.3) # np.arange(n,m,x) n과 m 사이를 x 만큼 계속 더해서 출력\n"
   ]
  },
  {
   "cell_type": "code",
   "execution_count": 43,
   "id": "59866c14",
   "metadata": {},
   "outputs": [
    {
     "data": {
      "text/plain": [
       "array([0.  , 0.25, 0.5 , 0.75, 1.  , 1.25, 1.5 , 1.75, 2.  ])"
      ]
     },
     "execution_count": 43,
     "metadata": {},
     "output_type": "execute_result"
    }
   ],
   "source": [
    "np.linspace(0,2,9) # np.linspace (n,m,x) n부터 m 까지 x개로 나눔"
   ]
  },
  {
   "cell_type": "code",
   "execution_count": 45,
   "id": "1fa53916",
   "metadata": {},
   "outputs": [
    {
     "data": {
      "text/plain": [
       "array([ 0,  1,  2,  3,  4,  5,  6,  7,  8,  9, 10, 11])"
      ]
     },
     "execution_count": 45,
     "metadata": {},
     "output_type": "execute_result"
    }
   ],
   "source": [
    "np.arange(12) # 0부터 입력한 n-1 까지 "
   ]
  },
  {
   "cell_type": "code",
   "execution_count": 55,
   "id": "5f0148f8",
   "metadata": {},
   "outputs": [
    {
     "name": "stdout",
     "output_type": "stream",
     "text": [
      "[[ 0  1  2]\n",
      " [ 3  4  5]\n",
      " [ 6  7  8]\n",
      " [ 9 10 11]]\n",
      "[[[ 0  1]\n",
      "  [ 2  3]\n",
      "  [ 4  5]]\n",
      "\n",
      " [[ 6  7]\n",
      "  [ 8  9]\n",
      "  [10 11]]\n",
      "\n",
      " [[12 13]\n",
      "  [14 15]\n",
      "  [16 17]]\n",
      "\n",
      " [[18 19]\n",
      "  [20 21]\n",
      "  [22 23]]]\n"
     ]
    }
   ],
   "source": [
    "b=np.arange(12).reshape(4,3) # reshape 개수 안맞으면 오류 \n",
    "print(b)\n",
    "\n",
    "c =np.arange(24).reshape(4,3,2) # reshape 개수 안맞으면 오류 \n",
    "print(c)"
   ]
  },
  {
   "cell_type": "code",
   "execution_count": 61,
   "id": "564134c9",
   "metadata": {},
   "outputs": [
    {
     "name": "stdout",
     "output_type": "stream",
     "text": [
      "[0 1 2 3 4 5 6 7 8 9]\n",
      "2\n",
      "2\n"
     ]
    }
   ],
   "source": [
    "x= np.arange(10)\n",
    "print(x)\n",
    "print(x[2])\n",
    "print(x[-8])"
   ]
  },
  {
   "cell_type": "code",
   "execution_count": 63,
   "id": "45456d7a",
   "metadata": {},
   "outputs": [
    {
     "name": "stdout",
     "output_type": "stream",
     "text": [
      "8\n",
      "9\n"
     ]
    }
   ],
   "source": [
    "x.shape=(2,5) # 2행 5열로 만듬 \n",
    "print(x[1,3])\n",
    "print(x[1,-1])"
   ]
  },
  {
   "cell_type": "code",
   "execution_count": 66,
   "id": "18bac85f",
   "metadata": {},
   "outputs": [
    {
     "name": "stdout",
     "output_type": "stream",
     "text": [
      "[0 1 2 3 4]\n",
      "2\n",
      "2\n"
     ]
    }
   ],
   "source": [
    "print(x[0])\n",
    "print(x[0][2]) # 2,3번째 코드 출력값 같음\n",
    "print(x[0,2]) "
   ]
  },
  {
   "cell_type": "code",
   "execution_count": 72,
   "id": "28f60dfd",
   "metadata": {},
   "outputs": [
    {
     "name": "stdout",
     "output_type": "stream",
     "text": [
      "[[1 2 3]\n",
      " [4 5 6]\n",
      " [7 8 9]]\n",
      "[1 6 7 2]\n",
      "1 [1, 2] [2, 0] [0, 1]\n",
      "[1 9 1 5]\n",
      "\n"
     ]
    }
   ],
   "source": [
    "a= np.array([[1,2,3],\n",
    "             [4,5,6],\n",
    "             [7,8,9]])\n",
    "\n",
    "print(a)\n",
    "print(a[[0,1,2,0],[0,2,0,1]])\n",
    "\n",
    "b= np.array([0,2,0,1])\n",
    "print(a[b,b])\n",
    "print()"
   ]
  },
  {
   "cell_type": "code",
   "execution_count": 80,
   "id": "ec11884e",
   "metadata": {},
   "outputs": [
    {
     "name": "stdout",
     "output_type": "stream",
     "text": [
      "[2 3 4]\n",
      "[0 1 2]\n",
      "[1 3 5]\n",
      "[[ 7  8  9 10 11 12 13]\n",
      " [21 22 23 24 25 26 27]]\n",
      "[[ 7 10 13]\n",
      " [21 24 27]]\n"
     ]
    }
   ],
   "source": [
    "x=np.arange(10)\n",
    "print(x[2:5])\n",
    "print(x[:-7]) # 뒤에 7개 짜르겠다 \n",
    "print(x[1:7:2]) # 1에서 7 까지 2간격으로 출력 \n",
    "y=np.arange(35).reshape(5,7)\n",
    "\n",
    "print(y[1:5:2])\n",
    "print(y[1:5:2,::3])"
   ]
  },
  {
   "cell_type": "code",
   "execution_count": 87,
   "id": "9040a392",
   "metadata": {},
   "outputs": [
    {
     "name": "stdout",
     "output_type": "stream",
     "text": [
      "[3 4 5]\n"
     ]
    }
   ],
   "source": [
    "a=np.array(range(6)).reshape(2,3)\n",
    "print(a[a>2])"
   ]
  },
  {
   "cell_type": "code",
   "execution_count": 98,
   "id": "db9a773e",
   "metadata": {},
   "outputs": [
    {
     "name": "stdout",
     "output_type": "stream",
     "text": [
      "[[ 1  2  3  4]\n",
      " [ 5  6  7  8]\n",
      " [ 9 10 11 12]]\n",
      "[[1 2 3 4]\n",
      " [5 6 7 8]]\n",
      "[[ 2  3]\n",
      " [ 6  7]\n",
      " [10 11]]\n",
      "[[-1  2  3  4]\n",
      " [ 5  6  7  8]\n",
      " [ 9 10 11 12]]\n",
      "[[ 2  3]\n",
      " [ 6  7]\n",
      " [10 11]]\n",
      "[[ 4  6]\n",
      " [12 14]\n",
      " [20 22]]\n"
     ]
    }
   ],
   "source": [
    "a=np.array(range(1,13)).reshape(3,4)\n",
    "print(a)\n",
    "\n",
    "b=a[:2]\n",
    "print(b)\n",
    "\n",
    "c=a[:,1:3]\n",
    "print(c)\n",
    "\n",
    "b[0,0]= -1\n",
    "print(a)\n",
    "\n",
    "d=a[:,1:3]\n",
    "print(d)\n",
    "\n",
    "e=c+d\n",
    "print(e) # 행열이 일치하면 연산 가능 \n"
   ]
  },
  {
   "cell_type": "code",
   "execution_count": 101,
   "id": "b5997811",
   "metadata": {},
   "outputs": [
    {
     "name": "stdout",
     "output_type": "stream",
     "text": [
      "[[ 1  2  3  4]\n",
      " [ 5  6  7  8]\n",
      " [ 9 10 11 12]]\n",
      "[[1 2 3 4]\n",
      " [5 6 7 8]]\n",
      "[[-1  2  3  4]\n",
      " [ 5  6  7  8]]\n",
      "[[ 1  2  3  4]\n",
      " [ 5  6  7  8]\n",
      " [ 9 10 11 12]]\n"
     ]
    }
   ],
   "source": [
    "a=np.array(range(1,13)).reshape(3,4)\n",
    "print(a)\n",
    "\n",
    "b= np.copy(a[:2])\n",
    "print(b)\n",
    "\n",
    "b[0,0]=-1\n",
    "print(b)\n",
    "\n",
    "print(a)"
   ]
  },
  {
   "cell_type": "code",
   "execution_count": 104,
   "id": "6f08b59f",
   "metadata": {},
   "outputs": [
    {
     "name": "stdout",
     "output_type": "stream",
     "text": [
      "[[4. 5. 1. 3.]\n",
      " [2. 0. 8. 1.]\n",
      " [9. 6. 7. 2.]]\n"
     ]
    }
   ],
   "source": [
    "a=np.floor(10*np.random.random((3,4)))\n",
    "print(a)"
   ]
  },
  {
   "cell_type": "code",
   "execution_count": 114,
   "id": "34b775a5",
   "metadata": {},
   "outputs": [
    {
     "name": "stdout",
     "output_type": "stream",
     "text": [
      "(3, 4)\n",
      "[4. 5. 1. 3. 2. 0. 8. 1. 9. 6. 7. 2.]\n",
      "[[4. 5.]\n",
      " [1. 3.]\n",
      " [2. 0.]\n",
      " [8. 1.]\n",
      " [9. 6.]\n",
      " [7. 2.]]\n",
      "[[4. 2. 9.]\n",
      " [5. 0. 6.]\n",
      " [1. 8. 7.]\n",
      " [3. 1. 2.]]\n"
     ]
    }
   ],
   "source": [
    "print(a.shape)\n",
    "print(a.ravel()) # 1차원으로 바꿔버림\n",
    "print(a.reshape(6,2))\n",
    "print(a.T) # 가로와 세로 바뀜 (3행 4열 , 4행 3열) "
   ]
  },
  {
   "cell_type": "code",
   "execution_count": 118,
   "id": "686e308a",
   "metadata": {},
   "outputs": [
    {
     "name": "stdout",
     "output_type": "stream",
     "text": [
      "[[4. 5. 1. 3. 2. 0.]\n",
      " [8. 1. 9. 6. 7. 2.]]\n",
      "[[4. 5. 1. 3. 2. 0.]\n",
      " [8. 1. 9. 6. 7. 2.]]\n",
      "[[4. 5. 1. 3.]\n",
      " [2. 0. 8. 1.]\n",
      " [9. 6. 7. 2.]]\n"
     ]
    }
   ],
   "source": [
    "print(a)\n",
    "a.resize((2,6))\n",
    "print(a)\n",
    "print(a.reshape(3,-1)) # -1을 넣으면 앞에 3행만 해서 알아서 계산"
   ]
  },
  {
   "cell_type": "code",
   "execution_count": 124,
   "id": "de8c3bcc",
   "metadata": {},
   "outputs": [
    {
     "name": "stdout",
     "output_type": "stream",
     "text": [
      "[[1. 6.]\n",
      " [1. 3.]]\n",
      "[[0. 5.]\n",
      " [2. 2.]]\n",
      "[[1. 6.]\n",
      " [1. 3.]\n",
      " [0. 5.]\n",
      " [2. 2.]]\n",
      "[[1. 6. 0. 5.]\n",
      " [1. 3. 2. 2.]]\n"
     ]
    }
   ],
   "source": [
    "a=np.floor(10*np.random.random((2,2)))\n",
    "b=np.floor(10*np.random.random((2,2)))\n",
    "print(a)\n",
    "print(b)\n",
    "\n",
    "print(np.vstack((a,b))) # 행열에 밑에 갖다 붙임 ()\n",
    "\n",
    "print(np.hstack((a,b))) # 행열에 오른쪽 편에 갖다 붙임 "
   ]
  },
  {
   "cell_type": "code",
   "execution_count": 128,
   "id": "3457b05b",
   "metadata": {},
   "outputs": [
    {
     "name": "stdout",
     "output_type": "stream",
     "text": [
      "[[6. 5. 4. 8. 7. 1.]\n",
      " [0. 5. 2. 1. 0. 2.]]\n",
      "[array([[6., 5.],\n",
      "       [0., 5.]]), array([[4., 8.],\n",
      "       [2., 1.]]), array([[7., 1.],\n",
      "       [0., 2.]])]\n",
      "[array([[6., 5., 4., 8., 7., 1.]]), array([[0., 5., 2., 1., 0., 2.]])]\n"
     ]
    }
   ],
   "source": [
    "a=np.floor(10*np.random.random(12)).reshape(2,6)\n",
    "print(a)\n",
    "print(np.hsplit(a,3)) # 행열 왼쪽 오른쪽으로 나눠짐 \n",
    "\n",
    "print(np.vsplit(a,2)) # 행열 위아래로 나눠줌 "
   ]
  },
  {
   "cell_type": "code",
   "execution_count": 142,
   "id": "f8d8243d",
   "metadata": {},
   "outputs": [
    {
     "name": "stdout",
     "output_type": "stream",
     "text": [
      "[[1. 1. 1. 1. 1.]\n",
      " [1. 0. 0. 0. 1.]\n",
      " [1. 0. 0. 0. 1.]\n",
      " [1. 0. 0. 0. 1.]\n",
      " [1. 1. 1. 1. 1.]]\n",
      "[[0. 0. 0. 0. 0.]\n",
      " [0. 1. 1. 1. 0.]\n",
      " [0. 1. 1. 1. 0.]\n",
      " [0. 1. 1. 1. 0.]\n",
      " [0. 0. 0. 0. 0.]]\n"
     ]
    }
   ],
   "source": [
    "a= np.ones((5,5))\n",
    "b= np.zeros((5,5))\n",
    "\n",
    "a[1:4,1:4]=0\n",
    "print(a)\n",
    "\n",
    "b[1:4,1:4]=1\n",
    "print(b)"
   ]
  },
  {
   "cell_type": "code",
   "execution_count": 169,
   "id": "42f51b58",
   "metadata": {},
   "outputs": [
    {
     "name": "stdout",
     "output_type": "stream",
     "text": [
      "[[1. 1. 1. 1. 1. 1. 1. 1.]\n",
      " [1. 1. 1. 1. 1. 1. 1. 1.]\n",
      " [1. 1. 1. 1. 1. 1. 1. 1.]\n",
      " [1. 1. 1. 1. 1. 1. 1. 1.]\n",
      " [1. 1. 1. 1. 1. 1. 1. 1.]\n",
      " [1. 1. 1. 1. 1. 1. 1. 1.]\n",
      " [1. 1. 1. 1. 1. 1. 1. 1.]\n",
      " [1. 1. 1. 1. 1. 1. 1. 1.]]\n",
      "[[0. 1. 0. 1. 0. 1. 0. 1.]\n",
      " [1. 0. 1. 0. 1. 0. 1. 0.]\n",
      " [0. 1. 0. 1. 0. 1. 0. 1.]\n",
      " [1. 0. 1. 0. 1. 0. 1. 0.]\n",
      " [0. 1. 0. 1. 0. 1. 0. 1.]\n",
      " [1. 0. 1. 0. 1. 0. 1. 0.]\n",
      " [0. 1. 0. 1. 0. 1. 0. 1.]\n",
      " [1. 0. 1. 0. 1. 0. 1. 0.]]\n"
     ]
    }
   ],
   "source": [
    "a= np.ones((8,8))\n",
    "print(a)\n",
    "a[0:7:2,0:7:2]=0\n",
    "a[1:8:2,1:8:2]=0\n",
    "print(a)"
   ]
  },
  {
   "cell_type": "code",
   "execution_count": 188,
   "id": "f6be7971",
   "metadata": {},
   "outputs": [
    {
     "name": "stdout",
     "output_type": "stream",
     "text": [
      "[[[180  72]\n",
      "  [172  66]\n",
      "  [162  60]\n",
      "  [167  53]]\n",
      "\n",
      " [[176  80]\n",
      "  [155  60]\n",
      "  [177  77]\n",
      "  [130  40]]]\n"
     ]
    }
   ],
   "source": [
    "a=np.array([180,72,172,66,162,60,167,53,176,80,155,60,177,77,130,40])\n",
    "b=a.reshape(2,4,2)\n",
    "print(b)"
   ]
  },
  {
   "cell_type": "code",
   "execution_count": 193,
   "id": "6f323a61",
   "metadata": {},
   "outputs": [
    {
     "data": {
      "text/plain": [
       "array([ 9.12945251, -9.88031624,  7.4511316 , -2.62374854])"
      ]
     },
     "execution_count": 193,
     "metadata": {},
     "output_type": "execute_result"
    }
   ],
   "source": [
    "a=np.array([20,30,40,50])\n",
    "b= np.arange(4)\n",
    "10*np.sin(a) "
   ]
  },
  {
   "cell_type": "code",
   "execution_count": 199,
   "id": "ee60b78d",
   "metadata": {},
   "outputs": [
    {
     "data": {
      "text/plain": [
       "array([[ 0,  1,  2,  3],\n",
       "       [ 4,  6,  8, 10],\n",
       "       [12, 15, 18, 21]])"
      ]
     },
     "execution_count": 199,
     "metadata": {},
     "output_type": "execute_result"
    }
   ],
   "source": [
    "b=np.arange(12).reshape(3,4)\n",
    "b.sum(axis=0) # 위, 아래로 다 더함 \n",
    "b.min(axis=1) # 왼, 오른쪽 모든 수 중 가장 작은 수  \n",
    "\n",
    "b.cumsum(axis=1) # 누적해서 더한 값 왼쪽에서 오른쪽으로  \n",
    "b.cumsum(axis=0) # 누적해서 더한 값 위에서 아래로 "
   ]
  },
  {
   "cell_type": "code",
   "execution_count": 201,
   "id": "066e474a",
   "metadata": {},
   "outputs": [
    {
     "data": {
      "text/plain": [
       "array([1.        , 2.71828183, 7.3890561 ])"
      ]
     },
     "execution_count": 201,
     "metadata": {},
     "output_type": "execute_result"
    }
   ],
   "source": [
    "B= np.arange(3)\n",
    "np.exp(B)"
   ]
  },
  {
   "cell_type": "code",
   "execution_count": 202,
   "id": "8fb785ef",
   "metadata": {},
   "outputs": [
    {
     "data": {
      "text/plain": [
       "array([0.        , 1.        , 1.41421356])"
      ]
     },
     "execution_count": 202,
     "metadata": {},
     "output_type": "execute_result"
    }
   ],
   "source": [
    "np.sqrt(B)"
   ]
  },
  {
   "cell_type": "code",
   "execution_count": 228,
   "id": "acf85563",
   "metadata": {},
   "outputs": [
    {
     "name": "stdout",
     "output_type": "stream",
     "text": [
      "[[ 1  2  3]\n",
      " [ 4  5  6]\n",
      " [ 7  8  9]\n",
      " [10 11 12]]/n/n[[ 1  2  3]\n",
      " [ 4  5  6]\n",
      " [ 7  8  9]\n",
      " [10 11 12]]\n",
      "\n",
      "[[ 2  2  4]\n",
      " [ 5  5  7]\n",
      " [ 8  8 10]\n",
      " [11 11 13]]\n"
     ]
    }
   ],
   "source": [
    "x=np.array(range(1,13)).reshape(4,3)\n",
    "print(x, end=\"/n/n\")\n",
    "v=np.array([1,0,1])\n",
    "y=np.empty_like(x)\n",
    "print(y,end=\"\\n\\n\")\n",
    "for i in range(len(x)):\n",
    "    y[i,:] = x[i,:]+v\n",
    "print(y)"
   ]
  },
  {
   "cell_type": "code",
   "execution_count": 229,
   "id": "2b5f30af",
   "metadata": {},
   "outputs": [
    {
     "name": "stdout",
     "output_type": "stream",
     "text": [
      "[[ 1  2  3]\n",
      " [ 4  5  6]\n",
      " [ 7  8  9]\n",
      " [10 11 12]]\n",
      "\n",
      "[[ 2  2  4]\n",
      " [ 5  5  7]\n",
      " [ 8  8 10]\n",
      " [11 11 13]]\n"
     ]
    }
   ],
   "source": [
    "x=np.array(range(1,13)).reshape(4,3)\n",
    "print(x, end=\"\\n\\n\")\n",
    "v=np.array([1,0,1])\n",
    "y=x+v\n",
    "print(y)"
   ]
  },
  {
   "cell_type": "code",
   "execution_count": 231,
   "id": "754dd35c",
   "metadata": {},
   "outputs": [
    {
     "name": "stdout",
     "output_type": "stream",
     "text": [
      "[[0]\n",
      " [1]\n",
      " [2]]\n",
      "[0 1 2]\n",
      "[[0 1 2]\n",
      " [1 2 3]\n",
      " [2 3 4]]\n"
     ]
    }
   ],
   "source": [
    "a=np.array([[0],[1],[2]])\n",
    "print(a)\n",
    "b=np.arange(3)\n",
    "print(b)\n",
    "print(a+b)"
   ]
  },
  {
   "cell_type": "code",
   "execution_count": 232,
   "id": "3889ae8e",
   "metadata": {
    "scrolled": true
   },
   "outputs": [
    {
     "name": "stdout",
     "output_type": "stream",
     "text": [
      "[[10.]\n",
      " [ 5.]]\n"
     ]
    }
   ],
   "source": [
    "# 실습 4 \n",
    "\n",
    "def linear_system_solver(ndarr,v) :\n",
    "    return np.linalg.inv(ndarr)@v\n",
    "\n",
    "\n",
    "a= np.array([1,1,2,1]).reshape(2,2)\n",
    "b= np.array([15,25]).reshape(2,1)\n",
    "print(linear_system_solver(a,b))\n"
   ]
  },
  {
   "cell_type": "code",
   "execution_count": 251,
   "id": "20e77408",
   "metadata": {},
   "outputs": [
    {
     "name": "stdout",
     "output_type": "stream",
     "text": [
      "[[0.6 0.  0.4 0.4 0.8 0.6]\n",
      " [0.7 0.4 0.8 0.6 0.2 0. ]\n",
      " [0.3 0.6 0.2 0.3 0.4 0.8]\n",
      " [0.3 0.4 0.5 0.5 0.3 1. ]]\n",
      "\n",
      "[[0 1 2 3 4 5]\n",
      " [0 1 2 3 4 5]\n",
      " [0 1 2 3 4 5]\n",
      " [0 1 2 3 4 5]]\n",
      "\n",
      "[[ True  True  True  True False False]\n",
      " [ True False False False False False]\n",
      " [ True  True  True  True  True  True]\n",
      " [ True  True  True False False False]]\n",
      "\n",
      "[[ 0.6  0.   0.4  0.4 -inf -inf]\n",
      " [ 0.7 -inf -inf -inf -inf -inf]\n",
      " [ 0.3  0.6  0.2  0.3  0.4  0.8]\n",
      " [ 0.3  0.4  0.5 -inf -inf -inf]]\n"
     ]
    }
   ],
   "source": [
    "# 실습 5\n",
    "data=np.random.rand(4,6).round(1)\n",
    "print(data)\n",
    "print()\n",
    "length=np.array([4,1,6,3])\n",
    "length=np.expand_dims(length,1)\n",
    "maxlen= data.shape[1]\n",
    "idx=np.arange(maxlen)\n",
    "idx=np.tile(idx,(4,1))\n",
    "print(idx)\n",
    "print()\n",
    "mask = idx < length\n",
    "print(mask)\n",
    "print()\n",
    "data[~mask]=float('-inf')\n",
    "print(data)"
   ]
  },
  {
   "cell_type": "code",
   "execution_count": 225,
   "id": "813b4992",
   "metadata": {},
   "outputs": [
    {
     "data": {
      "text/plain": [
       "array([[15, 30],\n",
       "       [25, 25]])"
      ]
     },
     "execution_count": 225,
     "metadata": {},
     "output_type": "execute_result"
    }
   ],
   "source": []
  },
  {
   "cell_type": "code",
   "execution_count": 214,
   "id": "7f41e7ab",
   "metadata": {},
   "outputs": [
    {
     "data": {
      "text/plain": [
       "array([[15],\n",
       "       [25]])"
      ]
     },
     "execution_count": 214,
     "metadata": {},
     "output_type": "execute_result"
    }
   ],
   "source": [
    "x= np.array([[15],[25]])\n",
    "x"
   ]
  }
 ],
 "metadata": {
  "kernelspec": {
   "display_name": "Python 3 (ipykernel)",
   "language": "python",
   "name": "python3"
  },
  "language_info": {
   "codemirror_mode": {
    "name": "ipython",
    "version": 3
   },
   "file_extension": ".py",
   "mimetype": "text/x-python",
   "name": "python",
   "nbconvert_exporter": "python",
   "pygments_lexer": "ipython3",
   "version": "3.10.9"
  }
 },
 "nbformat": 4,
 "nbformat_minor": 5
}
