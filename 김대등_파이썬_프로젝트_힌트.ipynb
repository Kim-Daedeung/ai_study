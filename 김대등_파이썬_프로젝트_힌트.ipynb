{
 "cells": [
  {
   "cell_type": "code",
   "execution_count": 13,
   "id": "dd72a494",
   "metadata": {},
   "outputs": [
    {
     "name": "stdout",
     "output_type": "stream",
     "text": [
      "Lee Jieun\n"
     ]
    },
    {
     "data": {
      "text/plain": [
       "[[20180009, 'Lee Yeonghee', 81, 84],\n",
       " [20180002, 'Lee Jieun', 92, 89],\n",
       " [20180007, 'Kim Cheolsu', 57, 62],\n",
       " [20180001, 'Hong Gildong', 84, 73],\n",
       " [20180011, 'Ha Donghun', 58, 68]]"
      ]
     },
     "execution_count": 13,
     "metadata": {},
     "output_type": "execute_result"
    }
   ],
   "source": [
    "# 힌트\n",
    "slist= [[20180001, 'Hong Gildong', 84, 73], [20180002, 'Lee Jieun', 92, 89], \n",
    "        [20180007, 'Kim Cheolsu', 57, 62], [20180009, 'Lee Yeonghee', 81, 84],[20180011, 'Ha Donghun', 58, 68]]\n",
    "\n",
    "print(slist[1][1])\n",
    "\n",
    "slist.sort(key=lambda x : x[1],reverse=True)\n",
    "slist"
   ]
  },
  {
   "cell_type": "code",
   "execution_count": 24,
   "id": "9aade5c9",
   "metadata": {},
   "outputs": [
    {
     "name": "stdout",
     "output_type": "stream",
     "text": [
      "20180001\tHong Gildong\t84\t73\n",
      "20180002\tLee Jieun\t92\t89\n",
      "20180007\tKim Cheolsu\t57\t62\n",
      "20180009\tLee Yeonghee\t81\t84\n",
      "20180011\tHa Donghun\t58\t68\n"
     ]
    }
   ],
   "source": [
    "fr= open(\"students.txt\",\"r\")\n",
    "data = fr.read()\n",
    "print(data,end=\"\")\n",
    "f.close()"
   ]
  },
  {
   "cell_type": "code",
   "execution_count": 25,
   "id": "eb1446f9",
   "metadata": {},
   "outputs": [
    {
     "ename": "IndentationError",
     "evalue": "expected an indented block after 'for' statement on line 5 (3938439720.py, line 6)",
     "output_type": "error",
     "traceback": [
      "\u001b[0;36m  Cell \u001b[0;32mIn[25], line 6\u001b[0;36m\u001b[0m\n\u001b[0;31m    sid, mid, fin = [int(x) for x in i.split()]\u001b[0m\n\u001b[0m    ^\u001b[0m\n\u001b[0;31mIndentationError\u001b[0m\u001b[0;31m:\u001b[0m expected an indented block after 'for' statement on line 5\n"
     ]
    }
   ],
   "source": [
    "\n",
    "def show_function(slist):\n",
    "    \n",
    "    print(\"show\")\n",
    "    \n",
    "    for i in fr :\n",
    "    sid, mid, fin = [int(x) for x in i.split()]\n",
    "    \n",
    "    avg= (mid+fin)/2\n",
    "    if avg >= 90 : \n",
    "        grade= 'A'\n",
    "    elif avg >=80 :\n",
    "        grade= 'B'\n",
    "    elif avg >=70 :\n",
    "        grade= 'C'\n",
    "    elif avg >=60 :\n",
    "        grade= 'D'\n",
    "    else : \n",
    "        grade= 'F'\n",
    "    print(sid,avg,grade)\n",
    "    data= f\"{sid} {avg}({grade})\\n\"\n",
    "    \n",
    "    \n",
    "    slist.sort(key=lambda x : x[5],reverse=True) # avg로 내림차순 정렬 \n",
    "    print(slist)\n",
    "    \n",
    "def search_student():\n",
    "    student_id = input(\"Student ID: \")\n",
    "    if student_id in students_dict:\n",
    "        student_info = students_dict[student_id]\n",
    "        print(\"Student:\", student_id)\n",
    "        print(\"Name:\", student_info[0])\n",
    "        print(\"Midterm:\", student_info[1])\n",
    "        print(\"Final:\", student_info[2])\n",
    "        print(\"Average:\", student_info[3])\n",
    "        print(\"Grade:\", student_info[4])\n",
    "    else:\n",
    "        print(\"NO SUCH PERSON.\")\n",
    "\n",
    "\n",
    "# def quit_function():\n",
    "#     print(\"quit\")\n",
    "    \n",
    "    \n",
    "# stu_list = list()\n",
    "\n",
    "while True:\n",
    "    command = input(\"# \")\n",
    "    if command == \"show\":\n",
    "        show_function(stu_list)\n",
    "    elif command == \"search\":\n",
    "        search_function()\n",
    "    elif command == \"quit\":\n",
    "        quit_function()\n",
    "        break\n",
    "    else:\n",
    "        print(\"wrong input!\")"
   ]
  },
  {
   "cell_type": "code",
   "execution_count": null,
   "id": "f4ab0d86",
   "metadata": {},
   "outputs": [],
   "source": []
  }
 ],
 "metadata": {
  "kernelspec": {
   "display_name": "Python 3 (ipykernel)",
   "language": "python",
   "name": "python3"
  },
  "language_info": {
   "codemirror_mode": {
    "name": "ipython",
    "version": 3
   },
   "file_extension": ".py",
   "mimetype": "text/x-python",
   "name": "python",
   "nbconvert_exporter": "python",
   "pygments_lexer": "ipython3",
   "version": "3.10.9"
  }
 },
 "nbformat": 4,
 "nbformat_minor": 5
}
